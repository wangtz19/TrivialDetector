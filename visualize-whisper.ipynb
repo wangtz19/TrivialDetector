{
 "cells": [
  {
   "attachments": {},
   "cell_type": "markdown",
   "metadata": {},
   "source": [
    "# Visualize Whisper Encoding"
   ]
  },
  {
   "cell_type": "code",
   "execution_count": null,
   "metadata": {},
   "outputs": [],
   "source": [
    "import pandas as pd\n",
    "from utils import Packet, Flow\n",
    "\n",
    "def get_flows(df: pd.DataFrame, key_type: str = \"default\") -> dict:\n",
    "    mp = dict()\n",
    "    for idx in range(len(df)): # simulate the process of packet processing\n",
    "        row = df.iloc[idx]\n",
    "        pkt = Packet(\n",
    "            src_ip=row[\"src_ip\"],\n",
    "            dst_ip=row[\"dst_ip\"],\n",
    "            src_port=row[\"src_port\"],\n",
    "            dst_port=row[\"dst_port\"],\n",
    "            protocol=row[\"protocol\"],\n",
    "            proto_code=row[\"proto_code\"],\n",
    "            pkt_length=row[\"pkt_length\"],\n",
    "            timestamp=row[\"timestamp\"],\n",
    "            ttl=row[\"ttl\"],\n",
    "            tcp_window=row[\"tcp_window\"],\n",
    "            tcp_dataoffset=row[\"tcp_dataoffset\"],\n",
    "            udp_length=row[\"udp_length\"],\n",
    "            label=row[\"label\"],\n",
    "        )\n",
    "        key = pkt.key(type=key_type)\n",
    "        if key not in mp:\n",
    "            mp[key] = Flow()\n",
    "        mp[key].add_packet(pkt)\n",
    "    return mp"
   ]
  },
  {
   "cell_type": "code",
   "execution_count": 3,
   "metadata": {},
   "outputs": [
    {
     "name": "stdout",
     "output_type": "stream",
     "text": [
      "torch.Size([11, 21])\n",
      "torch.Size([11])\n"
     ]
    }
   ],
   "source": [
    "import torch\n",
    "import matplotlib.pyplot as plt\n",
    "\n",
    "n_fft = 20\n",
    "\n",
    "vec = torch.tensor([1, 2, 3, 4, 5, 6, 7, 8, 9, 10] * 10).float()\n",
    "ten_stft = torch.stft(vec, n_fft=n_fft, return_complex=True)\n",
    "print(ten_stft.size())\n",
    "\n",
    "ten_fft = torch.fft.fft(vec, n=n_fft//2+1)\n",
    "print(ten_fft.size())\n",
    "\n",
    "# ten_mag = torch.abs(ten_stft)\n",
    "# fig = plt.figure(figsize=(10, 10))\n",
    "# plt.imshow(ten_mag)\n",
    "# plt.show()"
   ]
  },
  {
   "cell_type": "code",
   "execution_count": 2,
   "metadata": {},
   "outputs": [
    {
     "name": "stdout",
     "output_type": "stream",
     "text": [
      "tensor([15.0000+0.0000j,  9.2254-10.3727j, -1.7361-10.7719j, -6.6008-2.7683j,\n",
      "        -2.5000+3.4410j,  3.0000+2.0000j,  2.7361-2.5429j, -1.3435-2.9399j,\n",
      "        -2.5000+0.8123j,  0.7189+2.6645j,  3.0000+0.0000j,  0.7189-2.6645j,\n",
      "        -2.5000-0.8123j, -1.3435+2.9399j,  2.7361+2.5429j,  3.0000-2.0000j,\n",
      "        -2.5000-3.4410j, -6.6008+2.7683j, -1.7361+10.7719j,  9.2254+10.3727j])\n",
      "tensor([15.0000+0.0000j, -2.5000+3.4410j, -2.5000+0.8123j, -2.5000-0.8123j,\n",
      "        -2.5000-3.4410j])\n",
      "tensor([15.0000+0.0000j, -1.7361-10.7719j, -2.5000+3.4410j,  2.7361-2.5429j,\n",
      "        -2.5000+0.8123j,  3.0000+0.0000j, -2.5000-0.8123j,  2.7361+2.5429j,\n",
      "        -2.5000-3.4410j, -1.7361+10.7719j])\n"
     ]
    }
   ],
   "source": [
    "vec = torch.tensor([1,2,3,4,5])\n",
    "ten_test = torch.fft.fft(vec, n=20)\n",
    "print(ten_test)\n",
    "\n",
    "ten_test = torch.fft.fft(vec, n=5)\n",
    "print(ten_test)\n",
    "\n",
    "ten_test = torch.fft.fft(vec, n=10)\n",
    "print(ten_test)"
   ]
  },
  {
   "cell_type": "code",
   "execution_count": null,
   "metadata": {},
   "outputs": [],
   "source": [
    "import torch\n",
    "\n",
    "def whisper_encoding(vec, n_fft=50):\n",
    "    ten = torch.tensor(vec)\n",
    "    if ten.size(0) <= (n_fft // 2):\n",
    "        return None\n",
    "    # ten_stft = torch.stft(ten, n_fft=n_fft, return_complex=True)\n",
    "    # ten_power = torch.abs(ten_stft)\n",
    "    # ten_res = (ten_power.squeeze()+1).log2()\n",
    "    # ten_res = torch.where(torch.isnan(ten_res), torch.zeros_like(ten_res), ten_res)\n",
    "    # ten_res = torch.where(torch.isinf(ten_res), torch.zeros_like(ten_res), ten_res)\n",
    "\n",
    "    ten_res = []\n",
    "    for idx in range(0, ten.size(0) - n_fft, n_fft):\n",
    "        ten_tmp = ten[idx:idx+n_fft]\n",
    "        ten_fft = torch.fft.fft(ten_tmp, n=len(ten_tmp)//2+1)\n",
    "        ten_power = torch.abs(ten_fft)\n",
    "        tmp_res = (ten_power.squeeze()+1).log2()\n",
    "        tmp_res = torch.where(torch.isnan(tmp_res), torch.zeros_like(tmp_res), tmp_res)\n",
    "        tmp_res = torch.where(torch.isinf(tmp_res), torch.zeros_like(tmp_res), tmp_res)\n",
    "        ten_res.append(list(tmp_res))\n",
    "    ten_res = torch.tensor(ten_res).T\n",
    "        \n",
    "    return ten_res"
   ]
  },
  {
   "cell_type": "code",
   "execution_count": null,
   "metadata": {},
   "outputs": [],
   "source": [
    "import pandas as pd\n",
    "\n",
    "N_FFT = 30\n",
    "NUM_BENIGN_PACKETS = 70000\n",
    "\n",
    "filename = \"mirai.csv\"\n",
    "df = pd.read_csv(filename)\n",
    "df[\"label\"] = \"unknown\"\n",
    "df.iloc[:NUM_BENIGN_PACKETS, -1] = \"benign\"\n",
    "df.iloc[NUM_BENIGN_PACKETS:, -1] = \"attack\"\n",
    "\n",
    "flow_dict = get_flows(df)"
   ]
  },
  {
   "cell_type": "code",
   "execution_count": null,
   "metadata": {},
   "outputs": [],
   "source": [
    "all_ten_power = None\n",
    "\n",
    "for key, flow in flow_dict.items():\n",
    "    vec = flow.vector()\n",
    "    if len(vec) > (N_FFT // 2):\n",
    "        ten_power = whisper_encoding(vec, n_fft=N_FFT)\n",
    "        if all_ten_power is None:\n",
    "            all_ten_power = ten_power\n",
    "        else:\n",
    "            all_ten_power = torch.cat([all_ten_power, ten_power], dim=1)"
   ]
  },
  {
   "cell_type": "code",
   "execution_count": null,
   "metadata": {},
   "outputs": [],
   "source": [
    "import matplotlib.pyplot as plt\n",
    "\n",
    "def draw_spetrogram(spec):\n",
    "\n",
    "    fig = plt.figure(figsize=(20, 20))\n",
    "    plt.imshow(spec)\n",
    "\n",
    "    # create ylim\n",
    "    Nyticks = 10\n",
    "    yticks = torch.linspace(0, spec.size(0), Nyticks)\n",
    "    plt.yticks(yticks, [str(int(x)) for x in yticks])\n",
    "\n",
    "    # create xlim\n",
    "    Nxticks = 10\n",
    "    xticks = torch.linspace(0, spec.size(1), Nxticks)\n",
    "    plt.xticks(xticks, [str(int(x)) for x in xticks])\n",
    "\n",
    "    plt.show()"
   ]
  },
  {
   "cell_type": "code",
   "execution_count": null,
   "metadata": {},
   "outputs": [],
   "source": [
    "import math\n",
    "\n",
    "# df_test = df.iloc[NUM_BENIGN_PACKETS-500:NUM_BENIGN_PACKETS+1000]\n",
    "# df_test = df.iloc[NUM_BENIGN_PACKETS:NUM_BENIGN_PACKETS+1500]\n",
    "df_test = pd.read_csv(\"train_set/benign1.csv\")[:1500]\n",
    "pkt_bytes, time_intervals, proto_codes = [], [], []\n",
    "for idx, row in df_test.iterrows():\n",
    "    pkt_bytes.append(row[\"pkt_length\"])\n",
    "    time_intervals.append(row[\"timestamp\"])\n",
    "    proto_codes.append(row[\"proto_code\"])\n",
    "time_intervals = [0] + [time_intervals[i+1] - time_intervals[i] for i in range(len(time_intervals)-1)]\n",
    "vec = [pkt_bytes[i] * 10 + proto_codes[i] / 10 + -math.log2(time_intervals[i] + 1e-5) * 15.68 \n",
    "       for i in range(len(pkt_bytes))]\n",
    "ten_power = whisper_encoding(vec, n_fft=N_FFT)"
   ]
  }
 ],
 "metadata": {
  "kernelspec": {
   "display_name": "PRO",
   "language": "python",
   "name": "python3"
  },
  "language_info": {
   "codemirror_mode": {
    "name": "ipython",
    "version": 3
   },
   "file_extension": ".py",
   "mimetype": "text/x-python",
   "name": "python",
   "nbconvert_exporter": "python",
   "pygments_lexer": "ipython3",
   "version": "3.10.9"
  },
  "orig_nbformat": 4
 },
 "nbformat": 4,
 "nbformat_minor": 2
}
