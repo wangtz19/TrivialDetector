{
 "cells": [
  {
   "attachments": {},
   "cell_type": "markdown",
   "metadata": {},
   "source": [
    "# CIC-IDS"
   ]
  },
  {
   "cell_type": "code",
   "execution_count": 1,
   "metadata": {},
   "outputs": [],
   "source": [
    "import os\n",
    "import pandas as pd\n",
    "\n",
    "filename = os.path.join(\"data\", \"Monday-WorkingHours.pcap_ISCX.csv\")\n",
    "df = pd.read_csv(filename)"
   ]
  },
  {
   "cell_type": "code",
   "execution_count": null,
   "metadata": {},
   "outputs": [],
   "source": [
    "df_benign = df[df[\" Label\"] == \"BENIGN\"]\n",
    "print(f\"Benign size: {len(df_benign)}\")\n",
    "\n",
    "df_attack = df[df[\" Label\"] != \"BENIGN\"]\n",
    "print(f\"Attack size: {len(df_attack)}\")"
   ]
  },
  {
   "attachments": {},
   "cell_type": "markdown",
   "metadata": {},
   "source": [
    "# DDoS"
   ]
  },
  {
   "cell_type": "code",
   "execution_count": 1,
   "metadata": {},
   "outputs": [
    {
     "name": "stderr",
     "output_type": "stream",
     "text": [
      "/tmp/ipykernel_230107/376048255.py:5: DtypeWarning: Columns (85) have mixed types. Specify dtype option on import or set low_memory=False.\n",
      "  df = pd.read_csv(filename)\n"
     ]
    }
   ],
   "source": [
    "import pandas as pd\n",
    "import os\n",
    "\n",
    "filename = os.path.join(\"CSV-03-11\", \"Syn.csv\")\n",
    "df = pd.read_csv(filename)"
   ]
  },
  {
   "cell_type": "code",
   "execution_count": 2,
   "metadata": {},
   "outputs": [
    {
     "data": {
      "text/html": [
       "<div>\n",
       "<style scoped>\n",
       "    .dataframe tbody tr th:only-of-type {\n",
       "        vertical-align: middle;\n",
       "    }\n",
       "\n",
       "    .dataframe tbody tr th {\n",
       "        vertical-align: top;\n",
       "    }\n",
       "\n",
       "    .dataframe thead th {\n",
       "        text-align: right;\n",
       "    }\n",
       "</style>\n",
       "<table border=\"1\" class=\"dataframe\">\n",
       "  <thead>\n",
       "    <tr style=\"text-align: right;\">\n",
       "      <th></th>\n",
       "      <th>Unnamed: 0</th>\n",
       "      <th>Flow ID</th>\n",
       "      <th>Source IP</th>\n",
       "      <th>Source Port</th>\n",
       "      <th>Destination IP</th>\n",
       "      <th>Destination Port</th>\n",
       "      <th>Protocol</th>\n",
       "      <th>Timestamp</th>\n",
       "      <th>Flow Duration</th>\n",
       "      <th>Total Fwd Packets</th>\n",
       "      <th>...</th>\n",
       "      <th>Active Std</th>\n",
       "      <th>Active Max</th>\n",
       "      <th>Active Min</th>\n",
       "      <th>Idle Mean</th>\n",
       "      <th>Idle Std</th>\n",
       "      <th>Idle Max</th>\n",
       "      <th>Idle Min</th>\n",
       "      <th>SimillarHTTP</th>\n",
       "      <th>Inbound</th>\n",
       "      <th>Label</th>\n",
       "    </tr>\n",
       "  </thead>\n",
       "  <tbody>\n",
       "    <tr>\n",
       "      <th>0</th>\n",
       "      <td>445444</td>\n",
       "      <td>172.16.0.5-192.168.50.4-9429-9429-6</td>\n",
       "      <td>172.16.0.5</td>\n",
       "      <td>9429</td>\n",
       "      <td>192.168.50.4</td>\n",
       "      <td>9429</td>\n",
       "      <td>6</td>\n",
       "      <td>2018-11-03 11:36:28.607338</td>\n",
       "      <td>36063894</td>\n",
       "      <td>7</td>\n",
       "      <td>...</td>\n",
       "      <td>29.444864</td>\n",
       "      <td>52.0</td>\n",
       "      <td>1.0</td>\n",
       "      <td>1.202128e+07</td>\n",
       "      <td>6.253623e+06</td>\n",
       "      <td>18628035.0</td>\n",
       "      <td>6193840.0</td>\n",
       "      <td>0</td>\n",
       "      <td>1</td>\n",
       "      <td>Syn</td>\n",
       "    </tr>\n",
       "    <tr>\n",
       "      <th>1</th>\n",
       "      <td>113842</td>\n",
       "      <td>172.16.0.5-192.168.50.4-60224-60224-6</td>\n",
       "      <td>172.16.0.5</td>\n",
       "      <td>60224</td>\n",
       "      <td>192.168.50.4</td>\n",
       "      <td>60224</td>\n",
       "      <td>6</td>\n",
       "      <td>2018-11-03 11:36:28.607339</td>\n",
       "      <td>44851366</td>\n",
       "      <td>8</td>\n",
       "      <td>...</td>\n",
       "      <td>0.000000</td>\n",
       "      <td>1.0</td>\n",
       "      <td>1.0</td>\n",
       "      <td>2.066268e+07</td>\n",
       "      <td>1.169783e+07</td>\n",
       "      <td>28934293.0</td>\n",
       "      <td>12391060.0</td>\n",
       "      <td>0</td>\n",
       "      <td>1</td>\n",
       "      <td>Syn</td>\n",
       "    </tr>\n",
       "    <tr>\n",
       "      <th>2</th>\n",
       "      <td>176377</td>\n",
       "      <td>172.16.0.5-192.168.50.4-33827-11746-6</td>\n",
       "      <td>192.168.50.4</td>\n",
       "      <td>11746</td>\n",
       "      <td>172.16.0.5</td>\n",
       "      <td>33827</td>\n",
       "      <td>6</td>\n",
       "      <td>2018-11-03 11:36:28.607388</td>\n",
       "      <td>1</td>\n",
       "      <td>2</td>\n",
       "      <td>...</td>\n",
       "      <td>0.000000</td>\n",
       "      <td>0.0</td>\n",
       "      <td>0.0</td>\n",
       "      <td>0.000000e+00</td>\n",
       "      <td>0.000000e+00</td>\n",
       "      <td>0.0</td>\n",
       "      <td>0.0</td>\n",
       "      <td>0</td>\n",
       "      <td>0</td>\n",
       "      <td>Syn</td>\n",
       "    </tr>\n",
       "    <tr>\n",
       "      <th>3</th>\n",
       "      <td>24777</td>\n",
       "      <td>172.16.0.5-192.168.50.4-33828-1431-6</td>\n",
       "      <td>172.16.0.5</td>\n",
       "      <td>33828</td>\n",
       "      <td>192.168.50.4</td>\n",
       "      <td>1431</td>\n",
       "      <td>6</td>\n",
       "      <td>2018-11-03 11:36:28.607391</td>\n",
       "      <td>0</td>\n",
       "      <td>2</td>\n",
       "      <td>...</td>\n",
       "      <td>0.000000</td>\n",
       "      <td>0.0</td>\n",
       "      <td>0.0</td>\n",
       "      <td>0.000000e+00</td>\n",
       "      <td>0.000000e+00</td>\n",
       "      <td>0.0</td>\n",
       "      <td>0.0</td>\n",
       "      <td>0</td>\n",
       "      <td>1</td>\n",
       "      <td>Syn</td>\n",
       "    </tr>\n",
       "    <tr>\n",
       "      <th>4</th>\n",
       "      <td>85100</td>\n",
       "      <td>172.16.0.5-192.168.50.4-5311-5311-6</td>\n",
       "      <td>172.16.0.5</td>\n",
       "      <td>5311</td>\n",
       "      <td>192.168.50.4</td>\n",
       "      <td>5311</td>\n",
       "      <td>6</td>\n",
       "      <td>2018-11-03 11:36:28.607442</td>\n",
       "      <td>35731470</td>\n",
       "      <td>8</td>\n",
       "      <td>...</td>\n",
       "      <td>33.234019</td>\n",
       "      <td>48.0</td>\n",
       "      <td>1.0</td>\n",
       "      <td>1.191047e+07</td>\n",
       "      <td>1.849493e+06</td>\n",
       "      <td>13693985.0</td>\n",
       "      <td>10001398.0</td>\n",
       "      <td>0</td>\n",
       "      <td>1</td>\n",
       "      <td>Syn</td>\n",
       "    </tr>\n",
       "  </tbody>\n",
       "</table>\n",
       "<p>5 rows × 88 columns</p>\n",
       "</div>"
      ],
      "text/plain": [
       "   Unnamed: 0                                Flow ID     Source IP  \\\n",
       "0      445444    172.16.0.5-192.168.50.4-9429-9429-6    172.16.0.5   \n",
       "1      113842  172.16.0.5-192.168.50.4-60224-60224-6    172.16.0.5   \n",
       "2      176377  172.16.0.5-192.168.50.4-33827-11746-6  192.168.50.4   \n",
       "3       24777   172.16.0.5-192.168.50.4-33828-1431-6    172.16.0.5   \n",
       "4       85100    172.16.0.5-192.168.50.4-5311-5311-6    172.16.0.5   \n",
       "\n",
       "    Source Port  Destination IP   Destination Port   Protocol  \\\n",
       "0          9429    192.168.50.4               9429          6   \n",
       "1         60224    192.168.50.4              60224          6   \n",
       "2         11746      172.16.0.5              33827          6   \n",
       "3         33828    192.168.50.4               1431          6   \n",
       "4          5311    192.168.50.4               5311          6   \n",
       "\n",
       "                    Timestamp   Flow Duration   Total Fwd Packets  ...  \\\n",
       "0  2018-11-03 11:36:28.607338        36063894                   7  ...   \n",
       "1  2018-11-03 11:36:28.607339        44851366                   8  ...   \n",
       "2  2018-11-03 11:36:28.607388               1                   2  ...   \n",
       "3  2018-11-03 11:36:28.607391               0                   2  ...   \n",
       "4  2018-11-03 11:36:28.607442        35731470                   8  ...   \n",
       "\n",
       "    Active Std   Active Max   Active Min     Idle Mean      Idle Std  \\\n",
       "0    29.444864         52.0          1.0  1.202128e+07  6.253623e+06   \n",
       "1     0.000000          1.0          1.0  2.066268e+07  1.169783e+07   \n",
       "2     0.000000          0.0          0.0  0.000000e+00  0.000000e+00   \n",
       "3     0.000000          0.0          0.0  0.000000e+00  0.000000e+00   \n",
       "4    33.234019         48.0          1.0  1.191047e+07  1.849493e+06   \n",
       "\n",
       "     Idle Max    Idle Min  SimillarHTTP   Inbound   Label  \n",
       "0  18628035.0   6193840.0             0         1     Syn  \n",
       "1  28934293.0  12391060.0             0         1     Syn  \n",
       "2         0.0         0.0             0         0     Syn  \n",
       "3         0.0         0.0             0         1     Syn  \n",
       "4  13693985.0  10001398.0             0         1     Syn  \n",
       "\n",
       "[5 rows x 88 columns]"
      ]
     },
     "execution_count": 2,
     "metadata": {},
     "output_type": "execute_result"
    }
   ],
   "source": [
    "df.head()"
   ]
  },
  {
   "cell_type": "code",
   "execution_count": 4,
   "metadata": {},
   "outputs": [
    {
     "name": "stderr",
     "output_type": "stream",
     "text": [
      "/tmp/ipykernel_265827/2322400807.py:7: DtypeWarning: Columns (85) have mixed types. Specify dtype option on import or set low_memory=False.\n",
      "  df = pd.read_csv(os.path.join(\"CSV-03-11\", filename))\n"
     ]
    },
    {
     "name": "stdout",
     "output_type": "stream",
     "text": [
      "Syn.csv\n",
      " Source IP\n",
      "172.16.0.5      4281316\n",
      "192.168.50.4       3435\n",
      "dtype: int64\n"
     ]
    },
    {
     "name": "stderr",
     "output_type": "stream",
     "text": [
      "/tmp/ipykernel_265827/2322400807.py:7: DtypeWarning: Columns (85) have mixed types. Specify dtype option on import or set low_memory=False.\n",
      "  df = pd.read_csv(os.path.join(\"CSV-03-11\", filename))\n"
     ]
    },
    {
     "name": "stdout",
     "output_type": "stream",
     "text": [
      "NetBIOS.csv\n",
      " Source IP\n",
      "172.16.0.5      3454063\n",
      "192.168.50.4        515\n",
      "dtype: int64\n"
     ]
    },
    {
     "name": "stderr",
     "output_type": "stream",
     "text": [
      "/tmp/ipykernel_265827/2322400807.py:7: DtypeWarning: Columns (85) have mixed types. Specify dtype option on import or set low_memory=False.\n",
      "  df = pd.read_csv(os.path.join(\"CSV-03-11\", filename))\n"
     ]
    },
    {
     "name": "stdout",
     "output_type": "stream",
     "text": [
      "LDAP.csv\n",
      " Source IP\n",
      "172.16.0.5      2107494\n",
      "192.168.50.4        616\n",
      "dtype: int64\n"
     ]
    },
    {
     "name": "stderr",
     "output_type": "stream",
     "text": [
      "/tmp/ipykernel_265827/2322400807.py:7: DtypeWarning: Columns (85) have mixed types. Specify dtype option on import or set low_memory=False.\n",
      "  df = pd.read_csv(os.path.join(\"CSV-03-11\", filename))\n"
     ]
    },
    {
     "name": "stdout",
     "output_type": "stream",
     "text": [
      "UDPLag.csv\n",
      " Source IP\n",
      "172.16.0.5      720036\n",
      "192.168.50.4      1061\n",
      "dtype: int64\n"
     ]
    },
    {
     "name": "stderr",
     "output_type": "stream",
     "text": [
      "/tmp/ipykernel_265827/2322400807.py:7: DtypeWarning: Columns (85) have mixed types. Specify dtype option on import or set low_memory=False.\n",
      "  df = pd.read_csv(os.path.join(\"CSV-03-11\", filename))\n"
     ]
    },
    {
     "name": "stdout",
     "output_type": "stream",
     "text": [
      "Portmap.csv\n",
      " Source IP\n",
      "172.16.0.5      186511\n",
      "192.168.50.4       449\n",
      "dtype: int64\n"
     ]
    },
    {
     "name": "stderr",
     "output_type": "stream",
     "text": [
      "/tmp/ipykernel_265827/2322400807.py:7: DtypeWarning: Columns (85) have mixed types. Specify dtype option on import or set low_memory=False.\n",
      "  df = pd.read_csv(os.path.join(\"CSV-03-11\", filename))\n"
     ]
    },
    {
     "name": "stdout",
     "output_type": "stream",
     "text": [
      "MSSQL.csv\n",
      " Source IP\n",
      "172.16.0.5      5772083\n",
      "192.168.50.4        909\n",
      "dtype: int64\n"
     ]
    },
    {
     "name": "stderr",
     "output_type": "stream",
     "text": [
      "/tmp/ipykernel_265827/2322400807.py:7: DtypeWarning: Columns (85) have mixed types. Specify dtype option on import or set low_memory=False.\n",
      "  df = pd.read_csv(os.path.join(\"CSV-03-11\", filename))\n"
     ]
    },
    {
     "name": "stdout",
     "output_type": "stream",
     "text": [
      "UDP.csv\n",
      " Source IP\n",
      "172.16.0.5      3777978\n",
      "192.168.50.4       1094\n",
      "dtype: int64\n"
     ]
    }
   ],
   "source": [
    "import pandas as pd\n",
    "import os\n",
    "import json\n",
    "\n",
    "filenames = os.listdir(\"CSV-03-11\")\n",
    "for filename in filenames:\n",
    "    df = pd.read_csv(os.path.join(\"CSV-03-11\", filename))\n",
    "    df = df[df[\" Label\"] != \"BENIGN\"]\n",
    "    df_group = df.groupby([\" Source IP\"])\n",
    "    print(f\"{filename}\")\n",
    "    print(df_group.size())"
   ]
  },
  {
   "cell_type": "code",
   "execution_count": 5,
   "metadata": {},
   "outputs": [
    {
     "name": "stderr",
     "output_type": "stream",
     "text": [
      "/tmp/ipykernel_265827/2665197381.py:7: DtypeWarning: Columns (85) have mixed types. Specify dtype option on import or set low_memory=False.\n",
      "  df = pd.read_csv(os.path.join(\"CSV-03-11\", filename))\n"
     ]
    },
    {
     "name": "stdout",
     "output_type": "stream",
     "text": [
      "Syn.csv\n",
      " Source IP     Destination IP   Protocol   Source Port   Destination Port\n",
      "172.16.0.5    192.168.50.4     0          0             0                    207\n",
      "                               6          22            48976                  1\n",
      "                                          27            538                    1\n",
      "                                          156           978                    2\n",
      "                                          191           915                    2\n",
      "                                                                            ... \n",
      "192.168.50.4  172.16.0.5       17         65478         5060                   1\n",
      "                                          65479         5060                   1\n",
      "                                          65490         5060                   1\n",
      "                                          65493         5060                   1\n",
      "                                          65505         5060                   2\n",
      "Length: 3472206, dtype: int64\n"
     ]
    }
   ],
   "source": [
    "import pandas as pd\n",
    "import os\n",
    "import json\n",
    "\n",
    "filenames = os.listdir(\"CSV-03-11\")\n",
    "for filename in filenames:\n",
    "    df = pd.read_csv(os.path.join(\"CSV-03-11\", filename))\n",
    "    df = df[df[\" Label\"] != \"BENIGN\"]\n",
    "    df_group = df.groupby([\" Source IP\", \" Destination IP\", \" Protocol\", \" Source Port\", \" Destination Port\"])\n",
    "    print(f\"{filename}\")\n",
    "    print(df_group.size())"
   ]
  },
  {
   "cell_type": "code",
   "execution_count": 3,
   "metadata": {},
   "outputs": [
    {
     "name": "stderr",
     "output_type": "stream",
     "text": [
      "/tmp/ipykernel_230954/3102299857.py:9: DtypeWarning: Columns (85) have mixed types. Specify dtype option on import or set low_memory=False.\n",
      "  df = pd.read_csv(os.path.join(\"CSV-03-11\", filename))\n",
      "/tmp/ipykernel_230954/3102299857.py:9: DtypeWarning: Columns (85) have mixed types. Specify dtype option on import or set low_memory=False.\n",
      "  df = pd.read_csv(os.path.join(\"CSV-03-11\", filename))\n",
      "/tmp/ipykernel_230954/3102299857.py:9: DtypeWarning: Columns (85) have mixed types. Specify dtype option on import or set low_memory=False.\n",
      "  df = pd.read_csv(os.path.join(\"CSV-03-11\", filename))\n",
      "/tmp/ipykernel_230954/3102299857.py:9: DtypeWarning: Columns (85) have mixed types. Specify dtype option on import or set low_memory=False.\n",
      "  df = pd.read_csv(os.path.join(\"CSV-03-11\", filename))\n",
      "/tmp/ipykernel_230954/3102299857.py:9: DtypeWarning: Columns (85) have mixed types. Specify dtype option on import or set low_memory=False.\n",
      "  df = pd.read_csv(os.path.join(\"CSV-03-11\", filename))\n",
      "/tmp/ipykernel_230954/3102299857.py:9: DtypeWarning: Columns (85) have mixed types. Specify dtype option on import or set low_memory=False.\n",
      "  df = pd.read_csv(os.path.join(\"CSV-03-11\", filename))\n",
      "/tmp/ipykernel_230954/3102299857.py:9: DtypeWarning: Columns (85) have mixed types. Specify dtype option on import or set low_memory=False.\n",
      "  df = pd.read_csv(os.path.join(\"CSV-03-11\", filename))\n"
     ]
    }
   ],
   "source": [
    "import pandas as pd\n",
    "import os\n",
    "import json\n",
    "\n",
    "filenames = os.listdir(\"CSV-03-11\")\n",
    "benign_src_dst = set()\n",
    "malicious_src_dst = set()\n",
    "for filename in filenames:\n",
    "    df = pd.read_csv(os.path.join(\"CSV-03-11\", filename))\n",
    "    for index, row in df.iterrows():\n",
    "        if row[\" Label\"] == \"BENIGN\":\n",
    "            benign_src_dst.add((row[\" Source IP\"], row[\" Destination IP\"]))\n",
    "        else:\n",
    "            malicious_src_dst.add((row[\" Source IP\"], row[\" Destination IP\"]))\n",
    "\n",
    "with open(\"benign_src_dst.json\", \"w\") as f:\n",
    "    json.dump(list(benign_src_dst), f)\n",
    "with open(\"malicious_src_dst.json\", \"w\") as f:\n",
    "    json.dump(list(malicious_src_dst), f)"
   ]
  },
  {
   "cell_type": "code",
   "execution_count": 7,
   "metadata": {},
   "outputs": [
    {
     "name": "stderr",
     "output_type": "stream",
     "text": [
      "/tmp/ipykernel_230954/4059946213.py:6: DtypeWarning: Columns (85) have mixed types. Specify dtype option on import or set low_memory=False.\n",
      "  df = pd.read_csv(os.path.join(\"CSV-03-11\", filename))\n"
     ]
    },
    {
     "name": "stdout",
     "output_type": "stream",
     "text": [
      "Syn.csv malicious flows: 2\n",
      "      Source IP  Destination IP\n",
      "0    172.16.0.5    192.168.50.4\n",
      "2  192.168.50.4      172.16.0.5\n"
     ]
    },
    {
     "name": "stderr",
     "output_type": "stream",
     "text": [
      "/tmp/ipykernel_230954/4059946213.py:6: DtypeWarning: Columns (85) have mixed types. Specify dtype option on import or set low_memory=False.\n",
      "  df = pd.read_csv(os.path.join(\"CSV-03-11\", filename))\n"
     ]
    },
    {
     "name": "stdout",
     "output_type": "stream",
     "text": [
      "NetBIOS.csv malicious flows: 2\n",
      "         Source IP  Destination IP\n",
      "0       172.16.0.5    192.168.50.4\n",
      "6915  192.168.50.4      172.16.0.5\n"
     ]
    },
    {
     "name": "stderr",
     "output_type": "stream",
     "text": [
      "/tmp/ipykernel_230954/4059946213.py:6: DtypeWarning: Columns (85) have mixed types. Specify dtype option on import or set low_memory=False.\n",
      "  df = pd.read_csv(os.path.join(\"CSV-03-11\", filename))\n"
     ]
    },
    {
     "name": "stdout",
     "output_type": "stream",
     "text": [
      "LDAP.csv malicious flows: 2\n",
      "         Source IP  Destination IP\n",
      "0       172.16.0.5    192.168.50.4\n",
      "1560  192.168.50.4      172.16.0.5\n"
     ]
    },
    {
     "name": "stderr",
     "output_type": "stream",
     "text": [
      "/tmp/ipykernel_230954/4059946213.py:6: DtypeWarning: Columns (85) have mixed types. Specify dtype option on import or set low_memory=False.\n",
      "  df = pd.read_csv(os.path.join(\"CSV-03-11\", filename))\n"
     ]
    },
    {
     "name": "stdout",
     "output_type": "stream",
     "text": [
      "UDPLag.csv malicious flows: 2\n",
      "         Source IP  Destination IP\n",
      "0       172.16.0.5    192.168.50.4\n",
      "2361  192.168.50.4      172.16.0.5\n"
     ]
    },
    {
     "name": "stderr",
     "output_type": "stream",
     "text": [
      "/tmp/ipykernel_230954/4059946213.py:6: DtypeWarning: Columns (85) have mixed types. Specify dtype option on import or set low_memory=False.\n",
      "  df = pd.read_csv(os.path.join(\"CSV-03-11\", filename))\n"
     ]
    },
    {
     "name": "stdout",
     "output_type": "stream",
     "text": [
      "Portmap.csv malicious flows: 2\n",
      "       Source IP  Destination IP\n",
      "9     172.16.0.5    192.168.50.4\n",
      "51  192.168.50.4      172.16.0.5\n"
     ]
    },
    {
     "name": "stderr",
     "output_type": "stream",
     "text": [
      "/tmp/ipykernel_230954/4059946213.py:6: DtypeWarning: Columns (85) have mixed types. Specify dtype option on import or set low_memory=False.\n",
      "  df = pd.read_csv(os.path.join(\"CSV-03-11\", filename))\n"
     ]
    },
    {
     "name": "stdout",
     "output_type": "stream",
     "text": [
      "MSSQL.csv malicious flows: 2\n",
      "        Source IP  Destination IP\n",
      "0      172.16.0.5    192.168.50.4\n",
      "971  192.168.50.4      172.16.0.5\n"
     ]
    },
    {
     "name": "stderr",
     "output_type": "stream",
     "text": [
      "/tmp/ipykernel_230954/4059946213.py:6: DtypeWarning: Columns (85) have mixed types. Specify dtype option on import or set low_memory=False.\n",
      "  df = pd.read_csv(os.path.join(\"CSV-03-11\", filename))\n"
     ]
    },
    {
     "name": "stdout",
     "output_type": "stream",
     "text": [
      "UDP.csv malicious flows: 2\n",
      "         Source IP  Destination IP\n",
      "0       172.16.0.5    192.168.50.4\n",
      "4035  192.168.50.4      172.16.0.5\n"
     ]
    }
   ],
   "source": [
    "import os\n",
    "import pandas as pd\n",
    "\n",
    "filenames = os.listdir(\"CSV-03-11\")\n",
    "for filename in filenames:\n",
    "    df = pd.read_csv(os.path.join(\"CSV-03-11\", filename))\n",
    "    df = df[df[\" Label\"] != \"BENIGN\"]\n",
    "    # show unique Source IP and Destination IP\n",
    "    unique_df = df[[\" Source IP\", \" Destination IP\"]].drop_duplicates()\n",
    "    print(f\"{filename} malicious flows: {len(unique_df)}\")\n",
    "    print(unique_df)\n"
   ]
  },
  {
   "cell_type": "code",
   "execution_count": 10,
   "metadata": {},
   "outputs": [
    {
     "data": {
      "text/html": [
       "<div>\n",
       "<style scoped>\n",
       "    .dataframe tbody tr th:only-of-type {\n",
       "        vertical-align: middle;\n",
       "    }\n",
       "\n",
       "    .dataframe tbody tr th {\n",
       "        vertical-align: top;\n",
       "    }\n",
       "\n",
       "    .dataframe thead th {\n",
       "        text-align: right;\n",
       "    }\n",
       "</style>\n",
       "<table border=\"1\" class=\"dataframe\">\n",
       "  <thead>\n",
       "    <tr style=\"text-align: right;\">\n",
       "      <th></th>\n",
       "      <th>Flow ID</th>\n",
       "      <th>Source IP</th>\n",
       "      <th>Source Port</th>\n",
       "      <th>Destination IP</th>\n",
       "      <th>Destination Port</th>\n",
       "      <th>Protocol</th>\n",
       "      <th>Timestamp</th>\n",
       "      <th>Flow Duration</th>\n",
       "      <th>Total Fwd Packets</th>\n",
       "      <th>Total Backward Packets</th>\n",
       "      <th>...</th>\n",
       "      <th>min_seg_size_forward</th>\n",
       "      <th>Active Mean</th>\n",
       "      <th>Active Std</th>\n",
       "      <th>Active Max</th>\n",
       "      <th>Active Min</th>\n",
       "      <th>Idle Mean</th>\n",
       "      <th>Idle Std</th>\n",
       "      <th>Idle Max</th>\n",
       "      <th>Idle Min</th>\n",
       "      <th>Label</th>\n",
       "    </tr>\n",
       "  </thead>\n",
       "  <tbody>\n",
       "    <tr>\n",
       "      <th>0</th>\n",
       "      <td>192.168.10.5-104.16.207.165-54865-443-6</td>\n",
       "      <td>104.16.207.165</td>\n",
       "      <td>443</td>\n",
       "      <td>192.168.10.5</td>\n",
       "      <td>54865</td>\n",
       "      <td>6</td>\n",
       "      <td>7/7/2017 3:30</td>\n",
       "      <td>3</td>\n",
       "      <td>2</td>\n",
       "      <td>0</td>\n",
       "      <td>...</td>\n",
       "      <td>20</td>\n",
       "      <td>0.0</td>\n",
       "      <td>0.0</td>\n",
       "      <td>0</td>\n",
       "      <td>0</td>\n",
       "      <td>0.0</td>\n",
       "      <td>0.0</td>\n",
       "      <td>0</td>\n",
       "      <td>0</td>\n",
       "      <td>BENIGN</td>\n",
       "    </tr>\n",
       "    <tr>\n",
       "      <th>1</th>\n",
       "      <td>192.168.10.5-104.16.28.216-55054-80-6</td>\n",
       "      <td>104.16.28.216</td>\n",
       "      <td>80</td>\n",
       "      <td>192.168.10.5</td>\n",
       "      <td>55054</td>\n",
       "      <td>6</td>\n",
       "      <td>7/7/2017 3:30</td>\n",
       "      <td>109</td>\n",
       "      <td>1</td>\n",
       "      <td>1</td>\n",
       "      <td>...</td>\n",
       "      <td>20</td>\n",
       "      <td>0.0</td>\n",
       "      <td>0.0</td>\n",
       "      <td>0</td>\n",
       "      <td>0</td>\n",
       "      <td>0.0</td>\n",
       "      <td>0.0</td>\n",
       "      <td>0</td>\n",
       "      <td>0</td>\n",
       "      <td>BENIGN</td>\n",
       "    </tr>\n",
       "    <tr>\n",
       "      <th>2</th>\n",
       "      <td>192.168.10.5-104.16.28.216-55055-80-6</td>\n",
       "      <td>104.16.28.216</td>\n",
       "      <td>80</td>\n",
       "      <td>192.168.10.5</td>\n",
       "      <td>55055</td>\n",
       "      <td>6</td>\n",
       "      <td>7/7/2017 3:30</td>\n",
       "      <td>52</td>\n",
       "      <td>1</td>\n",
       "      <td>1</td>\n",
       "      <td>...</td>\n",
       "      <td>20</td>\n",
       "      <td>0.0</td>\n",
       "      <td>0.0</td>\n",
       "      <td>0</td>\n",
       "      <td>0</td>\n",
       "      <td>0.0</td>\n",
       "      <td>0.0</td>\n",
       "      <td>0</td>\n",
       "      <td>0</td>\n",
       "      <td>BENIGN</td>\n",
       "    </tr>\n",
       "    <tr>\n",
       "      <th>3</th>\n",
       "      <td>192.168.10.16-104.17.241.25-46236-443-6</td>\n",
       "      <td>104.17.241.25</td>\n",
       "      <td>443</td>\n",
       "      <td>192.168.10.16</td>\n",
       "      <td>46236</td>\n",
       "      <td>6</td>\n",
       "      <td>7/7/2017 3:30</td>\n",
       "      <td>34</td>\n",
       "      <td>1</td>\n",
       "      <td>1</td>\n",
       "      <td>...</td>\n",
       "      <td>20</td>\n",
       "      <td>0.0</td>\n",
       "      <td>0.0</td>\n",
       "      <td>0</td>\n",
       "      <td>0</td>\n",
       "      <td>0.0</td>\n",
       "      <td>0.0</td>\n",
       "      <td>0</td>\n",
       "      <td>0</td>\n",
       "      <td>BENIGN</td>\n",
       "    </tr>\n",
       "    <tr>\n",
       "      <th>4</th>\n",
       "      <td>192.168.10.5-104.19.196.102-54863-443-6</td>\n",
       "      <td>104.19.196.102</td>\n",
       "      <td>443</td>\n",
       "      <td>192.168.10.5</td>\n",
       "      <td>54863</td>\n",
       "      <td>6</td>\n",
       "      <td>7/7/2017 3:30</td>\n",
       "      <td>3</td>\n",
       "      <td>2</td>\n",
       "      <td>0</td>\n",
       "      <td>...</td>\n",
       "      <td>20</td>\n",
       "      <td>0.0</td>\n",
       "      <td>0.0</td>\n",
       "      <td>0</td>\n",
       "      <td>0</td>\n",
       "      <td>0.0</td>\n",
       "      <td>0.0</td>\n",
       "      <td>0</td>\n",
       "      <td>0</td>\n",
       "      <td>BENIGN</td>\n",
       "    </tr>\n",
       "  </tbody>\n",
       "</table>\n",
       "<p>5 rows × 85 columns</p>\n",
       "</div>"
      ],
      "text/plain": [
       "                                   Flow ID       Source IP   Source Port  \\\n",
       "0  192.168.10.5-104.16.207.165-54865-443-6  104.16.207.165           443   \n",
       "1    192.168.10.5-104.16.28.216-55054-80-6   104.16.28.216            80   \n",
       "2    192.168.10.5-104.16.28.216-55055-80-6   104.16.28.216            80   \n",
       "3  192.168.10.16-104.17.241.25-46236-443-6   104.17.241.25           443   \n",
       "4  192.168.10.5-104.19.196.102-54863-443-6  104.19.196.102           443   \n",
       "\n",
       "   Destination IP   Destination Port   Protocol      Timestamp  \\\n",
       "0    192.168.10.5              54865          6  7/7/2017 3:30   \n",
       "1    192.168.10.5              55054          6  7/7/2017 3:30   \n",
       "2    192.168.10.5              55055          6  7/7/2017 3:30   \n",
       "3   192.168.10.16              46236          6  7/7/2017 3:30   \n",
       "4    192.168.10.5              54863          6  7/7/2017 3:30   \n",
       "\n",
       "    Flow Duration   Total Fwd Packets   Total Backward Packets  ...  \\\n",
       "0               3                   2                        0  ...   \n",
       "1             109                   1                        1  ...   \n",
       "2              52                   1                        1  ...   \n",
       "3              34                   1                        1  ...   \n",
       "4               3                   2                        0  ...   \n",
       "\n",
       "    min_seg_size_forward  Active Mean   Active Std   Active Max   Active Min  \\\n",
       "0                     20          0.0          0.0            0            0   \n",
       "1                     20          0.0          0.0            0            0   \n",
       "2                     20          0.0          0.0            0            0   \n",
       "3                     20          0.0          0.0            0            0   \n",
       "4                     20          0.0          0.0            0            0   \n",
       "\n",
       "   Idle Mean   Idle Std   Idle Max   Idle Min   Label  \n",
       "0        0.0        0.0          0          0  BENIGN  \n",
       "1        0.0        0.0          0          0  BENIGN  \n",
       "2        0.0        0.0          0          0  BENIGN  \n",
       "3        0.0        0.0          0          0  BENIGN  \n",
       "4        0.0        0.0          0          0  BENIGN  \n",
       "\n",
       "[5 rows x 85 columns]"
      ]
     },
     "metadata": {},
     "output_type": "display_data"
    }
   ],
   "source": [
    "import os\n",
    "import pandas as pd\n",
    "\n",
    "filename = os.path.join(\"data\", \"Friday-WorkingHours-Afternoon-DDos.pcap_ISCX.csv\")\n",
    "df = pd.read_csv(filename)\n",
    "display(df.head())\n"
   ]
  },
  {
   "cell_type": "code",
   "execution_count": 14,
   "metadata": {},
   "outputs": [
    {
     "name": "stdout",
     "output_type": "stream",
     "text": [
      "total malicious packets: 128027\n",
      "                                    Flow ID   Source IP   Source Port  \\\n",
      "18883   172.16.0.1-192.168.10.50-49650-80-6  172.16.0.1         49650   \n",
      "18884   172.16.0.1-192.168.10.50-49650-80-6  172.16.0.1         49650   \n",
      "18885   172.16.0.1-192.168.10.50-51684-80-6  172.16.0.1         51684   \n",
      "18886   172.16.0.1-192.168.10.50-51684-80-6  172.16.0.1         51684   \n",
      "18887   172.16.0.1-192.168.10.50-51686-80-6  172.16.0.1         51686   \n",
      "...                                     ...         ...           ...   \n",
      "197538  172.16.0.1-192.168.10.50-43199-80-6  172.16.0.1         43199   \n",
      "197539  172.16.0.1-192.168.10.50-43200-80-6  172.16.0.1         43200   \n",
      "197540  172.16.0.1-192.168.10.50-43200-80-6  172.16.0.1         43200   \n",
      "197541  172.16.0.1-192.168.10.50-43201-80-6  172.16.0.1         43201   \n",
      "197542  172.16.0.1-192.168.10.50-43201-80-6  172.16.0.1         43201   \n",
      "\n",
      "        Destination IP   Destination Port   Protocol      Timestamp  \\\n",
      "18883    192.168.10.50                 80          6  7/7/2017 3:56   \n",
      "18884    192.168.10.50                 80          6  7/7/2017 3:56   \n",
      "18885    192.168.10.50                 80          6  7/7/2017 3:56   \n",
      "18886    192.168.10.50                 80          6  7/7/2017 3:56   \n",
      "18887    192.168.10.50                 80          6  7/7/2017 3:56   \n",
      "...                ...                ...        ...            ...   \n",
      "197538   192.168.10.50                 80          6  7/7/2017 4:16   \n",
      "197539   192.168.10.50                 80          6  7/7/2017 4:16   \n",
      "197540   192.168.10.50                 80          6  7/7/2017 4:16   \n",
      "197541   192.168.10.50                 80          6  7/7/2017 4:16   \n",
      "197542   192.168.10.50                 80          6  7/7/2017 4:16   \n",
      "\n",
      "         Flow Duration   Total Fwd Packets   Total Backward Packets  ...  \\\n",
      "18883          1293792                   3                        7  ...   \n",
      "18884          4421382                   4                        0  ...   \n",
      "18885          1083538                   3                        6  ...   \n",
      "18886         80034360                   8                        4  ...   \n",
      "18887           642654                   3                        6  ...   \n",
      "...                ...                 ...                      ...  ...   \n",
      "197538          163071                   4                        0  ...   \n",
      "197539            2036                   3                        6  ...   \n",
      "197540          159465                   4                        0  ...   \n",
      "197541            1453                   3                        6  ...   \n",
      "197542          155039                   4                        0  ...   \n",
      "\n",
      "         min_seg_size_forward  Active Mean   Active Std   Active Max  \\\n",
      "18883                      20          0.0          0.0            0   \n",
      "18884                      20          0.0          0.0            0   \n",
      "18885                      20          0.0          0.0            0   \n",
      "18886                      20        939.0          0.0          939   \n",
      "18887                      20          0.0          0.0            0   \n",
      "...                       ...          ...          ...          ...   \n",
      "197538                     20          0.0          0.0            0   \n",
      "197539                     20          0.0          0.0            0   \n",
      "197540                     20          0.0          0.0            0   \n",
      "197541                     20          0.0          0.0            0   \n",
      "197542                     20          0.0          0.0            0   \n",
      "\n",
      "         Active Min   Idle Mean    Idle Std   Idle Max   Idle Min   Label  \n",
      "18883             0         0.0         0.0          0          0    DDoS  \n",
      "18884             0         0.0         0.0          0          0    DDoS  \n",
      "18885             0         0.0         0.0          0          0    DDoS  \n",
      "18886           939  39300000.0  44200000.0   70600000    8072664    DDoS  \n",
      "18887             0         0.0         0.0          0          0    DDoS  \n",
      "...             ...         ...         ...        ...        ...     ...  \n",
      "197538            0         0.0         0.0          0          0    DDoS  \n",
      "197539            0         0.0         0.0          0          0    DDoS  \n",
      "197540            0         0.0         0.0          0          0    DDoS  \n",
      "197541            0         0.0         0.0          0          0    DDoS  \n",
      "197542            0         0.0         0.0          0          0    DDoS  \n",
      "\n",
      "[128027 rows x 85 columns]\n"
     ]
    }
   ],
   "source": [
    "df = df[df[\" Label\"] != \"BENIGN\"]\n",
    "print(f\"total malicious packets: {len(df)}\")\n",
    "print(df)"
   ]
  },
  {
   "cell_type": "code",
   "execution_count": 18,
   "metadata": {},
   "outputs": [
    {
     "name": "stdout",
     "output_type": "stream",
     "text": [
      "total malicious flows: 45395\n",
      "         Source IP  Destination IP   Source Port   Destination Port\n",
      "18883   172.16.0.1   192.168.10.50         49650                 80\n",
      "18885   172.16.0.1   192.168.10.50         51684                 80\n",
      "18887   172.16.0.1   192.168.10.50         51686                 80\n",
      "18889   172.16.0.1   192.168.10.50         51687                 80\n",
      "18891   172.16.0.1   192.168.10.50         51688                 80\n",
      "...            ...             ...           ...                ...\n",
      "197533  172.16.0.1   192.168.10.50         43197                 80\n",
      "197535  172.16.0.1   192.168.10.50         43198                 80\n",
      "197537  172.16.0.1   192.168.10.50         43199                 80\n",
      "197539  172.16.0.1   192.168.10.50         43200                 80\n",
      "197541  172.16.0.1   192.168.10.50         43201                 80\n",
      "\n",
      "[45395 rows x 4 columns]\n"
     ]
    }
   ],
   "source": [
    "\n",
    "# show unique Source IP and Destination IP\n",
    "unique_df = df[[\" Source IP\", \" Destination IP\", \" Source Port\"]].drop_duplicates()\n",
    "print(f\"total malicious flows: {len(unique_df)}\")\n",
    "print(unique_df)"
   ]
  },
  {
   "cell_type": "code",
   "execution_count": 21,
   "metadata": {},
   "outputs": [
    {
     "name": "stdout",
     "output_type": "stream",
     "text": [
      "total malicious flows: 45393\n",
      "max flow length: 8\n"
     ]
    }
   ],
   "source": [
    "df_group = df.groupby([\" Source IP\", \" Destination IP\", \" Source Port\"])\n",
    "print(f\"total malicious flows: {len(df_group)}\")\n",
    "max_flow_length = 0 \n",
    "for name, group in df_group:\n",
    "    max_flow_length = max(max_flow_length, len(group))\n",
    "print(f\"max flow length: {max_flow_length}\")"
   ]
  },
  {
   "attachments": {},
   "cell_type": "markdown",
   "metadata": {},
   "source": [
    "## Group traffic by 5-tuple and save flow labels"
   ]
  },
  {
   "cell_type": "code",
   "execution_count": 1,
   "metadata": {},
   "outputs": [],
   "source": [
    "import os\n",
    "import pandas as pd\n",
    "\n",
    "filename = os.path.join(\"data\", \"Friday-WorkingHours-Afternoon-DDos.pcap_ISCX.csv\")\n",
    "df = pd.read_csv(filename)"
   ]
  },
  {
   "cell_type": "code",
   "execution_count": 3,
   "metadata": {},
   "outputs": [
    {
     "name": "stdout",
     "output_type": "stream",
     "text": [
      "total flows: 115006\n"
     ]
    }
   ],
   "source": [
    "df_group = df.groupby([\" Source IP\", \" Destination IP\", \" Source Port\", \" Destination Port\", \" Protocol\"])\n",
    "print(f\"total flows: {len(df_group)}\")"
   ]
  },
  {
   "cell_type": "code",
   "execution_count": 6,
   "metadata": {},
   "outputs": [],
   "source": [
    "label_dict = {}\n",
    "for name, group in df_group:\n",
    "    key = \"-\".join([str(x) for x in name])\n",
    "    label = group[\" Label\"].iloc[0]\n",
    "    if key not in label_dict:\n",
    "        label_dict[key] = label\n",
    "\n",
    "import json\n",
    "with open(\"label_dict.json\", \"w\") as f:\n",
    "    json.dump(label_dict, f)"
   ]
  }
 ],
 "metadata": {
  "kernelspec": {
   "display_name": "PRO",
   "language": "python",
   "name": "python3"
  },
  "language_info": {
   "codemirror_mode": {
    "name": "ipython",
    "version": 3
   },
   "file_extension": ".py",
   "mimetype": "text/x-python",
   "name": "python",
   "nbconvert_exporter": "python",
   "pygments_lexer": "ipython3",
   "version": "3.10.9"
  },
  "orig_nbformat": 4
 },
 "nbformat": 4,
 "nbformat_minor": 2
}
