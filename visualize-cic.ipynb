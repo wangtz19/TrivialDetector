{
 "cells": [
  {
   "cell_type": "code",
   "execution_count": 1,
   "metadata": {},
   "outputs": [],
   "source": [
    "import os\n",
    "import json\n",
    "import plotly.express as px\n",
    "import pandas as pd\n",
    "import numpy as np\n",
    "import matplotlib.pyplot as plt\n",
    "plt.rcParams['font.sans-serif'] = ['SimHei'] # Or any other Chinese characters"
   ]
  },
  {
   "cell_type": "code",
   "execution_count": 2,
   "metadata": {},
   "outputs": [],
   "source": [
    "name_map_table = {\n",
    "    \"Botnet-ARES.csv\": \"Botnet-ARES\",\n",
    "    \"BruteForce-FTP.csv\": \"BruteForce-FTP\",\n",
    "    \"BruteForce-SSH.csv\": \"BruteForce-SSH\",\n",
    "    \"DoS-GoldenEye.csv\": \"DoS-GoldenEye\",\n",
    "    \"DoS-Hulk.csv\": \"DoS-Hulk\",\n",
    "    \"DoS-Slowhttptest.csv\": \"DoS-Slowhttptest\",\n",
    "    \"DoS-Slowloris.csv\": \"DoS-Slowloris\",\n",
    "    \"Heartbleed-Port444.csv\": \"Heartbleed-Port444\",\n",
    "    \"Infiltration-CoolDisk.csv\": \"Infiltration-CoolDisk\",\n",
    "    \"Infiltration-Dropbox.csv\": \"Infiltration-Dropbox\",\n",
    "    \"PortScan.csv\": \"PortScan\",\n",
    "    \"Web-BruteForce.csv\": \"Web-BruteForce\",\n",
    "    \"Web-SqlInjection.csv\": \"Web-SqlInjection\",\n",
    "    \"Web-XSS.csv\": \"Web-XSS\",\n",
    "}\n",
    "\n",
    "name_map_figure = {\n",
    "    \"Botnet-ARES.csv\": \"ARES\",\n",
    "    \"BruteForce-FTP.csv\": \"FTP\",\n",
    "    \"BruteForce-SSH.csv\": \"SSH\",\n",
    "    \"DoS-GoldenEye.csv\": \"GoldenEye\",\n",
    "    \"DoS-Hulk.csv\": \"Hulk\",\n",
    "    \"DoS-Slowhttptest.csv\": \"Slowhttptest\",\n",
    "    \"DoS-Slowloris.csv\": \"Slowloris\",\n",
    "    \"Heartbleed-Port444.csv\": \"Heartbleed\",\n",
    "    \"Infiltration-CoolDisk.csv\": \"CoolDisk\",\n",
    "    \"Infiltration-Dropbox.csv\": \"Dropbox\",\n",
    "    \"PortScan.csv\": \"PortScan\",\n",
    "    \"Web-BruteForce.csv\": \"BruteForce\",\n",
    "    \"Web-SqlInjection.csv\": \"SqlInjection\",\n",
    "    \"Web-XSS.csv\": \"XSS\",\n",
    "}\n",
    "\n",
    "method_map = {\n",
    "    \"kmeans\": \"Whisper\",\n",
    "    \"aec\": \"TAE\",\n",
    "    \"aew\": \"FAE\"\n",
    "}\n"
   ]
  },
  {
   "cell_type": "code",
   "execution_count": 7,
   "metadata": {},
   "outputs": [],
   "source": [
    "with open(\"result/ensemble-cic/benign.csv/1.2-1.2-1.2/all-metrics.json\", \"r\") as f:\n",
    "    metrics_dict = json.load(f)\n",
    "\n",
    "all_metrics = []\n",
    "for attack_type, val1 in metrics_dict.items():\n",
    "    metric_list = [name_map_table[attack_type.split(\"/\")[-1]]]\n",
    "    for method, val2 in val1.items():\n",
    "        metric_list += val2[:4]\n",
    "    all_metrics.append(metric_list)\n",
    "\n",
    "column_names = []\n",
    "for method in [\"kmeans\", \"aec\", \"aew\", \"majority\", \"positive\", \"weighted\"]:\n",
    "    column_names += [f\"{method}_accuracy\", f\"{method}_precision\", f\"{method}_recall\", f\"{method}_f1\"]\n",
    "df = pd.DataFrame(all_metrics, columns=[\"attack_type\"]+column_names)\n",
    "\n",
    "df.to_csv(\"result/ensemble-cic/benign.csv/1.2-1.2-1.2/all-metrics.csv\", index=False)"
   ]
  },
  {
   "attachments": {},
   "cell_type": "markdown",
   "metadata": {},
   "source": [
    "## draw line"
   ]
  },
  {
   "cell_type": "code",
   "execution_count": 8,
   "metadata": {},
   "outputs": [],
   "source": [
    "with open(\"result/ensemble-cic/benign.csv/all-metrics.json\", \"r\") as f:\n",
    "    metrics_dict = json.load(f)\n",
    "\n",
    "metrics = [\"准确率\", \"精确率\", \"召回率\", \"F1\"]\n",
    "methods_to_plot = [\"kmeans\", \"aec\", \"aew\"]\n",
    "save_dir = \"result/ensemble-cic/4\"\n",
    "os.makedirs(save_dir, exist_ok=True)\n",
    "for idx in range(len(metrics)):\n",
    "    cur_metric = metrics[idx]\n",
    "    method_values = {method_map[method]: [] for method in methods_to_plot}\n",
    "    x_lables = []\n",
    "    for attack_type, val1 in metrics_dict.items():\n",
    "        x_lables.append(name_map_figure[attack_type.split(\"/\")[-1]])\n",
    "        for method, val2 in val1.items():\n",
    "            if method in methods_to_plot:\n",
    "                method_values[method_map[method]].append(val2[idx])\n",
    "\n",
    "    # draw figure with matplotlib\n",
    "    fig = plt.figure()\n",
    "    plt.title(f\"{cur_metric}\")\n",
    "    plt.xlabel(\"攻击类型\")\n",
    "    plt.ylabel(\"数值\")\n",
    "    plt.tick_params(axis='x', labelrotation=45)\n",
    "    for method in methods_to_plot:\n",
    "        plt.plot(x_lables, method_values[method_map[method]], label=method_map[method],\n",
    "                 marker=\".\")\n",
    "    plt.legend()\n",
    "    plt.savefig(os.path.join(save_dir, f\"{cur_metric}.pdf\"))\n",
    "    plt.close(fig)"
   ]
  },
  {
   "attachments": {},
   "cell_type": "markdown",
   "metadata": {},
   "source": [
    "## draw radar"
   ]
  },
  {
   "cell_type": "code",
   "execution_count": 7,
   "metadata": {},
   "outputs": [],
   "source": [
    "scale_str = f\"{1.5}-{1.5}-{1.5}\"\n",
    "\n",
    "with open(f\"result/ensemble-cic/benign.csv/{scale_str}/all-metrics.json\", \"r\") as f:\n",
    "    metrics_dict = json.load(f)\n",
    "\n",
    "metrics = [\"准确率\", \"精确率\", \"召回率\", \"F1\"]\n",
    "methods_to_plot = [\"kmeans\", \"aec\", \"aew\"]\n",
    "save_dir = f\"result/ensemble-cic/{scale_str}\"\n",
    "os.makedirs(save_dir, exist_ok=True)\n",
    "for idx in range(len(metrics)):\n",
    "    cur_metric = metrics[idx]\n",
    "    method_values = {method_map[method]: [] for method in methods_to_plot}\n",
    "    x_lables = []\n",
    "    for attack_type, val1 in metrics_dict.items():\n",
    "        x_lables.append(name_map_figure[attack_type.split(\"/\")[-1]])\n",
    "        for method, val2 in val1.items():\n",
    "            if method in methods_to_plot:\n",
    "                method_values[method_map[method]].append(val2[idx])\n",
    "    \n",
    "    # draw radar figure with matplotlib\n",
    "    fig = plt.figure()\n",
    "    num_attack = len(x_lables)\n",
    "    raw_angles = np.linspace(0, 2*np.pi, num_attack, endpoint=False)\n",
    "    angles = np.concatenate((raw_angles, [raw_angles[0]]))\n",
    "    ax = fig.add_subplot(111, polar=True)\n",
    "    for method in methods_to_plot:\n",
    "        values = method_values[method_map[method]]\n",
    "        values = np.concatenate((values, [values[0]]))\n",
    "        ax.plot(angles, values, '.-', linewidth=1, label=method_map[method])\n",
    "        ax.fill(angles, values, alpha=0.25)\n",
    "    ax.set_thetagrids(raw_angles * 180/np.pi, x_lables)\n",
    "    ax.set_title(f\"{cur_metric}\")\n",
    "    ax.grid(True)\n",
    "    plt.legend()\n",
    "    plt.savefig(os.path.join(save_dir, f\"{cur_metric}-radar.pdf\"))\n",
    "    plt.close(fig)"
   ]
  }
 ],
 "metadata": {
  "kernelspec": {
   "display_name": "PRO",
   "language": "python",
   "name": "python3"
  },
  "language_info": {
   "codemirror_mode": {
    "name": "ipython",
    "version": 3
   },
   "file_extension": ".py",
   "mimetype": "text/x-python",
   "name": "python",
   "nbconvert_exporter": "python",
   "pygments_lexer": "ipython3",
   "version": "3.10.9"
  },
  "orig_nbformat": 4
 },
 "nbformat": 4,
 "nbformat_minor": 2
}
