{
 "cells": [
  {
   "attachments": {},
   "cell_type": "markdown",
   "metadata": {},
   "source": [
    "# Test LOF and OC-SVM"
   ]
  },
  {
   "cell_type": "code",
   "execution_count": 2,
   "metadata": {},
   "outputs": [
    {
     "name": "stderr",
     "output_type": "stream",
     "text": [
      "/root/anaconda3/envs/PRO/lib/python3.10/site-packages/tqdm/auto.py:21: TqdmWarning: IProgress not found. Please update jupyter and ipywidgets. See https://ipywidgets.readthedocs.io/en/stable/user_install.html\n",
      "  from .autonotebook import tqdm as notebook_tqdm\n"
     ]
    }
   ],
   "source": [
    "import pandas as pd\n",
    "import numpy as np\n",
    "import os\n",
    "import json\n",
    "import torch\n",
    "import torch.nn as nn\n",
    "from config import whisper_config\n",
    "from sklearn.metrics import accuracy_score\n",
    "from sklearn.cluster import KMeans\n",
    "from model import AutoEncoder, Dataset, train_kmeans, test_kmeans, train_ae, test_ae, get_flows, transform\n",
    "from model import get_metrics\n",
    "from sklearn.neighbors import LocalOutlierFactor\n",
    "from sklearn.svm import OneClassSVM\n",
    "\n",
    "MAX_LEN = whisper_config[\"n_fft\"] * 2"
   ]
  },
  {
   "cell_type": "code",
   "execution_count": 3,
   "metadata": {},
   "outputs": [],
   "source": [
    "benign_filenames = [os.path.join(\"train_set\", \"benign\" + str(i) + \".csv\") \n",
    "                    for i in range(1, 3)]\n",
    "attack_filenames = [os.path.join(\"attack_set\", x) for x in \n",
    "                    os.listdir(\"attack_set\") if x.endswith(\".csv\")]"
   ]
  },
  {
   "cell_type": "code",
   "execution_count": 4,
   "metadata": {},
   "outputs": [
    {
     "name": "stderr",
     "output_type": "stream",
     "text": [
      "/root/anaconda3/envs/PRO/lib/python3.10/site-packages/torch/functional.py:632: UserWarning: stft will soon require the return_complex parameter be given for real inputs, and will further require that return_complex=True in a future PyTorch release. (Triggered internally at ../aten/src/ATen/native/SpectralOps.cpp:801.)\n",
      "  return _VF.stft(input, n_fft, hop_length, win_length, window,  # type: ignore[attr-defined]\n"
     ]
    }
   ],
   "source": [
    "train_benign_filename = \"dataset/benign_small.csv\"\n",
    "\n",
    "train_df = pd.read_csv(train_benign_filename)\n",
    "train_df[\"label\"] = 1\n",
    "train_packet_data, train_packet_labels, train_flow_data, train_flow_labels \\\n",
    "= transform(get_flows(train_df))\n",
    "train_data =  train_flow_data + train_packet_data\n",
    "train_labels = train_flow_labels + train_packet_labels"
   ]
  },
  {
   "cell_type": "code",
   "execution_count": 5,
   "metadata": {},
   "outputs": [
    {
     "data": {
      "text/html": [
       "<style>#sk-container-id-1 {color: black;background-color: white;}#sk-container-id-1 pre{padding: 0;}#sk-container-id-1 div.sk-toggleable {background-color: white;}#sk-container-id-1 label.sk-toggleable__label {cursor: pointer;display: block;width: 100%;margin-bottom: 0;padding: 0.3em;box-sizing: border-box;text-align: center;}#sk-container-id-1 label.sk-toggleable__label-arrow:before {content: \"▸\";float: left;margin-right: 0.25em;color: #696969;}#sk-container-id-1 label.sk-toggleable__label-arrow:hover:before {color: black;}#sk-container-id-1 div.sk-estimator:hover label.sk-toggleable__label-arrow:before {color: black;}#sk-container-id-1 div.sk-toggleable__content {max-height: 0;max-width: 0;overflow: hidden;text-align: left;background-color: #f0f8ff;}#sk-container-id-1 div.sk-toggleable__content pre {margin: 0.2em;color: black;border-radius: 0.25em;background-color: #f0f8ff;}#sk-container-id-1 input.sk-toggleable__control:checked~div.sk-toggleable__content {max-height: 200px;max-width: 100%;overflow: auto;}#sk-container-id-1 input.sk-toggleable__control:checked~label.sk-toggleable__label-arrow:before {content: \"▾\";}#sk-container-id-1 div.sk-estimator input.sk-toggleable__control:checked~label.sk-toggleable__label {background-color: #d4ebff;}#sk-container-id-1 div.sk-label input.sk-toggleable__control:checked~label.sk-toggleable__label {background-color: #d4ebff;}#sk-container-id-1 input.sk-hidden--visually {border: 0;clip: rect(1px 1px 1px 1px);clip: rect(1px, 1px, 1px, 1px);height: 1px;margin: -1px;overflow: hidden;padding: 0;position: absolute;width: 1px;}#sk-container-id-1 div.sk-estimator {font-family: monospace;background-color: #f0f8ff;border: 1px dotted black;border-radius: 0.25em;box-sizing: border-box;margin-bottom: 0.5em;}#sk-container-id-1 div.sk-estimator:hover {background-color: #d4ebff;}#sk-container-id-1 div.sk-parallel-item::after {content: \"\";width: 100%;border-bottom: 1px solid gray;flex-grow: 1;}#sk-container-id-1 div.sk-label:hover label.sk-toggleable__label {background-color: #d4ebff;}#sk-container-id-1 div.sk-serial::before {content: \"\";position: absolute;border-left: 1px solid gray;box-sizing: border-box;top: 0;bottom: 0;left: 50%;z-index: 0;}#sk-container-id-1 div.sk-serial {display: flex;flex-direction: column;align-items: center;background-color: white;padding-right: 0.2em;padding-left: 0.2em;position: relative;}#sk-container-id-1 div.sk-item {position: relative;z-index: 1;}#sk-container-id-1 div.sk-parallel {display: flex;align-items: stretch;justify-content: center;background-color: white;position: relative;}#sk-container-id-1 div.sk-item::before, #sk-container-id-1 div.sk-parallel-item::before {content: \"\";position: absolute;border-left: 1px solid gray;box-sizing: border-box;top: 0;bottom: 0;left: 50%;z-index: -1;}#sk-container-id-1 div.sk-parallel-item {display: flex;flex-direction: column;z-index: 1;position: relative;background-color: white;}#sk-container-id-1 div.sk-parallel-item:first-child::after {align-self: flex-end;width: 50%;}#sk-container-id-1 div.sk-parallel-item:last-child::after {align-self: flex-start;width: 50%;}#sk-container-id-1 div.sk-parallel-item:only-child::after {width: 0;}#sk-container-id-1 div.sk-dashed-wrapped {border: 1px dashed gray;margin: 0 0.4em 0.5em 0.4em;box-sizing: border-box;padding-bottom: 0.4em;background-color: white;}#sk-container-id-1 div.sk-label label {font-family: monospace;font-weight: bold;display: inline-block;line-height: 1.2em;}#sk-container-id-1 div.sk-label-container {text-align: center;}#sk-container-id-1 div.sk-container {/* jupyter's `normalize.less` sets `[hidden] { display: none; }` but bootstrap.min.css set `[hidden] { display: none !important; }` so we also need the `!important` here to be able to override the default hidden behavior on the sphinx rendered scikit-learn.org. See: https://github.com/scikit-learn/scikit-learn/issues/21755 */display: inline-block !important;position: relative;}#sk-container-id-1 div.sk-text-repr-fallback {display: none;}</style><div id=\"sk-container-id-1\" class=\"sk-top-container\"><div class=\"sk-text-repr-fallback\"><pre>LocalOutlierFactor(novelty=True)</pre><b>In a Jupyter environment, please rerun this cell to show the HTML representation or trust the notebook. <br />On GitHub, the HTML representation is unable to render, please try loading this page with nbviewer.org.</b></div><div class=\"sk-container\" hidden><div class=\"sk-item\"><div class=\"sk-estimator sk-toggleable\"><input class=\"sk-toggleable__control sk-hidden--visually\" id=\"sk-estimator-id-1\" type=\"checkbox\" checked><label for=\"sk-estimator-id-1\" class=\"sk-toggleable__label sk-toggleable__label-arrow\">LocalOutlierFactor</label><div class=\"sk-toggleable__content\"><pre>LocalOutlierFactor(novelty=True)</pre></div></div></div></div></div>"
      ],
      "text/plain": [
       "LocalOutlierFactor(novelty=True)"
      ]
     },
     "execution_count": 5,
     "metadata": {},
     "output_type": "execute_result"
    }
   ],
   "source": [
    "lof = LocalOutlierFactor(novelty=True)\n",
    "lof.fit(train_data)"
   ]
  },
  {
   "cell_type": "code",
   "execution_count": 6,
   "metadata": {},
   "outputs": [
    {
     "data": {
      "text/html": [
       "<style>#sk-container-id-2 {color: black;background-color: white;}#sk-container-id-2 pre{padding: 0;}#sk-container-id-2 div.sk-toggleable {background-color: white;}#sk-container-id-2 label.sk-toggleable__label {cursor: pointer;display: block;width: 100%;margin-bottom: 0;padding: 0.3em;box-sizing: border-box;text-align: center;}#sk-container-id-2 label.sk-toggleable__label-arrow:before {content: \"▸\";float: left;margin-right: 0.25em;color: #696969;}#sk-container-id-2 label.sk-toggleable__label-arrow:hover:before {color: black;}#sk-container-id-2 div.sk-estimator:hover label.sk-toggleable__label-arrow:before {color: black;}#sk-container-id-2 div.sk-toggleable__content {max-height: 0;max-width: 0;overflow: hidden;text-align: left;background-color: #f0f8ff;}#sk-container-id-2 div.sk-toggleable__content pre {margin: 0.2em;color: black;border-radius: 0.25em;background-color: #f0f8ff;}#sk-container-id-2 input.sk-toggleable__control:checked~div.sk-toggleable__content {max-height: 200px;max-width: 100%;overflow: auto;}#sk-container-id-2 input.sk-toggleable__control:checked~label.sk-toggleable__label-arrow:before {content: \"▾\";}#sk-container-id-2 div.sk-estimator input.sk-toggleable__control:checked~label.sk-toggleable__label {background-color: #d4ebff;}#sk-container-id-2 div.sk-label input.sk-toggleable__control:checked~label.sk-toggleable__label {background-color: #d4ebff;}#sk-container-id-2 input.sk-hidden--visually {border: 0;clip: rect(1px 1px 1px 1px);clip: rect(1px, 1px, 1px, 1px);height: 1px;margin: -1px;overflow: hidden;padding: 0;position: absolute;width: 1px;}#sk-container-id-2 div.sk-estimator {font-family: monospace;background-color: #f0f8ff;border: 1px dotted black;border-radius: 0.25em;box-sizing: border-box;margin-bottom: 0.5em;}#sk-container-id-2 div.sk-estimator:hover {background-color: #d4ebff;}#sk-container-id-2 div.sk-parallel-item::after {content: \"\";width: 100%;border-bottom: 1px solid gray;flex-grow: 1;}#sk-container-id-2 div.sk-label:hover label.sk-toggleable__label {background-color: #d4ebff;}#sk-container-id-2 div.sk-serial::before {content: \"\";position: absolute;border-left: 1px solid gray;box-sizing: border-box;top: 0;bottom: 0;left: 50%;z-index: 0;}#sk-container-id-2 div.sk-serial {display: flex;flex-direction: column;align-items: center;background-color: white;padding-right: 0.2em;padding-left: 0.2em;position: relative;}#sk-container-id-2 div.sk-item {position: relative;z-index: 1;}#sk-container-id-2 div.sk-parallel {display: flex;align-items: stretch;justify-content: center;background-color: white;position: relative;}#sk-container-id-2 div.sk-item::before, #sk-container-id-2 div.sk-parallel-item::before {content: \"\";position: absolute;border-left: 1px solid gray;box-sizing: border-box;top: 0;bottom: 0;left: 50%;z-index: -1;}#sk-container-id-2 div.sk-parallel-item {display: flex;flex-direction: column;z-index: 1;position: relative;background-color: white;}#sk-container-id-2 div.sk-parallel-item:first-child::after {align-self: flex-end;width: 50%;}#sk-container-id-2 div.sk-parallel-item:last-child::after {align-self: flex-start;width: 50%;}#sk-container-id-2 div.sk-parallel-item:only-child::after {width: 0;}#sk-container-id-2 div.sk-dashed-wrapped {border: 1px dashed gray;margin: 0 0.4em 0.5em 0.4em;box-sizing: border-box;padding-bottom: 0.4em;background-color: white;}#sk-container-id-2 div.sk-label label {font-family: monospace;font-weight: bold;display: inline-block;line-height: 1.2em;}#sk-container-id-2 div.sk-label-container {text-align: center;}#sk-container-id-2 div.sk-container {/* jupyter's `normalize.less` sets `[hidden] { display: none; }` but bootstrap.min.css set `[hidden] { display: none !important; }` so we also need the `!important` here to be able to override the default hidden behavior on the sphinx rendered scikit-learn.org. See: https://github.com/scikit-learn/scikit-learn/issues/21755 */display: inline-block !important;position: relative;}#sk-container-id-2 div.sk-text-repr-fallback {display: none;}</style><div id=\"sk-container-id-2\" class=\"sk-top-container\"><div class=\"sk-text-repr-fallback\"><pre>OneClassSVM(nu=0.1)</pre><b>In a Jupyter environment, please rerun this cell to show the HTML representation or trust the notebook. <br />On GitHub, the HTML representation is unable to render, please try loading this page with nbviewer.org.</b></div><div class=\"sk-container\" hidden><div class=\"sk-item\"><div class=\"sk-estimator sk-toggleable\"><input class=\"sk-toggleable__control sk-hidden--visually\" id=\"sk-estimator-id-2\" type=\"checkbox\" checked><label for=\"sk-estimator-id-2\" class=\"sk-toggleable__label sk-toggleable__label-arrow\">OneClassSVM</label><div class=\"sk-toggleable__content\"><pre>OneClassSVM(nu=0.1)</pre></div></div></div></div></div>"
      ],
      "text/plain": [
       "OneClassSVM(nu=0.1)"
      ]
     },
     "execution_count": 6,
     "metadata": {},
     "output_type": "execute_result"
    }
   ],
   "source": [
    "ocs = OneClassSVM(kernel=\"rbf\", nu=0.1)\n",
    "ocs.fit(train_data)"
   ]
  },
  {
   "cell_type": "code",
   "execution_count": 8,
   "metadata": {},
   "outputs": [
    {
     "name": "stdout",
     "output_type": "stream",
     "text": [
      "lof metrics of attack_set/LDoS_small.csv: (0.7499307890053392, 1.0, 0.7282767511817791, 0.8427779297312082, nan, nan, 0.3791676661069801, 0.24166466778603982)\n",
      "ocs metrics of attack_set/LDoS_small.csv: (0.8580581372355152, 1.0, 0.8252337358784574, 0.9042499266334072, nan, nan, 0.21521947709282802, 0.569561045814344)\n",
      "lof metrics of attack_set/osscan.csv: (0.3883859784283513, 0.9965786901270772, 0.24323034713109865, 0.39102502636877934, nan, nan, 0.3821376158383563, 0.23914607819621012)\n",
      "ocs metrics of attack_set/osscan.csv: (0.650808936825886, 0.987781036168133, 0.35948061188189256, 0.5271257172665624, nan, nan, 0.2220485560344272, 0.5681218517630127)\n",
      "lof metrics of attack_set/infiltration.csv: (0.25156047579790364, 0.9150326797385621, 0.02159827213822894, 0.04220045214770158, nan, nan, 0.42279068819500293, 0.239385943871432)\n",
      "ocs metrics of attack_set/infiltration.csv: (0.5757861264868684, 0.954248366013072, 0.039026998128842555, 0.07498715973292244, nan, nan, 0.23845509259912487, 0.5688414487886784)\n",
      "lof metrics of attack_set/HOIC_small.csv: (0.7172640045153097, 1.0, 0.6959984828370946, 0.8207536620820753, nan, nan, 0.40083016603320665, 0.1983396679335867)\n",
      "ocs metrics of attack_set/HOIC_small.csv: (0.813919853252434, 0.9996730245231608, 0.7768602041248465, 0.8742940209231942, nan, nan, 0.2636661882785276, 0.47299459891978396)\n",
      "lof metrics of attack_set/BruteForce-Web.csv: (0.263934045517882, 1.0, 0.04143353999697565, 0.07957020473355597, nan, nan, 0.3801271288078676, 0.2397457423842648)\n",
      "ocs metrics of attack_set/BruteForce-Web.csv: (0.5819786344635393, 0.9854014598540146, 0.06983962752198655, 0.13043478260869565, nan, nan, 0.22293851209745902, 0.5687215159510673)\n",
      "lof metrics of attack_set/LOIC_UDP_small.csv: (0.25079514666038405, 1.0, 0.02319152203962525, 0.045331732212548784, nan, nan, 0.3813864236027824, 0.23722715279443513)\n",
      "ocs metrics of attack_set/LOIC_UDP_small.csv: (0.5756861821180351, 0.9933774834437086, 0.03998933617701946, 0.0768836494105587, nan, nan, 0.21925033239663938, 0.5681218517630127)\n",
      "lof metrics of attack_set/SQL_Injection.csv: (0.24259436215957955, 1.0, 0.005333333333333333, 0.010610079575596816, nan, nan, 0.3802470616454785, 0.23950587670904294)\n",
      "ocs metrics of attack_set/SQL_Injection.csv: (0.5714285714285714, 0.9411764705882353, 0.008844665561083471, 0.017524644030668127, nan, nan, 0.24445134254229395, 0.5699208443271768)\n",
      "lof metrics of attack_set/ssldosA.csv: (0.24816914717694308, 0.875, 0.01733477789815818, 0.03399605402944301, nan, nan, 0.44322679299592227, 0.23854641400815543)\n",
      "ocs metrics of attack_set/ssldosA.csv: (0.5716985589416489, 0.875, 0.030091348737238045, 0.05818181818181818, nan, nan, 0.27897877188774284, 0.5670424562245143)\n",
      "lof metrics of attack_set/fuzzscan.csv: (0.45862743430563824, 0.9935691318327974, 0.3488658524068562, 0.51640838650866, nan, nan, 0.3836423949854962, 0.23914607819621012)\n",
      "ocs metrics of attack_set/fuzzscan.csv: (0.6874734246109363, 0.9736919029523531, 0.4816367842683632, 0.644480990616233, nan, nan, 0.22813365994142956, 0.5700407771647877)\n",
      "lof metrics of attack_set/BruteForce-XSS.csv: (0.24608262108262108, 1.0, 0.013360260991144943, 0.026368235474474932, nan, nan, 0.38084672583353324, 0.23830654833293355)\n",
      "ocs metrics of attack_set/BruteForce-XSS.csv: (0.5732431149097815, 0.9767441860465116, 0.022844710361707914, 0.04464522986978475, nan, nan, 0.2270872497447941, 0.5690813144639002)\n"
     ]
    }
   ],
   "source": [
    "with open(\"attacker-ips.json\", \"r\") as f:\n",
    "    attack_ips_dict = json.load(f)\n",
    "\n",
    "accuracy_dict = {\n",
    "    \"lof\": {},\n",
    "    \"ocs\": {}\n",
    "}\n",
    "\n",
    "for filename in attack_filenames:\n",
    "    benign_df = pd.read_csv(benign_filenames[0])\n",
    "    attack_df = pd.read_csv(filename)\n",
    "    test_df = pd.concat([benign_df, attack_df], ignore_index=True)\n",
    "    # test_df = pd.read_csv(filename)\n",
    "    \n",
    "    file_key = os.path.basename(filename).split(\".\")[0]\n",
    "    cur_attack_ips = attack_ips_dict.get(file_key, [])\n",
    "    test_df[\"label\"] = 0\n",
    "    for row in test_df.iterrows():\n",
    "        if row[1][\"src_ip\"] in cur_attack_ips or row[1][\"dst_ip\"] in cur_attack_ips:\n",
    "            test_df.loc[row[0], \"label\"] = -1\n",
    "        else:\n",
    "            test_df.loc[row[0], \"label\"] = 1\n",
    "\n",
    "    test_packet_data, test_packet_labels, test_flow_data, test_flow_labels \\\n",
    "    = transform(get_flows(test_df), test_data_aug=False)\n",
    "    test_data =  test_flow_data + test_packet_data\n",
    "    test_labels = test_flow_labels + test_packet_labels\n",
    "\n",
    "    lof_pred = lof.predict(test_data)\n",
    "    lof_metrics = get_metrics(test_labels, lof_pred)\n",
    "    print(f\"lof metrics of {filename}: {lof_metrics}\")\n",
    "    accuracy_dict[\"lof\"][filename] = lof_metrics\n",
    "\n",
    "    ocs_pred = ocs.predict(test_data)\n",
    "    ocs_metrics = get_metrics(test_labels, ocs_pred)\n",
    "    print(f\"ocs metrics of {filename}: {ocs_metrics}\")\n",
    "    accuracy_dict[\"ocs\"][filename] = ocs_metrics\n",
    "\n",
    "metrics_save_dir = os.path.join(\"result\", \"unsupervised\",\n",
    "                    os.path.basename(train_benign_filename))\n",
    "accuracy_save_path = os.path.join(metrics_save_dir, \"all-metrics.json\")\n",
    "os.makedirs(os.path.dirname(accuracy_save_path), exist_ok=True)\n",
    "with open(accuracy_save_path, \"w\") as f:\n",
    "    json.dump(accuracy_dict, f, indent=4)"
   ]
  }
 ],
 "metadata": {
  "kernelspec": {
   "display_name": "PRO",
   "language": "python",
   "name": "python3"
  },
  "language_info": {
   "codemirror_mode": {
    "name": "ipython",
    "version": 3
   },
   "file_extension": ".py",
   "mimetype": "text/x-python",
   "name": "python",
   "nbconvert_exporter": "python",
   "pygments_lexer": "ipython3",
   "version": "3.10.9"
  },
  "orig_nbformat": 4
 },
 "nbformat": 4,
 "nbformat_minor": 2
}
