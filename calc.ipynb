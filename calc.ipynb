{
 "cells": [
  {
   "cell_type": "code",
   "execution_count": 9,
   "metadata": {},
   "outputs": [],
   "source": [
    "import os\n",
    "import json\n",
    "\n",
    "with open(os.path.join(\"model\", \"whisper\", \"train_packet.json\")) as f:\n",
    "    train_packet_loss = json.load(f)[\"train_loss\"]\n",
    "with open(os.path.join(\"model\", \"whisper\", \"train_flow.json\")) as f:\n",
    "    train_flow_loss = json.load(f)[\"train_loss\"]\n",
    "\n",
    "benign_traffic_list = [\"benign2\"]\n",
    "attack_traffic_list = [\"BruteForce-Web\", \"BruteForce-XSS\", \"mirai\", \"infiltration\", \"SQL_Injection\", \"osscan\", \"ssldosA10only\"]\n",
    "\n",
    "granularity_list = [\"packet\", \"flow\"]\n",
    "train_loss_list = [train_packet_loss, train_flow_loss]"
   ]
  },
  {
   "cell_type": "code",
   "execution_count": 10,
   "metadata": {},
   "outputs": [
    {
     "name": "stdout",
     "output_type": "stream",
     "text": [
      "benign2-packet accuracy: 0.5897380385364798\n",
      "benign2-flow accuracy: 0.9722772277227723\n",
      "BruteForce-Web-packet accuracy: 1.0\n",
      "BruteForce-Web-flow accuracy: 1.0\n",
      "BruteForce-XSS-packet accuracy: 1.0\n",
      "BruteForce-XSS-flow accuracy: 1.0\n",
      "mirai-packet accuracy: 0.3630716181823157\n",
      "mirai-flow accuracy: 0.6956521739130435\n",
      "infiltration-packet accuracy: empty result\n",
      "infiltration-flow accuracy: 0.8333333333333334\n",
      "SQL_Injection-packet accuracy: 1.0\n",
      "SQL_Injection-flow accuracy: empty result\n",
      "osscan-packet accuracy: 0.019061583577712593\n",
      "osscan-flow accuracy: empty result\n",
      "ssldosA10only-packet accuracy: 1.0\n",
      "ssldosA10only-flow accuracy: empty result\n"
     ]
    }
   ],
   "source": [
    "phi = 4\n",
    "\n",
    "for benign_traffic in benign_traffic_list:\n",
    "    filename = os.path.join(\"result\", \"whisper\", benign_traffic)\n",
    "    for idx in range(2):\n",
    "        granularity = granularity_list[idx]\n",
    "        train_loss = train_loss_list[idx]\n",
    "        with open(f\"{filename}-{granularity}.json\", \"r\") as f:\n",
    "            result = json.load(f)\n",
    "            bad_count = 0\n",
    "            for dict_pair in result:\n",
    "                if dict_pair[\"loss\"] > phi * train_loss:\n",
    "                    bad_count += 1\n",
    "            print(f\"{benign_traffic}-{granularity} accuracy: {1 - bad_count / len(result)}\")\n",
    "\n",
    "for attack_traffic in attack_traffic_list:\n",
    "    filename = os.path.join(\"result\", \"whisper\", attack_traffic)\n",
    "    for idx in range(2):\n",
    "        granularity = granularity_list[idx]\n",
    "        train_loss = train_loss_list[idx]\n",
    "        with open(f\"{filename}-{granularity}.json\", \"r\") as f:\n",
    "            result = json.load(f)\n",
    "            bad_count = 0\n",
    "            for dict_pair in result:\n",
    "                if dict_pair[\"loss\"] <= phi * train_loss:\n",
    "                    bad_count += 1\n",
    "            if len(result) > 1:\n",
    "                print(f\"{attack_traffic}-{granularity} accuracy: {1 - bad_count / len(result)}\")\n",
    "            else:\n",
    "                print(f\"{attack_traffic}-{granularity} accuracy: empty result\")"
   ]
  }
 ],
 "metadata": {
  "kernelspec": {
   "display_name": "PRO",
   "language": "python",
   "name": "python3"
  },
  "language_info": {
   "codemirror_mode": {
    "name": "ipython",
    "version": 3
   },
   "file_extension": ".py",
   "mimetype": "text/x-python",
   "name": "python",
   "nbconvert_exporter": "python",
   "pygments_lexer": "ipython3",
   "version": "3.10.9"
  },
  "orig_nbformat": 4,
  "vscode": {
   "interpreter": {
    "hash": "4c4067ac78a363bc0422166851ee04b79641d0bfa5e795e52c96a7ffb7a6500a"
   }
  }
 },
 "nbformat": 4,
 "nbformat_minor": 2
}
