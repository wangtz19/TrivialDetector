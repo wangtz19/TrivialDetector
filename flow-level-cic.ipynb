{
 "cells": [
  {
   "attachments": {},
   "cell_type": "markdown",
   "metadata": {},
   "source": [
    "# Test flow level ensemble on cic-ids2017 datasets"
   ]
  },
  {
   "cell_type": "code",
   "execution_count": 1,
   "metadata": {},
   "outputs": [
    {
     "name": "stderr",
     "output_type": "stream",
     "text": [
      "/root/anaconda3/envs/PRO/lib/python3.10/site-packages/tqdm/auto.py:21: TqdmWarning: IProgress not found. Please update jupyter and ipywidgets. See https://ipywidgets.readthedocs.io/en/stable/user_install.html\n",
      "  from .autonotebook import tqdm as notebook_tqdm\n"
     ]
    }
   ],
   "source": [
    "import pandas as pd\n",
    "import numpy as np\n",
    "import os\n",
    "import json\n",
    "import torch\n",
    "import torch.nn as nn\n",
    "from config import whisper_config\n",
    "from sklearn.metrics import accuracy_score\n",
    "from sklearn.cluster import KMeans\n",
    "from model import AutoEncoder, Dataset, train_kmeans, test_kmeans, train_ae, test_ae, get_flows, transform\n",
    "from model import get_metrics, test_ensemble, get_ensemble_result\n",
    "from plot import plot_cdf, plot_line\n",
    "\n",
    "MAX_LEN = whisper_config[\"n_fft\"] * 2"
   ]
  },
  {
   "cell_type": "code",
   "execution_count": 2,
   "metadata": {},
   "outputs": [],
   "source": [
    "benign_filenames = [os.path.join(\"train_set\", \"benign\" + str(i) + \".csv\") \n",
    "                    for i in range(1, 3)]\n",
    "attack_filenames = [os.path.join(\"cic-ids\", x) for x in \n",
    "                    os.listdir(\"cic-ids\") if x.endswith(\".csv\")]"
   ]
  },
  {
   "cell_type": "code",
   "execution_count": 3,
   "metadata": {},
   "outputs": [],
   "source": [
    "USE_DATA_AUG = True\n",
    "USE_SHORT_FLOW = True\n",
    "\n",
    "accuracy_dict = {}\n",
    "suffix = \"-all\" if USE_SHORT_FLOW else \"-long\"\n",
    "train_benign_filename = \"cic-ids-benign/benign.csv\"\n",
    "\n",
    "aec_input_dim = MAX_LEN\n",
    "aew_input_dim = whisper_config[\"n_fft\"] // 2 + 1\n",
    "kmeans_save_path = os.path.join(\"model-cic\", \"whisper\", \"kmeans\"+suffix, \n",
    "                    os.path.basename(train_benign_filename), \"kmeans.json\")\n",
    "aec_save_dir = os.path.join(\"model-cic\", \"autoencoding\"+suffix, \n",
    "                        os.path.basename(train_benign_filename))\n",
    "aew_save_dir = os.path.join(\"model-cic\", \"whisper\", \"autoencoder\"+suffix, \n",
    "                        os.path.basename(train_benign_filename))"
   ]
  },
  {
   "attachments": {},
   "cell_type": "markdown",
   "metadata": {},
   "source": [
    "## Label benign traffic"
   ]
  },
  {
   "cell_type": "code",
   "execution_count": 12,
   "metadata": {},
   "outputs": [],
   "source": [
    "with open(\"cic-attacker-ips.json\", \"r\") as f:\n",
    "    attack_ips_dict = json.load(f)\n",
    "attack_ips_set = set()\n",
    "for key, value in attack_ips_dict.items():\n",
    "    attack_ips_set.update(value)\n",
    "\n",
    "train_df = pd.read_csv(\"cic-ids-benign/benign.csv\")\n",
    "for row in train_df.iterrows():\n",
    "    if row[1][\"src_ip\"] in attack_ips_set or row[1][\"dst_ip\"] in attack_ips_set:\n",
    "        train_df.drop(row[0], inplace=True)\n",
    "train_df.to_csv(train_benign_filename, index=False)"
   ]
  },
  {
   "attachments": {},
   "cell_type": "markdown",
   "metadata": {},
   "source": [
    "## Train Whisper"
   ]
  },
  {
   "cell_type": "code",
   "execution_count": 14,
   "metadata": {},
   "outputs": [],
   "source": [
    "train_df = pd.read_csv(train_benign_filename)\n",
    "train_df[\"label\"] = 1\n",
    "train_packet_data, train_packet_labels, train_flow_data, train_flow_labels \\\n",
    "= transform(get_flows(train_df))\n",
    "\n",
    "train_data = train_flow_data if not USE_SHORT_FLOW else train_flow_data + train_packet_data\n",
    "train_labels = train_flow_labels if not USE_SHORT_FLOW else train_flow_labels + train_packet_labels"
   ]
  },
  {
   "cell_type": "code",
   "execution_count": 15,
   "metadata": {},
   "outputs": [
    {
     "name": "stderr",
     "output_type": "stream",
     "text": [
      "/root/anaconda3/envs/PRO/lib/python3.10/site-packages/sklearn/cluster/_kmeans.py:870: FutureWarning: The default value of `n_init` will change from 10 to 'auto' in 1.4. Set the value of `n_init` explicitly to suppress the warning\n",
      "  warnings.warn(\n"
     ]
    }
   ],
   "source": [
    "train_kmeans(train_data, kmeans_save_path, whisper_config[\"val_K\"])"
   ]
  },
  {
   "attachments": {},
   "cell_type": "markdown",
   "metadata": {},
   "source": [
    "## Train FAE"
   ]
  },
  {
   "cell_type": "code",
   "execution_count": 16,
   "metadata": {},
   "outputs": [
    {
     "name": "stdout",
     "output_type": "stream",
     "text": [
      "Epoch 1/50, Loss: 293.7304\n",
      "Epoch 2/50, Loss: 121.1765\n",
      "Epoch 3/50, Loss: 48.1123\n",
      "Epoch 4/50, Loss: 23.1398\n",
      "Epoch 5/50, Loss: 19.3566\n",
      "Epoch 6/50, Loss: 22.2214\n",
      "Epoch 7/50, Loss: 31.8477\n",
      "Epoch 8/50, Loss: 17.7351\n",
      "Epoch 9/50, Loss: 18.4880\n",
      "Epoch 10/50, Loss: 22.1270\n",
      "Epoch 11/50, Loss: 19.1999\n",
      "Epoch 12/50, Loss: 18.6823\n",
      "Epoch 13/50, Loss: 14.5888\n",
      "Epoch 14/50, Loss: 23.1581\n",
      "Epoch 15/50, Loss: 11.6993\n",
      "Epoch 16/50, Loss: 24.8537\n",
      "Epoch 17/50, Loss: 22.4674\n",
      "Epoch 18/50, Loss: 14.5400\n",
      "Epoch 19/50, Loss: 10.7778\n",
      "Epoch 20/50, Loss: 13.9572\n",
      "Epoch 21/50, Loss: 18.8821\n",
      "Epoch 22/50, Loss: 22.3701\n",
      "Epoch 23/50, Loss: 27.8160\n",
      "Epoch 24/50, Loss: 14.1748\n",
      "Epoch 25/50, Loss: 22.6573\n",
      "Epoch 26/50, Loss: 21.7075\n",
      "Epoch 27/50, Loss: 17.6834\n",
      "Epoch 28/50, Loss: 13.3385\n",
      "Epoch 29/50, Loss: 17.1879\n",
      "Epoch 30/50, Loss: 24.5757\n",
      "Epoch 31/50, Loss: 14.6766\n",
      "Epoch 32/50, Loss: 17.1005\n",
      "Epoch 33/50, Loss: 15.8159\n",
      "Epoch 34/50, Loss: 18.0359\n",
      "Epoch 35/50, Loss: 19.7387\n",
      "Epoch 36/50, Loss: 18.8387\n",
      "Epoch 37/50, Loss: 18.0954\n",
      "Epoch 38/50, Loss: 29.6346\n",
      "Epoch 39/50, Loss: 17.8533\n",
      "Epoch 40/50, Loss: 22.8497\n",
      "Epoch 41/50, Loss: 15.7386\n",
      "Epoch 42/50, Loss: 18.4579\n",
      "Epoch 43/50, Loss: 15.2293\n",
      "Epoch 44/50, Loss: 18.0086\n",
      "Epoch 45/50, Loss: 20.5490\n",
      "Epoch 46/50, Loss: 18.1932\n",
      "Epoch 47/50, Loss: 23.5073\n",
      "Epoch 48/50, Loss: 23.1143\n",
      "Epoch 49/50, Loss: 23.9367\n",
      "Epoch 50/50, Loss: 20.8114\n"
     ]
    }
   ],
   "source": [
    "device = torch.device(\"cuda\" if torch.cuda.is_available() else \"cpu\")\n",
    "model_aew = AutoEncoder(aew_input_dim).to(device)\n",
    "criterion = nn.MSELoss()\n",
    "optimizer = torch.optim.Adam(model_aew.parameters(), lr=0.01, weight_decay=1e-5)\n",
    "train_ae(torch.tensor(train_data), torch.tensor(train_labels), aew_save_dir,\n",
    "         model_aew, criterion, optimizer, device, num_epochs=50)"
   ]
  },
  {
   "attachments": {},
   "cell_type": "markdown",
   "metadata": {},
   "source": [
    "## Train TAE"
   ]
  },
  {
   "cell_type": "code",
   "execution_count": 17,
   "metadata": {},
   "outputs": [],
   "source": [
    "train_df = pd.read_csv(train_benign_filename)\n",
    "train_df[\"label\"] = 1\n",
    "train_packet_data_, train_packet_labels_, train_flow_data_, train_flow_labels_ \\\n",
    "= transform(get_flows(train_df), feature_type=\"encoding\")\n",
    "\n",
    "train_data_ = train_flow_data_ if not USE_SHORT_FLOW else train_flow_data_ + train_packet_data_\n",
    "train_labels_ = train_flow_labels_ if not USE_SHORT_FLOW else train_flow_labels_ + train_packet_labels_"
   ]
  },
  {
   "cell_type": "code",
   "execution_count": 18,
   "metadata": {},
   "outputs": [
    {
     "name": "stdout",
     "output_type": "stream",
     "text": [
      "Epoch 1/50, Loss: 0.0224\n",
      "Epoch 2/50, Loss: 0.0039\n",
      "Epoch 3/50, Loss: 0.0033\n",
      "Epoch 4/50, Loss: 0.0015\n",
      "Epoch 5/50, Loss: 0.0046\n",
      "Epoch 6/50, Loss: 0.0046\n",
      "Epoch 7/50, Loss: 0.0026\n",
      "Epoch 8/50, Loss: 0.0045\n",
      "Epoch 9/50, Loss: 0.0032\n",
      "Epoch 10/50, Loss: 0.0016\n",
      "Epoch 11/50, Loss: 0.0013\n",
      "Epoch 12/50, Loss: 0.0011\n",
      "Epoch 13/50, Loss: 0.0021\n",
      "Epoch 14/50, Loss: 0.0012\n",
      "Epoch 15/50, Loss: 0.0014\n",
      "Epoch 16/50, Loss: 0.0008\n",
      "Epoch 17/50, Loss: 0.0016\n",
      "Epoch 18/50, Loss: 0.0013\n",
      "Epoch 19/50, Loss: 0.0012\n",
      "Epoch 20/50, Loss: 0.0035\n",
      "Epoch 21/50, Loss: 0.0029\n",
      "Epoch 22/50, Loss: 0.0008\n",
      "Epoch 23/50, Loss: 0.0022\n",
      "Epoch 24/50, Loss: 0.0019\n",
      "Epoch 25/50, Loss: 0.0005\n",
      "Epoch 26/50, Loss: 0.0012\n",
      "Epoch 27/50, Loss: 0.0011\n",
      "Epoch 28/50, Loss: 0.0015\n",
      "Epoch 29/50, Loss: 0.0011\n",
      "Epoch 30/50, Loss: 0.0036\n",
      "Epoch 31/50, Loss: 0.0022\n",
      "Epoch 32/50, Loss: 0.0007\n",
      "Epoch 33/50, Loss: 0.0015\n",
      "Epoch 34/50, Loss: 0.0016\n",
      "Epoch 35/50, Loss: 0.0037\n",
      "Epoch 36/50, Loss: 0.0011\n",
      "Epoch 37/50, Loss: 0.0006\n",
      "Epoch 38/50, Loss: 0.0043\n",
      "Epoch 39/50, Loss: 0.0028\n",
      "Epoch 40/50, Loss: 0.0023\n",
      "Epoch 41/50, Loss: 0.0007\n",
      "Epoch 42/50, Loss: 0.0010\n",
      "Epoch 43/50, Loss: 0.0012\n",
      "Epoch 44/50, Loss: 0.0009\n",
      "Epoch 45/50, Loss: 0.0017\n",
      "Epoch 46/50, Loss: 0.0019\n",
      "Epoch 47/50, Loss: 0.0010\n",
      "Epoch 48/50, Loss: 0.0007\n",
      "Epoch 49/50, Loss: 0.0006\n",
      "Epoch 50/50, Loss: 0.0009\n"
     ]
    }
   ],
   "source": [
    "device = torch.device(\"cuda\" if torch.cuda.is_available() else \"cpu\")\n",
    "model_aec = AutoEncoder(aec_input_dim, decoder_sigmoid=True).to(device)\n",
    "criterion = nn.MSELoss()\n",
    "optimizer = torch.optim.Adam(model_aec.parameters(), lr=0.01, weight_decay=1e-5)\n",
    "train_ae(torch.tensor(train_data_), torch.tensor(train_labels_), aec_save_dir,\n",
    "         model_aec, criterion, optimizer, device, num_epochs=50, decoder_sigmoid=True)"
   ]
  },
  {
   "attachments": {},
   "cell_type": "markdown",
   "metadata": {},
   "source": [
    "## Test Ensemble"
   ]
  },
  {
   "cell_type": "code",
   "execution_count": 5,
   "metadata": {},
   "outputs": [
    {
     "name": "stdout",
     "output_type": "stream",
     "text": [
      "metrics of cic-ids/DoS-Slowhttptest.csv: {'kmeans': (0.6459417449483004, 0.6012084592145015, 0.2116645984754476, 0.3130982037498361, nan, nan, 0.37295755323561863, 0.6528764343142612), 'aec': (0.8031357707643442, 0.04179254783484391, 0.07593778591033852, 0.05391360831438779, nan, nan, 0.5185229751653976, 0.9211615018343611), 'aew': (0.8508481448942353, 0.00906344410876133, 0.07003891050583658, 0.016049933125278644, nan, nan, 0.5047961992632369, 0.9813441573647647), 'preds_majority': (0.8074609718186119, 0.04481369587109768, 0.08549471661863593, 0.058804096465147004, nan, nan, 0.51474872149697, 0.9256888611349622), 'preds_positive': (0.6366831114415085, 0.6042296072507553, 0.20725388601036268, 0.30864197530864196, nan, nan, 0.37702812042426714, 0.6417141519007104), 'preds_weighted': (0.65952557950936, 0.5926485397784491, 0.2177210506844247, 0.31845238095238093, nan, nan, 0.3687291997852739, 0.6698930606510031)}\n",
      "metrics of cic-ids/Infiltration-Dropbox-2.csv: {'kmeans': (0.731069998092695, 1.0, 0.00423728813559322, 0.008438818565400843, nan, nan, 0.13461905671185792, 0.7307618865762842), 'aec': (0.852946786191112, 1.0, 0.007722007722007722, 0.015325670498084292, nan, nan, 0.07361084590414357, 0.8527783081917129), 'aew': (0.9259965668510395, 0.3333333333333333, 0.0051813471502590676, 0.01020408163265306, nan, nan, 0.3699955445229457, 0.9266755776207752), 'preds_majority': (0.8523745946976922, 1.0, 0.007692307692307693, 0.015267175572519085, nan, nan, 0.07389726942906244, 0.8522054611418751), 'preds_positive': (0.7142857142857143, 1.0, 0.003989361702127659, 0.007947019867549669, nan, nan, 0.14302081344281076, 0.7139583731143785), 'preds_weighted': (0.7255388136563037, 1.0, 0.004152249134948097, 0.008270158511371467, nan, nan, 0.1373878174527401, 0.7252243650945198)}\n",
      "metrics of cic-ids/Infiltration-Dropbox-3.csv: {'kmeans': (0.22360296587180614, 0.028459421764861097, 0.15000993443274388, 0.04784234205690387, nan, nan, 0.6614148941430252, 0.6487107899490885), 'aec': (0.2821711835068592, 0.002789400278940028, 0.05270655270655271, 0.005298392582250384, nan, nan, 0.5532119676220673, 0.8907866644769256), 'aew': (0.308109644250394, 0.00015077839345621773, 0.015384615384615385, 0.00029863003471574154, nan, nan, 0.5104353679062444, 0.9789784857940549), 'preds_majority': (0.28568475986255715, 0.0025632326887557013, 0.054140127388535034, 0.004894727370883569, nan, nan, 0.5474948658366042, 0.9024470356380359), 'preds_positive': (0.21776422869248457, 0.02876097855177353, 0.14464454976303318, 0.04798138598918375, nan, nan, 0.6708716046640049, 0.6294958121202168), 'preds_weighted': (0.2260314671764797, 0.027253194617211353, 0.1483076923076923, 0.04604508979747803, nan, nan, 0.6568447444552308, 0.6590573164723271)}\n",
      "metrics of cic-ids/Web-BruteForce.csv: {'kmeans': (0.6817307692307693, 0.44324324324324327, 0.07208791208791208, 0.12400756143667296, nan, nan, 0.4311280165838776, 0.6945007235890015), 'aec': (0.8894230769230769, 0.11351351351351352, 0.08092485549132948, 0.09448818897637794, nan, nan, 0.4777584386122737, 0.9309696092619392), 'aew': (0.9303571428571429, 0.010810810810810811, 0.027586206896551724, 0.015533980582524271, nan, nan, 0.5047971995149998, 0.9795947901591896), 'preds_majority': (0.8906593406593407, 0.1, 0.074, 0.08505747126436783, nan, nan, 0.4835021707670043, 0.9329956584659913), 'preds_positive': (0.6722527472527473, 0.45675675675675675, 0.07179269328802039, 0.12408223201174744, nan, nan, 0.42972581843783003, 0.6837916063675832), 'preds_weighted': (0.6954670329670329, 0.4486486486486487, 0.07618173474070675, 0.1302471557473519, nan, nan, 0.4213341416669927, 0.7086830680173661)}\n",
      "metrics of cic-ids/DoS-GoldenEye.csv: {'kmeans': (0.5991085109346705, 0.5394238494204063, 0.729473847586528, 0.6202164159408815, nan, nan, 0.3846724862729678, 0.6912311780336581), 'aec': (0.35924223429447, 0.007460117066452427, 0.1053484602917342, 0.013933547695605574, nan, nan, 0.545162766976074, 0.9022143489813995), 'aew': (0.6445187351998886, 0.42958797199586823, 0.9654371937064741, 0.5945988880063543, nan, nan, 0.297074924542367, 0.9762621789193977), 'preds_majority': (0.6206296141523889, 0.4349822104900723, 0.8785350023180343, 0.5818684271129193, nan, nan, 0.32892164940509666, 0.9071744906997343), 'preds_positive': (0.5940242373589636, 0.5401124756111557, 0.7208946078431373, 0.6175447805262122, nan, nan, 0.39132551595881543, 0.6772364924712134), 'preds_weighted': (0.6057250313414124, 0.5367841156892, 0.7421453506823231, 0.6229770229770231, nan, nan, 0.37554062594636545, 0.7121346324180691)}\n",
      "metrics of cic-ids/BruteForce-SSH.csv: {'kmeans': (0.7090277777777778, 0.40782122905027934, 0.029423619508262798, 0.05488721804511279, nan, nan, 0.43838935001805857, 0.7154000709136036), 'aec': (0.8975694444444444, 0.3743016759776536, 0.07976190476190476, 0.13150147203140333, nan, nan, 0.35852934165896894, 0.9086396407044085), 'aew': (0.9230324074074074, 0.0223463687150838, 0.008097165991902834, 0.011887072808320952, nan, nan, 0.5177832037762484, 0.9420872237324194), 'preds_majority': (0.8792824074074074, 0.3407821229050279, 0.061866125760649086, 0.10472103004291845, nan, nan, 0.3842715079837229, 0.8906748611275263), 'preds_positive': (0.7017361111111111, 0.441340782122905, 0.030907668231611892, 0.057769652650822664, nan, nan, 0.42570710568834064, 0.7072450065004137), 'preds_weighted': (0.7233796296296297, 0.4301675977653631, 0.03255813953488372, 0.06053459119496855, nan, nan, 0.42012480530122104, 0.7295827916321947)}\n",
      "metrics of cic-ids/BruteForce-FTP.csv: {'kmeans': (0.6920759264838807, 0.27696793002915454, 0.05023796932839767, 0.08504923903312443, nan, nan, 0.5041689341117135, 0.7146942017474186), 'aec': (0.9079542030732148, 0.052478134110787174, 0.05921052631578947, 0.05564142194744976, nan, nan, 0.49647737456494, 0.9545671167593328), 'aew': (0.9270864718288642, 0.0029154518950437317, 0.006993006993006993, 0.00411522633744856, nan, nan, 0.5098210667450913, 0.9774424146147737), 'preds_majority': (0.9064477252184393, 0.04956268221574344, 0.05448717948717949, 0.051908396946564885, nan, nan, 0.4986499535704444, 0.9531374106433678), 'preds_positive': (0.6855980717083459, 0.27988338192419826, 0.049586776859504134, 0.08424747696358051, nan, nan, 0.5062060453365507, 0.7077045274027005), 'preds_weighted': (0.7021693281108767, 0.2478134110787172, 0.04711751662971175, 0.0791802515137401, nan, nan, 0.5126302285353038, 0.7269261318506751)}\n",
      "metrics of cic-ids/Infiltration-CoolDisk.csv: {'kmeans': (0.8699201694783889, 0.375, 0.0005960659646334195, 0.0011902400317397343, nan, nan, 0.3774887593994677, 0.8700224812010646), 'aec': (0.9636241506704214, 0.25, 0.0014245014245014246, 0.0028328611898017003, nan, nan, 0.3931141631566707, 0.9637716736866586), 'aew': (0.9930761877696541, 0.0, 0.0, 0.0, nan, nan, 0.5033592599291972, 0.9932814801416058), 'preds_majority': (0.9674477484692692, 0.25, 0.0015923566878980893, 0.0031645569620253164, nan, nan, 0.3912019690431277, 0.9675960619137446), 'preds_positive': (0.8636680703748676, 0.375, 0.0005687203791469195, 0.001135718341851221, nan, nan, 0.3806154551797204, 0.8637690896405592), 'preds_weighted': (0.8740021184798615, 0.375, 0.0006153846153846154, 0.0012287528158918697, nan, nan, 0.3754473629809556, 0.8741052740380888)}\n",
      "metrics of cic-ids/Heartbleed-Port444.csv: {'kmeans': (0.6514425754706472, 0.49544626593806923, 0.04349912042219734, 0.0799764775066157, nan, nan, 0.4240953100071217, 0.6563631140476874), 'aec': (0.9462515316921021, 0.11657559198542805, 0.11764705882352941, 0.11710887465690759, nan, nan, 0.45550134505870793, 0.972421717897156), 'aew': (0.9604544948200958, 0.025500910746812388, 0.07407407407407407, 0.03794037940379404, nan, nan, 0.49227683563492475, 0.9899454179833381), 'preds_majority': (0.9426868664364487, 0.11657559198542805, 0.10526315789473684, 0.11063094209161625, nan, nan, 0.45733989719889756, 0.9687446136167768), 'preds_positive': (0.6483791912665702, 0.5063752276867031, 0.0439873417721519, 0.08094336875818896, nan, nan, 0.42038319914142297, 0.652858374030451), 'preds_weighted': (0.6579035312465189, 0.4790528233151184, 0.04298087922863213, 0.07888422315536893, nan, nan, 0.4287011091697892, 0.663544958345303)}\n",
      "metrics of cic-ids/DoS-Hulk.csv: {'kmeans': (0.6129506738728877, 0.6121087373127972, 0.9781659388646288, 0.7530069197354347, nan, nan, 0.37623729801026806, 0.6354166666666666), 'aec': (0.038756242731066565, 0.00337142451557953, 0.8407079646017699, 0.006715916722632639, nan, nan, 0.5068370150149376, 0.9829545454545454), 'aew': (0.49370595881507834, 0.47526439065937964, 0.9988811814723652, 0.6440783936515571, nan, nan, 0.2694700773975829, 0.9857954545454546), 'preds_majority': (0.4966135321885476, 0.47852934913762507, 0.9983710943284466, 0.6469628634488053, nan, nan, 0.2711519920978541, 0.9791666666666666), 'preds_positive': (0.6128138468906068, 0.61217971467102, 0.9778357235984355, 0.7529627447128919, nan, nan, 0.37904271842206577, 0.6297348484848485), 'preds_weighted': (0.6083327632209071, 0.6067854354460926, 0.9788184108083352, 0.7491565526004469, nan, nan, 0.3717966762163476, 0.6496212121212122)}\n",
      "metrics of cic-ids/DoS-Slowloris.csv: {'kmeans': (0.6276235612728503, 0.38929618768328444, 0.279768177028451, 0.325567136725935, nan, nan, 0.4557700399611747, 0.6991637323943662), 'aec': (0.706668923493568, 0.01686217008797654, 0.05542168674698795, 0.025857223159078128, nan, nan, 0.5347027177729131, 0.9137323943661971), 'aew': (0.7469532836831415, 0.0, 0.0, 0.0, nan, nan, 0.5144146126760563, 0.9711707746478874), 'preds_majority': (0.7085308056872038, 0.015395894428152493, 0.0525, 0.023809523809523808, nan, nan, 0.5340053978563464, 0.9165933098591549), 'preds_positive': (0.6166215301286392, 0.3907624633431085, 0.2709710218607016, 0.32002401681176823, nan, nan, 0.4624092612861923, 0.684419014084507), 'preds_weighted': (0.6381178063642519, 0.3878299120234604, 0.28875545851528384, 0.3310387984981226, nan, nan, 0.4494609242699599, 0.7132482394366197)}\n",
      "metrics of cic-ids/Botnet-ARES.csv: {'kmeans': (0.679595079748102, 0.4861111111111111, 0.006431459022418228, 0.012694958287994197, nan, nan, 0.4167352122203177, 0.6804184644482535), 'aec': (0.9210170090047672, 0.0, 0.0, 0.0, nan, nan, 0.5375317690170813, 0.9249364619658372), 'aew': (0.9778117827084928, 0.0, 0.0, 0.0, nan, nan, 0.5090135350789053, 0.9819729298421892), 'preds_majority': (0.924077452769113, 0.0, 0.0, 0.0, nan, nan, 0.5359950351675631, 0.9280099296648738), 'preds_positive': (0.6692955093873227, 0.4861111111111111, 0.006231084208652305, 0.01230444717876604, nan, nan, 0.42190691267542735, 0.6700750635380341), 'preds_weighted': (0.69248425637102, 0.4861111111111111, 0.006701129618992916, 0.013220018885741265, nan, nan, 0.41026319850792337, 0.6933624918730421)}\n",
      "metrics of cic-ids/PortScan.csv: {'kmeans': (0.7241275872412759, 1.0, 0.024743725698126547, 0.04829251466022767, nan, nan, 0.13890846843218208, 0.7221830631356358), 'aec': (0.907009299070093, 0.0, 0.0, 0.0, nan, nan, 0.5432987614540328, 0.9134024770919343), 'aew': (0.9721027897210279, 0.0, 0.0, 0.0, nan, nan, 0.5105226059812707, 0.9789547880374585), 'preds_majority': (0.9115088491150884, 0.0, 0.0, 0.0, nan, nan, 0.541033128587252, 0.9179337428254959), 'preds_positive': (0.7118288171182882, 1.0, 0.023712737127371274, 0.04632693580410324, nan, nan, 0.14510119826804957, 0.7097976034639009), 'preds_weighted': (0.7337266273372662, 1.0, 0.02561287961946579, 0.04994648590795576, nan, nan, 0.13407511831638302, 0.731849763367234)}\n",
      "metrics of cic-ids/Web-SqlInjection.csv: {'kmeans': (0.6629512963411679, 0.29411764705882354, 0.007262164124909223, 0.014174344436569812, nan, nan, 0.5199336025639183, 0.6660151478133398), 'aec': (0.952265568209353, 0.20588235294117646, 0.03954802259887006, 0.06635071090047394, nan, nan, 0.4178259869792041, 0.9584656731004153), 'aew': (0.9752847104434214, 0.058823529411764705, 0.027777777777777776, 0.03773584905660377, nan, nan, 0.4791394202440321, 0.9828976301001711), 'preds_majority': (0.9503271141264841, 0.23529411764705882, 0.0427807486631016, 0.07239819004524886, nan, nan, 0.4042195426912519, 0.9562667969704374), 'preds_positive': (0.6564090138114853, 0.3235294117647059, 0.007823613086770981, 0.015277777777777777, nan, nan, 0.5086481941909429, 0.6591741998534083), 'preds_weighted': (0.6757935546401744, 0.29411764705882354, 0.0075528700906344415, 0.014727540500736377, nan, nan, 0.5134591339589831, 0.6789640850232104)}\n",
      "metrics of cic-ids/Web-XSS.csv: {'kmeans': (0.6652682430714467, 0.573997233748271, 0.15145985401459855, 0.2396765809991337, nan, nan, 0.37574812819096315, 0.6745065098698027), 'aec': (0.8132468853292651, 0.1313969571230982, 0.1014957264957265, 0.11452682338758288, nan, nan, 0.49317034406199844, 0.8822623547529049), 'aew': (0.8871090770404272, 0.008298755186721992, 0.03389830508474576, 0.013333333333333334, nan, nan, 0.507820383011427, 0.9760604787904242), 'preds_majority': (0.8227815916603102, 0.13001383125864455, 0.10942956926658906, 0.1188369152970923, nan, nan, 0.4885420133920973, 0.8929021419571609), 'preds_positive': (0.647724383422324, 0.5822959889349931, 0.14567474048442908, 0.23304732908939943, nan, nan, 0.3816785490016341, 0.6543469130617388), 'preds_weighted': (0.668700737350623, 0.5795297372060858, 0.1539875045938993, 0.24332171893147503, nan, nan, 0.37137190866141184, 0.6777264454710906)}\n"
     ]
    }
   ],
   "source": [
    "vote_method = \"positive\"\n",
    "\n",
    "metrics_save_dir = os.path.join(\"result\", \"ensemble-cic\",\n",
    "                    os.path.basename(train_benign_filename))\n",
    "\n",
    "with open(\"cic-attacker-ips.json\", \"r\") as f:\n",
    "    attack_ips_dict = json.load(f)\n",
    "\n",
    "kmeans_scale = 1.5\n",
    "aec_scale = 1.5\n",
    "aew_scale = 1.5\n",
    "\n",
    "for filename in attack_filenames:\n",
    "    # benign_df = pd.read_csv(benign_filenames[0])\n",
    "    # attack_df = pd.read_csv(filename)\n",
    "    # test_df = pd.concat([benign_df, attack_df], ignore_index=True)\n",
    "    test_df = pd.read_csv(filename)\n",
    "    \n",
    "    file_key = os.path.basename(filename).split(\".\")[0]\n",
    "    cur_attack_ips = attack_ips_dict.get(file_key, [])\n",
    "    test_df[\"label\"] = 0\n",
    "    for row in test_df.iterrows():\n",
    "        if row[1][\"src_ip\"] in cur_attack_ips or row[1][\"dst_ip\"] in cur_attack_ips:\n",
    "            test_df.loc[row[0], \"label\"] = -1\n",
    "        else:\n",
    "            test_df.loc[row[0], \"label\"] = 1\n",
    "\n",
    "    metrics = get_ensemble_result(test_df, USE_DATA_AUG, USE_SHORT_FLOW, \n",
    "            kmeans_save_path, aec_input_dim, aec_save_dir, aew_input_dim, \n",
    "            aew_save_dir, vote_method=vote_method,\n",
    "            kmeans_scale=kmeans_scale, aec_scale=aec_scale, aew_scale=aew_scale)\n",
    "\n",
    "    print(f\"metrics of {filename}: {metrics}\")\n",
    "    accuracy_dict[filename] = metrics\n",
    "\n",
    "accuracy_base_name = \"flow-metrics.json\" if not USE_SHORT_FLOW else \"all-metrics.json\"\n",
    "accuracy_save_path = os.path.join(metrics_save_dir, accuracy_base_name)\n",
    "os.makedirs(os.path.dirname(accuracy_save_path), exist_ok=True)\n",
    "with open(accuracy_save_path, \"w\") as f:\n",
    "    json.dump(accuracy_dict, f, indent=4)"
   ]
  },
  {
   "attachments": {},
   "cell_type": "markdown",
   "metadata": {},
   "source": [
    "## Check train traffic"
   ]
  },
  {
   "cell_type": "code",
   "execution_count": 13,
   "metadata": {},
   "outputs": [
    {
     "name": "stdout",
     "output_type": "stream",
     "text": [
      "Total packets: 32802, attack packets: 0, attack ratio: 0.0\n"
     ]
    }
   ],
   "source": [
    "with open(\"cic-attacker-ips.json\", \"r\") as f:\n",
    "    attack_ips_dict = json.load(f)\n",
    "attack_ips_set = set()\n",
    "for key, value in attack_ips_dict.items():\n",
    "    attack_ips_set.update(value)\n",
    "\n",
    "train_df = pd.read_csv(\"cic-ids-benign/benign.csv\")\n",
    "attack_count = 0\n",
    "for row in train_df.iterrows():\n",
    "    if row[1][\"src_ip\"] in attack_ips_set or row[1][\"dst_ip\"] in attack_ips_set:\n",
    "        attack_count += 1\n",
    "print(f\"Total packets: {len(train_df)}, attack packets: {attack_count}, attack ratio: {attack_count / len(train_df)}\")"
   ]
  },
  {
   "attachments": {},
   "cell_type": "markdown",
   "metadata": {},
   "source": [
    "## Check attack packets distribution"
   ]
  },
  {
   "cell_type": "code",
   "execution_count": 5,
   "metadata": {},
   "outputs": [
    {
     "name": "stdout",
     "output_type": "stream",
     "text": [
      "cic-ids/DoS-Slowhttptest.csv: total= 146240, attack= 16974, attack_ips= ['205.174.165.73', '205.174.165.80', '172.16.0.1', '192.168.10.50']\n",
      "cic-ids/Infiltration-Dropbox-2.csv: total= 69211, attack= 15061, attack_ips= ['205.174.165.73']\n",
      "cic-ids/DDoS-LOIT.csv: total= 274493, attack= 0, attack_ips= [' 205.174.165.69', ' 205.174.165.70', ' 205.174.165.71']\n",
      "cic-ids/Infiltration-Dropbox-3.csv: total= 199738, attack= 63232, attack_ips= ['205.174.165.73', '192.168.10.8']\n",
      "cic-ids/Web-BruteForce.csv: total= 248360, attack= 4129, attack_ips= ['205.174.165.73', '205.174.165.80', '172.16.0.1 ', '192.168.10.50']\n",
      "cic-ids/DoS-GoldenEye.csv: total= 159133, attack= 61928, attack_ips= ['205.174.165.73', '205.174.165.80', '172.16.0.1', '192.168.10.50']\n",
      "cic-ids/BruteForce-SSH.csv: total= 131250, attack= 2862, attack_ips= ['205.174.165.73', '205.174.165.80', '172.16.0.1', '192.168.10.50']\n",
      "cic-ids/BruteForce-FTP.csv: total= 543693, attack= 4556, attack_ips= ['205.174.165.73', '205.174.165.80', '172.16.0.1', '192.168.10.50']\n",
      "cic-ids/Infiltration-CoolDisk.csv: total= 199738, attack= 275, attack_ips= ['205.174.165.73']\n",
      "cic-ids/Heartbleed-Port444.csv: total= 129224, attack= 20669, attack_ips= ['205.174.165.73', '205.174.165.80', '172.16.0.11', '192.168.10.51']\n",
      "cic-ids/DoS-Hulk.csv: total= 224158, attack= 216339, attack_ips= ['205.174.165.73', '205.174.165.80', '172.16.0.1', '192.168.10.50']\n",
      "cic-ids/Botnet-ARES.csv: total= 207828, attack= 326, attack_ips= ['205.174.165.73']\n",
      "cic-ids/PortScan.csv: total= 88796, attack= 210, attack_ips= ['205.174.165.73', '205.174.165.80', '205.174.165.80']\n",
      "cic-ids/Infiltration-Dropbox-1.csv: total= 34044, attack= 13, attack_ips= ['205.174.165.73']\n",
      "cic-ids/Web-SqlInjection.csv: total= 34924, attack= 372, attack_ips= ['205.174.165.73', '205.174.165.80', '172.16.0.1 ', '192.168.10.50']\n",
      "cic-ids/Web-XSS.csv: total= 80925, attack= 7513, attack_ips= ['205.174.165.73', '205.174.165.80', '172.16.0.1 ', '192.168.10.50']\n"
     ]
    }
   ],
   "source": [
    "with open(\"cic-attacker-ips.json\", \"r\") as f:\n",
    "    attack_ips_dict = json.load(f)\n",
    "\n",
    "for filename in attack_filenames:\n",
    "    attack_df = pd.read_csv(filename)\n",
    "    file_key = os.path.basename(filename).split(\".\")[0]\n",
    "    cur_attack_ips = attack_ips_dict.get(file_key, [])\n",
    "    attack_packet_count = 0\n",
    "    for row in attack_df.iterrows():\n",
    "        if row[1][\"src_ip\"] in cur_attack_ips or row[1][\"dst_ip\"] in cur_attack_ips:\n",
    "            attack_packet_count += 1\n",
    "    print(f\"{filename}: total= {len(attack_df)}, attack= {attack_packet_count}, attack_ips= {cur_attack_ips}\")"
   ]
  }
 ],
 "metadata": {
  "kernelspec": {
   "display_name": "PRO",
   "language": "python",
   "name": "python3"
  },
  "language_info": {
   "codemirror_mode": {
    "name": "ipython",
    "version": 3
   },
   "file_extension": ".py",
   "mimetype": "text/x-python",
   "name": "python",
   "nbconvert_exporter": "python",
   "pygments_lexer": "ipython3",
   "version": "3.10.9"
  },
  "orig_nbformat": 4
 },
 "nbformat": 4,
 "nbformat_minor": 2
}
