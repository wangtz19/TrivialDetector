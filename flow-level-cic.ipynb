{
 "cells": [
  {
   "attachments": {},
   "cell_type": "markdown",
   "metadata": {},
   "source": [
    "# Test flow level ensemble on cic-ids2017 datasets"
   ]
  },
  {
   "cell_type": "code",
   "execution_count": 1,
   "metadata": {},
   "outputs": [
    {
     "name": "stderr",
     "output_type": "stream",
     "text": [
      "/root/anaconda3/envs/PRO/lib/python3.10/site-packages/tqdm/auto.py:21: TqdmWarning: IProgress not found. Please update jupyter and ipywidgets. See https://ipywidgets.readthedocs.io/en/stable/user_install.html\n",
      "  from .autonotebook import tqdm as notebook_tqdm\n"
     ]
    }
   ],
   "source": [
    "import pandas as pd\n",
    "import numpy as np\n",
    "import os\n",
    "import json\n",
    "import torch\n",
    "import torch.nn as nn\n",
    "from config import whisper_config\n",
    "from sklearn.metrics import accuracy_score\n",
    "from sklearn.cluster import KMeans\n",
    "from model import AutoEncoder, Dataset, train_kmeans, test_kmeans, train_ae, test_ae, get_flows, transform\n",
    "from model import get_metrics, test_ensemble, get_ensemble_result\n",
    "from plot import plot_cdf, plot_line\n",
    "\n",
    "MAX_LEN = whisper_config[\"n_fft\"] * 2"
   ]
  },
  {
   "cell_type": "code",
   "execution_count": 10,
   "metadata": {},
   "outputs": [],
   "source": [
    "benign_filenames = [os.path.join(\"train_set\", \"benign\" + str(i) + \".csv\") \n",
    "                    for i in range(1, 3)]\n",
    "attack_filenames = [os.path.join(\"cic-ids\", x) for x in \n",
    "                    os.listdir(\"cic-ids\") if x.endswith(\".csv\")]"
   ]
  },
  {
   "cell_type": "code",
   "execution_count": 3,
   "metadata": {},
   "outputs": [],
   "source": [
    "USE_DATA_AUG = True\n",
    "USE_SHORT_FLOW = True\n",
    "\n",
    "accuracy_dict = {}\n",
    "suffix = \"-all\" if USE_SHORT_FLOW else \"-long\"\n",
    "train_benign_filename = \"cic-ids-benign/benign.csv\"\n",
    "\n",
    "aec_input_dim = MAX_LEN\n",
    "aew_input_dim = whisper_config[\"n_fft\"] // 2 + 1\n",
    "kmeans_save_path = os.path.join(\"model-cic\", \"whisper\", \"kmeans\"+suffix, \n",
    "                    os.path.basename(train_benign_filename), \"kmeans.json\")\n",
    "aec_save_dir = os.path.join(\"model-cic\", \"autoencoding\"+suffix, \n",
    "                        os.path.basename(train_benign_filename))\n",
    "aew_save_dir = os.path.join(\"model-cic\", \"whisper\", \"autoencoder\"+suffix, \n",
    "                        os.path.basename(train_benign_filename))"
   ]
  },
  {
   "attachments": {},
   "cell_type": "markdown",
   "metadata": {},
   "source": [
    "## Label benign traffic"
   ]
  },
  {
   "cell_type": "code",
   "execution_count": 12,
   "metadata": {},
   "outputs": [],
   "source": [
    "with open(\"cic-attacker-ips.json\", \"r\") as f:\n",
    "    attack_ips_dict = json.load(f)\n",
    "attack_ips_set = set()\n",
    "for key, value in attack_ips_dict.items():\n",
    "    attack_ips_set.update(value)\n",
    "\n",
    "train_df = pd.read_csv(\"cic-ids-benign/benign.csv\")\n",
    "for row in train_df.iterrows():\n",
    "    if row[1][\"src_ip\"] in attack_ips_set or row[1][\"dst_ip\"] in attack_ips_set:\n",
    "        train_df.drop(row[0], inplace=True)\n",
    "train_df.to_csv(train_benign_filename, index=False)"
   ]
  },
  {
   "attachments": {},
   "cell_type": "markdown",
   "metadata": {},
   "source": [
    "## Train Whisper"
   ]
  },
  {
   "cell_type": "code",
   "execution_count": 14,
   "metadata": {},
   "outputs": [],
   "source": [
    "train_df = pd.read_csv(train_benign_filename)\n",
    "train_df[\"label\"] = 1\n",
    "train_packet_data, train_packet_labels, train_flow_data, train_flow_labels \\\n",
    "= transform(get_flows(train_df))\n",
    "\n",
    "train_data = train_flow_data if not USE_SHORT_FLOW else train_flow_data + train_packet_data\n",
    "train_labels = train_flow_labels if not USE_SHORT_FLOW else train_flow_labels + train_packet_labels"
   ]
  },
  {
   "cell_type": "code",
   "execution_count": 15,
   "metadata": {},
   "outputs": [
    {
     "name": "stderr",
     "output_type": "stream",
     "text": [
      "/root/anaconda3/envs/PRO/lib/python3.10/site-packages/sklearn/cluster/_kmeans.py:870: FutureWarning: The default value of `n_init` will change from 10 to 'auto' in 1.4. Set the value of `n_init` explicitly to suppress the warning\n",
      "  warnings.warn(\n"
     ]
    }
   ],
   "source": [
    "train_kmeans(train_data, kmeans_save_path, whisper_config[\"val_K\"])"
   ]
  },
  {
   "attachments": {},
   "cell_type": "markdown",
   "metadata": {},
   "source": [
    "## Train FAE"
   ]
  },
  {
   "cell_type": "code",
   "execution_count": 16,
   "metadata": {},
   "outputs": [
    {
     "name": "stdout",
     "output_type": "stream",
     "text": [
      "Epoch 1/50, Loss: 293.7304\n",
      "Epoch 2/50, Loss: 121.1765\n",
      "Epoch 3/50, Loss: 48.1123\n",
      "Epoch 4/50, Loss: 23.1398\n",
      "Epoch 5/50, Loss: 19.3566\n",
      "Epoch 6/50, Loss: 22.2214\n",
      "Epoch 7/50, Loss: 31.8477\n",
      "Epoch 8/50, Loss: 17.7351\n",
      "Epoch 9/50, Loss: 18.4880\n",
      "Epoch 10/50, Loss: 22.1270\n",
      "Epoch 11/50, Loss: 19.1999\n",
      "Epoch 12/50, Loss: 18.6823\n",
      "Epoch 13/50, Loss: 14.5888\n",
      "Epoch 14/50, Loss: 23.1581\n",
      "Epoch 15/50, Loss: 11.6993\n",
      "Epoch 16/50, Loss: 24.8537\n",
      "Epoch 17/50, Loss: 22.4674\n",
      "Epoch 18/50, Loss: 14.5400\n",
      "Epoch 19/50, Loss: 10.7778\n",
      "Epoch 20/50, Loss: 13.9572\n",
      "Epoch 21/50, Loss: 18.8821\n",
      "Epoch 22/50, Loss: 22.3701\n",
      "Epoch 23/50, Loss: 27.8160\n",
      "Epoch 24/50, Loss: 14.1748\n",
      "Epoch 25/50, Loss: 22.6573\n",
      "Epoch 26/50, Loss: 21.7075\n",
      "Epoch 27/50, Loss: 17.6834\n",
      "Epoch 28/50, Loss: 13.3385\n",
      "Epoch 29/50, Loss: 17.1879\n",
      "Epoch 30/50, Loss: 24.5757\n",
      "Epoch 31/50, Loss: 14.6766\n",
      "Epoch 32/50, Loss: 17.1005\n",
      "Epoch 33/50, Loss: 15.8159\n",
      "Epoch 34/50, Loss: 18.0359\n",
      "Epoch 35/50, Loss: 19.7387\n",
      "Epoch 36/50, Loss: 18.8387\n",
      "Epoch 37/50, Loss: 18.0954\n",
      "Epoch 38/50, Loss: 29.6346\n",
      "Epoch 39/50, Loss: 17.8533\n",
      "Epoch 40/50, Loss: 22.8497\n",
      "Epoch 41/50, Loss: 15.7386\n",
      "Epoch 42/50, Loss: 18.4579\n",
      "Epoch 43/50, Loss: 15.2293\n",
      "Epoch 44/50, Loss: 18.0086\n",
      "Epoch 45/50, Loss: 20.5490\n",
      "Epoch 46/50, Loss: 18.1932\n",
      "Epoch 47/50, Loss: 23.5073\n",
      "Epoch 48/50, Loss: 23.1143\n",
      "Epoch 49/50, Loss: 23.9367\n",
      "Epoch 50/50, Loss: 20.8114\n"
     ]
    }
   ],
   "source": [
    "device = torch.device(\"cuda\" if torch.cuda.is_available() else \"cpu\")\n",
    "model_aew = AutoEncoder(aew_input_dim).to(device)\n",
    "criterion = nn.MSELoss()\n",
    "optimizer = torch.optim.Adam(model_aew.parameters(), lr=0.01, weight_decay=1e-5)\n",
    "train_ae(torch.tensor(train_data), torch.tensor(train_labels), aew_save_dir,\n",
    "         model_aew, criterion, optimizer, device, num_epochs=50)"
   ]
  },
  {
   "attachments": {},
   "cell_type": "markdown",
   "metadata": {},
   "source": [
    "## Train TAE"
   ]
  },
  {
   "cell_type": "code",
   "execution_count": 17,
   "metadata": {},
   "outputs": [],
   "source": [
    "train_df = pd.read_csv(train_benign_filename)\n",
    "train_df[\"label\"] = 1\n",
    "train_packet_data_, train_packet_labels_, train_flow_data_, train_flow_labels_ \\\n",
    "= transform(get_flows(train_df), feature_type=\"encoding\")\n",
    "\n",
    "train_data_ = train_flow_data_ if not USE_SHORT_FLOW else train_flow_data_ + train_packet_data_\n",
    "train_labels_ = train_flow_labels_ if not USE_SHORT_FLOW else train_flow_labels_ + train_packet_labels_"
   ]
  },
  {
   "cell_type": "code",
   "execution_count": 18,
   "metadata": {},
   "outputs": [
    {
     "name": "stdout",
     "output_type": "stream",
     "text": [
      "Epoch 1/50, Loss: 0.0224\n",
      "Epoch 2/50, Loss: 0.0039\n",
      "Epoch 3/50, Loss: 0.0033\n",
      "Epoch 4/50, Loss: 0.0015\n",
      "Epoch 5/50, Loss: 0.0046\n",
      "Epoch 6/50, Loss: 0.0046\n",
      "Epoch 7/50, Loss: 0.0026\n",
      "Epoch 8/50, Loss: 0.0045\n",
      "Epoch 9/50, Loss: 0.0032\n",
      "Epoch 10/50, Loss: 0.0016\n",
      "Epoch 11/50, Loss: 0.0013\n",
      "Epoch 12/50, Loss: 0.0011\n",
      "Epoch 13/50, Loss: 0.0021\n",
      "Epoch 14/50, Loss: 0.0012\n",
      "Epoch 15/50, Loss: 0.0014\n",
      "Epoch 16/50, Loss: 0.0008\n",
      "Epoch 17/50, Loss: 0.0016\n",
      "Epoch 18/50, Loss: 0.0013\n",
      "Epoch 19/50, Loss: 0.0012\n",
      "Epoch 20/50, Loss: 0.0035\n",
      "Epoch 21/50, Loss: 0.0029\n",
      "Epoch 22/50, Loss: 0.0008\n",
      "Epoch 23/50, Loss: 0.0022\n",
      "Epoch 24/50, Loss: 0.0019\n",
      "Epoch 25/50, Loss: 0.0005\n",
      "Epoch 26/50, Loss: 0.0012\n",
      "Epoch 27/50, Loss: 0.0011\n",
      "Epoch 28/50, Loss: 0.0015\n",
      "Epoch 29/50, Loss: 0.0011\n",
      "Epoch 30/50, Loss: 0.0036\n",
      "Epoch 31/50, Loss: 0.0022\n",
      "Epoch 32/50, Loss: 0.0007\n",
      "Epoch 33/50, Loss: 0.0015\n",
      "Epoch 34/50, Loss: 0.0016\n",
      "Epoch 35/50, Loss: 0.0037\n",
      "Epoch 36/50, Loss: 0.0011\n",
      "Epoch 37/50, Loss: 0.0006\n",
      "Epoch 38/50, Loss: 0.0043\n",
      "Epoch 39/50, Loss: 0.0028\n",
      "Epoch 40/50, Loss: 0.0023\n",
      "Epoch 41/50, Loss: 0.0007\n",
      "Epoch 42/50, Loss: 0.0010\n",
      "Epoch 43/50, Loss: 0.0012\n",
      "Epoch 44/50, Loss: 0.0009\n",
      "Epoch 45/50, Loss: 0.0017\n",
      "Epoch 46/50, Loss: 0.0019\n",
      "Epoch 47/50, Loss: 0.0010\n",
      "Epoch 48/50, Loss: 0.0007\n",
      "Epoch 49/50, Loss: 0.0006\n",
      "Epoch 50/50, Loss: 0.0009\n"
     ]
    }
   ],
   "source": [
    "device = torch.device(\"cuda\" if torch.cuda.is_available() else \"cpu\")\n",
    "model_aec = AutoEncoder(aec_input_dim, decoder_sigmoid=True).to(device)\n",
    "criterion = nn.MSELoss()\n",
    "optimizer = torch.optim.Adam(model_aec.parameters(), lr=0.01, weight_decay=1e-5)\n",
    "train_ae(torch.tensor(train_data_), torch.tensor(train_labels_), aec_save_dir,\n",
    "         model_aec, criterion, optimizer, device, num_epochs=50, decoder_sigmoid=True)"
   ]
  },
  {
   "attachments": {},
   "cell_type": "markdown",
   "metadata": {},
   "source": [
    "## Test Ensemble"
   ]
  },
  {
   "cell_type": "code",
   "execution_count": 13,
   "metadata": {},
   "outputs": [
    {
     "name": "stdout",
     "output_type": "stream",
     "text": [
      "metrics of cic-ids/DoS-Slowhttptest.csv: {'kmeans': (0.5566668919375549, 0.7782258064516129, 0.1795110284347595, 0.2917296480241848, nan, nan, 0.34727787849075425, 0.5272184365668785), 'aec': (0.7629924984794215, 0.04435483870967742, 0.04, 0.04206500956022945, nan, nan, 0.5485675465742632, 0.8585100681417962), 'aew': (0.8513887950260188, 0.010944700460829493, 0.03792415169660679, 0.016987036209208762, nan, nan, 0.5129795294112666, 0.9630962407166374), 'preds_majority': (0.7619111982158545, 0.051267281105990783, 0.04529262086513995, 0.04809510942988382, nan, nan, 0.5461832187992748, 0.8563662812954598), 'preds_positive': (0.5472055146313441, 0.7788018433179723, 0.1763171622326552, 0.2875372182050191, nan, nan, 0.3523876090813859, 0.5164229385192558), 'preds_weighted': (0.5532202473474352, 0.6232718894009217, 0.15371501633754794, 0.2466096866096866, nan, nan, 0.41640938107857595, 0.5439093484419264)}\n",
      "metrics of cic-ids/Web-BruteForce.csv: {'kmeans': (0.5787087912087913, 0.8118279569892473, 0.04743952246308514, 0.08964084298011278, nan, nan, 0.30778774126855646, 0.5725965604736397), 'aec': (0.8531593406593406, 0.13978494623655913, 0.027807486631016044, 0.0463871543264942, nan, nan, 0.49417575355214616, 0.8718635466591486), 'aew': (0.9434065934065934, 0.016129032258064516, 0.01293103448275862, 0.014354066985645933, nan, nan, 0.5080758842092817, 0.9677191993233719), 'preds_majority': (0.8534340659340659, 0.13978494623655913, 0.027867095391211148, 0.04647006255585344, nan, nan, 0.4940347893570517, 0.8721454750493375), 'preds_positive': (0.5671703296703297, 0.8118279569892473, 0.04621977349250077, 0.08746017955401102, nan, nan, 0.31370823746252324, 0.5607555680857063), 'preds_weighted': (0.5942307692307692, 0.8010752688172043, 0.048597521200260924, 0.09163591635916359, nan, nan, 0.3050586441366474, 0.5888074429095009)}\n",
      "metrics of cic-ids/DoS-GoldenEye.csv: {'kmeans': (0.6919487393787436, 0.7819575060954371, 0.7257543103448276, 0.7528083608114906, nan, nan, 0.33051820082521444, 0.557006092254134), 'aec': (0.43843153642568605, 0.17322651805410427, 0.6129827444535744, 0.270118584231013, nan, nan, 0.4953710751766033, 0.8360313315926893), 'aew': (0.6462599247806101, 0.44003250899802626, 0.9367276322293623, 0.5987834742080733, nan, nan, 0.30226398919115216, 0.9554395126196693), 'preds_majority': (0.622092213400195, 0.4833391385115523, 0.8100797820587663, 0.6054392088423503, nan, nan, 0.3432738598129793, 0.8301131418624891), 'preds_positive': (0.6898593118818777, 0.7840473702542669, 0.7225551037877167, 0.7520463277465339, nan, nan, 0.3336508144377056, 0.548651000870322), 'preds_weighted': (0.7012118679481822, 0.7761523278764658, 0.7389189786669614, 0.7570781426953567, nan, nan, 0.31749389698430847, 0.5888598781549174)}\n",
      "metrics of cic-ids/BruteForce-SSH.csv: {'kmeans': (0.6173611111111111, 0.45161290322580644, 0.012738853503184714, 0.024778761061946902, nan, nan, 0.46461123880478716, 0.6191646191646192), 'aec': (0.8662037037037037, 0.3333333333333333, 0.027555555555555555, 0.05090311986863711, nan, nan, 0.39733239733239734, 0.872001872001872), 'aew': (0.908449074074074, 0.010752688172043012, 0.0014285714285714286, 0.0025220680958385876, nan, nan, 0.5355151968055194, 0.9182169182169182), 'preds_majority': (0.8385416666666666, 0.3333333333333333, 0.022727272727272728, 0.04255319148936171, nan, nan, 0.4113139113139113, 0.844038844038844), 'preds_positive': (0.6106481481481482, 0.45161290322580644, 0.012518628912071535, 0.024361948955916472, nan, nan, 0.4680042421977906, 0.6123786123786124), 'preds_weighted': (0.6304398148148148, 0.45161290322580644, 0.013190954773869347, 0.02563320109856576, nan, nan, 0.45800073219428056, 0.6323856323856324)}\n",
      "metrics of cic-ids/BruteForce-FTP.csv: {'kmeans': (0.6182585115998794, 0.9148264984227129, 0.10368251698248122, 0.18625561978163135, nan, nan, 0.24089398065733517, 0.6033855402626167), 'aec': (0.8748116902681531, 0.4416403785488959, 0.17632241813602015, 0.252025202520252, nan, nan, 0.3309121315608629, 0.8965353583293783), 'aew': (0.9192527869840313, 0.0031545741324921135, 0.004524886877828055, 0.0037174721189591076, nan, nan, 0.5158250226948676, 0.9651953804777725), 'preds_majority': (0.871798734558602, 0.42902208201892744, 0.1687344913151365, 0.24220837043633123, nan, nan, 0.3384869023539282, 0.8940041132732163), 'preds_positive': (0.6093702922567038, 0.9274447949526814, 0.1026536312849162, 0.1848475322225715, nan, nan, 0.23956822109666992, 0.5934187628539788), 'preds_weighted': (0.6289545043687857, 0.9053627760252366, 0.10551470588235294, 0.18900230490615735, nan, nan, 0.23977233766369874, 0.615092548647366)}\n",
      "metrics of cic-ids/Infiltration-CoolDisk.csv: {'kmeans': (0.8161056139716331, 0.75, 0.0004213483146067416, 0.0008422234699606964, nan, nan, 0.21694377696819367, 0.8161124460636127), 'aec': (0.9411992662825845, 0.25, 0.00043975373790677223, 0.000877963125548727, nan, nan, 0.40436464873524014, 0.9412707025295197), 'aew': (0.9856356731340584, 0.0, 0.0, 0.0, nan, nan, 0.5071312301371986, 0.9857375397256026), 'preds_majority': (0.9449970289611698, 0.25, 0.0004701457451810061, 0.0009385265133740028, nan, nan, 0.4024655711443557, 0.9450688577112886), 'preds_positive': (0.8087684398170873, 0.75, 0.0004051863857374392, 0.0008099352051835853, nan, nan, 0.22061274319820168, 0.8087745136035966), 'preds_weighted': (0.8191024879220813, 0.75, 0.00042832667047401483, 0.0008561643835616439, nan, nan, 0.2154451851277679, 0.8191096297444642)}\n",
      "metrics of cic-ids/Heartbleed-Port444.csv: {'kmeans': (0.4566113400913445, 0.7090909090909091, 0.019754837402492148, 0.0384387936132466, nan, nan, 0.41911255778555967, 0.4526839753379716), 'aec': (0.9328283390887825, 0.16727272727272727, 0.044965786901270774, 0.07087827426810478, nan, nan, 0.443995289737696, 0.9447366932518808), 'aew': (0.9679737105937396, 0.03636363636363636, 0.03125, 0.03361344537815126, nan, nan, 0.49058564604127136, 0.9824650715538209), 'preds_majority': (0.9274813412053025, 0.1781818181818182, 0.043555555555555556, 0.07, nan, nan, 0.44134067640600816, 0.9391368290061655), 'preds_positive': (0.45432772641194163, 0.7127272727272728, 0.019770022190841233, 0.03847286289135342, nan, nan, 0.41848222595889323, 0.4503082753549409), 'preds_weighted': (0.5289072073075638, 0.6872727272727273, 0.022076860179885527, 0.042779538252602986, nan, nan, 0.39314173467236424, 0.5264438033825443)}\n",
      "metrics of cic-ids/DoS-Hulk.csv: {'kmeans': (0.7923992611342957, 0.8086823579606058, 0.9706396961549951, 0.8822901918190811, nan, nan, 0.4061281350991195, 0.37906137184115524), 'aec': (0.10299651091195183, 0.07093081134892981, 0.9559175850503114, 0.13206235726342966, nan, nan, 0.5060508398128997, 0.9169675090252708), 'aew': (0.5157693097078744, 0.49747564531038896, 0.9984301412872841, 0.6640721404841007, nan, nan, 0.2611899751787405, 0.98014440433213), 'preds_majority': (0.5260997468700828, 0.5110929389177273, 0.9928857577013399, 0.6748192657966388, nan, nan, 0.2909336749454684, 0.9070397111913358), 'preds_positive': (0.7922624341520148, 0.8086823579606058, 0.9704740367794513, 0.8822217481527453, nan, nan, 0.40793318925074407, 0.37545126353790614), 'preds_weighted': (0.7913388520216187, 0.8067268719334424, 0.9715680397362336, 0.8815073815073815, nan, nan, 0.39627555320295393, 0.4007220216606498)}\n",
      "metrics of cic-ids/DoS-Slowloris.csv: {'kmeans': (0.5776912660798916, 0.5921658986175116, 0.28190127970749546, 0.3819668070349269, nan, nan, 0.4171172243777401, 0.5735996526270083), 'aec': (0.6980365605958023, 0.11904761904761904, 0.19570707070707072, 0.14804202483285575, nan, nan, 0.5096251266464032, 0.8617021276595744), 'aew': (0.744583615436696, 0.0, 0.0, 0.0, nan, nan, 0.5224706904038211, 0.9550586191923578), 'preds_majority': (0.683649289099526, 0.07142857142857142, 0.12350597609561753, 0.09051094890510948, nan, nan, 0.5359313938341295, 0.8567086409031698), 'preds_positive': (0.5809072444143534, 0.6397849462365591, 0.2933098591549296, 0.40222114920328345, nan, nan, 0.3979755251448555, 0.56426400347373), 'preds_weighted': (0.5985104942450914, 0.6136712749615976, 0.2994752623688156, 0.4025188916876574, nan, nan, 0.39605190051312217, 0.5942249240121581)}\n",
      "metrics of cic-ids/Botnet-ARES.csv: {'kmeans': (0.5414042728503325, 1.0, 0.004598875830352581, 0.009155645981688708, nan, nan, 0.2297847242701268, 0.5404305514597464), 'aec': (0.880466129127185, 0.027777777777777776, 0.000500751126690035, 0.000983767830791933, nan, nan, 0.5449728038271241, 0.882276614567974), 'aew': (0.9655111529633336, 0.0, 0.0, 0.0, nan, nan, 0.5162194043055146, 0.9675611913889708), 'preds_majority': (0.876464010358425, 0.027777777777777776, 0.00048426150121065375, 0.0009519276534983342, nan, nan, 0.5469781119958059, 0.8782659982306105), 'preds_positive': (0.5343417103172268, 1.0, 0.004529441368897836, 0.009018036072144289, nan, nan, 0.23332350339133, 0.53335299321734), 'preds_weighted': (0.5696545229827555, 1.0, 0.004899292324442025, 0.009750812567713976, nan, nan, 0.2156296077853141, 0.5687407844293718)}\n",
      "metrics of cic-ids/PortScan.csv: {'kmeans': (0.6199380061993801, 1.0, 0.009124087591240875, 0.018083182640144666, nan, nan, 0.19069837447320892, 0.6186032510535822), 'aec': (0.8682131786821318, 0.0, 0.0, 0.0, nan, nan, 0.5643688541039534, 0.8712622917920931), 'aew': (0.9588041195880412, 0.0, 0.0, 0.0, nan, nan, 0.5189143086494079, 0.9621713827011841), 'preds_majority': (0.8662133786621338, 0.0, 0.0, 0.0, nan, nan, 0.5653722657033915, 0.8692554685932169), 'preds_positive': (0.6115388461153884, 1.0, 0.008928571428571428, 0.017699115044247787, nan, nan, 0.1949127031908489, 0.6101745936183022), 'preds_weighted': (0.6384361563843616, 1.0, 0.00958641468090934, 0.01899077590884428, nan, nan, 0.18141681717840658, 0.6371663656431868)}\n",
      "metrics of cic-ids/Web-SqlInjection.csv: {'kmeans': (0.5587593893869639, 0.8235294117647058, 0.007641921397379912, 0.015143320713899403, nan, nan, 0.3094031773293259, 0.5576642335766423), 'aec': (0.9173733947177126, 0.6470588235294118, 0.031791907514450865, 0.0606060606060606, nan, nan, 0.2172248461428367, 0.9184914841849149), 'aew': (0.9668039738308699, 0.11764705882352941, 0.016129032258064516, 0.02836879432624113, nan, nan, 0.4560183197366538, 0.970316301703163), 'preds_majority': (0.9120426459898231, 0.7058823529411765, 0.032432432432432434, 0.062015503875969, nan, nan, 0.1906111349649349, 0.9128953771289537), 'preds_positive': (0.551732493336564, 0.8235294117647058, 0.007522837184309511, 0.014909478168264113, nan, nan, 0.3129311578646057, 0.5506082725060827), 'preds_weighted': (0.5815362248606736, 0.7647058823529411, 0.007488479262672811, 0.014831717056474614, nan, nan, 0.32725776441963644, 0.5807785888077859)}\n",
      "metrics of cic-ids/Infiltration-Dropbox.csv: {'kmeans': (0.6509631890139234, 1.0, 0.0016366612111292963, 0.0032679738562091504, nan, nan, 0.17461832061068705, 0.6507633587786259), 'aec': (0.8188060270837307, 1.0, 0.0031479538300104933, 0.006276150627615063, nan, nan, 0.09064885496183206, 0.8187022900763359), 'aew': (0.9179858859431623, 0.6666666666666666, 0.004640371229698376, 0.009216589861751152, nan, nan, 0.20760178117048347, 0.9181297709923664), 'preds_majority': (0.8151821476254053, 1.0, 0.0030864197530864196, 0.006153846153846154, nan, nan, 0.09246183206106873, 0.8150763358778625), 'preds_positive': (0.6479115010490177, 1.0, 0.0016224986479177934, 0.0032397408207343412, nan, nan, 0.17614503816793892, 0.6477099236641222), 'preds_weighted': (0.6759488842265878, 1.0, 0.0017626321974148062, 0.003519061583577712, nan, nan, 0.16211832061068704, 0.6757633587786259)}\n",
      "metrics of cic-ids/Web-XSS.csv: {'kmeans': (0.5415713196033562, 0.988950276243094, 0.0904040404040404, 0.16566404442387783, nan, nan, 0.24553019236885815, 0.5199893390191898), 'aec': (0.7996440376303077, 0.13259668508287292, 0.0366412213740458, 0.05741626794258373, nan, nan, 0.5177901435992884, 0.8318230277185501), 'aew': (0.9158403254513094, 0.016574585635359115, 0.019230769230769232, 0.017804154302670624, nan, nan, 0.512101832981894, 0.9592217484008528), 'preds_majority': (0.8063818967709128, 0.143646408839779, 0.04110671936758893, 0.06392132759680393, nan, nan, 0.5090003563477011, 0.8383528784648188), 'preds_positive': (0.5254258835494533, 0.988950276243094, 0.0875948128211402, 0.1609350415823781, nan, nan, 0.2539923458869819, 0.5030650319829424), 'preds_weighted': (0.5528858377828629, 0.988950276243094, 0.0924825626453113, 0.16914717694306639, nan, nan, 0.2396000217931652, 0.5318496801705757)}\n"
     ]
    }
   ],
   "source": [
    "vote_method = \"positive\"\n",
    "\n",
    "metrics_save_dir = os.path.join(\"result\", \"ensemble-cic\",\n",
    "                    os.path.basename(train_benign_filename))\n",
    "\n",
    "with open(\"cic-attacker-ips.json\", \"r\") as f:\n",
    "    attack_ips_dict = json.load(f)\n",
    "\n",
    "kmeans_scale = 1.5\n",
    "aec_scale = 1.5\n",
    "aew_scale = 1.5\n",
    "\n",
    "for filename in attack_filenames:\n",
    "    # benign_df = pd.read_csv(benign_filenames[0])\n",
    "    # attack_df = pd.read_csv(filename)\n",
    "    # test_df = pd.concat([benign_df, attack_df], ignore_index=True)\n",
    "    test_df = pd.read_csv(filename)\n",
    "    \n",
    "    file_key = os.path.basename(filename).split(\".\")[0]\n",
    "    cur_attack_ips = attack_ips_dict.get(file_key, [])\n",
    "    test_df[\"label\"] = 0\n",
    "    for row in test_df.iterrows():\n",
    "        if row[1][\"src_ip\"] in cur_attack_ips:\n",
    "            test_df.loc[row[0], \"label\"] = -1\n",
    "        else:\n",
    "            test_df.loc[row[0], \"label\"] = 1\n",
    "\n",
    "    metrics = get_ensemble_result(test_df, USE_DATA_AUG, USE_SHORT_FLOW, \n",
    "            kmeans_save_path, aec_input_dim, aec_save_dir, aew_input_dim, \n",
    "            aew_save_dir, vote_method=vote_method,\n",
    "            kmeans_scale=kmeans_scale, aec_scale=aec_scale, aew_scale=aew_scale)\n",
    "\n",
    "    print(f\"metrics of {filename}: {metrics}\")\n",
    "    accuracy_dict[filename] = metrics\n",
    "\n",
    "accuracy_save_path = os.path.join(metrics_save_dir, f\"{kmeans_scale}-{aew_scale}-{aec_scale}\",\n",
    "                                  \"all-metrics.json\")\n",
    "os.makedirs(os.path.dirname(accuracy_save_path), exist_ok=True)\n",
    "with open(accuracy_save_path, \"w\") as f:\n",
    "    json.dump(accuracy_dict, f, indent=4)"
   ]
  },
  {
   "attachments": {},
   "cell_type": "markdown",
   "metadata": {},
   "source": [
    "## Check train traffic"
   ]
  },
  {
   "cell_type": "code",
   "execution_count": 13,
   "metadata": {},
   "outputs": [
    {
     "name": "stdout",
     "output_type": "stream",
     "text": [
      "Total packets: 32802, attack packets: 0, attack ratio: 0.0\n"
     ]
    }
   ],
   "source": [
    "with open(\"cic-attacker-ips.json\", \"r\") as f:\n",
    "    attack_ips_dict = json.load(f)\n",
    "attack_ips_set = set()\n",
    "for key, value in attack_ips_dict.items():\n",
    "    attack_ips_set.update(value)\n",
    "\n",
    "train_df = pd.read_csv(\"cic-ids-benign/benign.csv\")\n",
    "attack_count = 0\n",
    "for row in train_df.iterrows():\n",
    "    if row[1][\"src_ip\"] in attack_ips_set or row[1][\"dst_ip\"] in attack_ips_set:\n",
    "        attack_count += 1\n",
    "print(f\"Total packets: {len(train_df)}, attack packets: {attack_count}, attack ratio: {attack_count / len(train_df)}\")"
   ]
  },
  {
   "attachments": {},
   "cell_type": "markdown",
   "metadata": {},
   "source": [
    "## Check attack packets distribution"
   ]
  },
  {
   "cell_type": "code",
   "execution_count": 12,
   "metadata": {},
   "outputs": [
    {
     "name": "stdout",
     "output_type": "stream",
     "text": [
      "cic-ids/DoS-Slowhttptest.csv: total= 146240, attack= 13998, attack_ips= ['205.174.165.73', '205.174.165.80', '172.16.0.1', '192.168.10.50']\n",
      "cic-ids/Web-BruteForce.csv: total= 248360, attack= 1739, attack_ips= ['205.174.165.73', '205.174.165.80', '172.16.0.1 ', '192.168.10.50']\n",
      "cic-ids/DoS-GoldenEye.csv: total= 159133, attack= 60248, attack_ips= ['205.174.165.73', '205.174.165.80', '172.16.0.1', '192.168.10.50']\n",
      "cic-ids/BruteForce-SSH.csv: total= 131250, attack= 1471, attack_ips= ['205.174.165.73', '205.174.165.80', '172.16.0.1', '192.168.10.50']\n",
      "cic-ids/BruteForce-FTP.csv: total= 543693, attack= 4179, attack_ips= ['205.174.165.73', '205.174.165.80', '172.16.0.1', '192.168.10.50']\n",
      "cic-ids/Infiltration-CoolDisk.csv: total= 199738, attack= 138, attack_ips= ['205.174.165.73']\n",
      "cic-ids/Heartbleed-Port444.csv: total= 129224, attack= 9078, attack_ips= ['205.174.165.73', '205.174.165.80', '172.16.0.11', '192.168.10.51']\n",
      "cic-ids/DoS-Hulk.csv: total= 224158, attack= 215691, attack_ips= ['205.174.165.73', '205.174.165.80', '172.16.0.1', '192.168.10.50']\n",
      "cic-ids/DoS-Slowloris.csv: total= 57818, attack= 5565, attack_ips= ['205.174.165.73', '205.174.165.80', '172.16.0.1', '192.168.10.50']\n",
      "cic-ids/Botnet-ARES.csv: total= 207828, attack= 145, attack_ips= ['205.174.165.73']\n",
      "cic-ids/PortScan.csv: total= 88796, attack= 105, attack_ips= ['205.174.165.73', '205.174.165.80', '205.174.165.80']\n",
      "cic-ids/Web-SqlInjection.csv: total= 34924, attack= 187, attack_ips= ['205.174.165.73', '205.174.165.80', '172.16.0.1 ', '192.168.10.50']\n",
      "cic-ids/Infiltration-Dropbox.csv: total= 69211, attack= 7532, attack_ips= ['205.174.165.73']\n",
      "cic-ids/Web-XSS.csv: total= 80925, attack= 3087, attack_ips= ['205.174.165.73', '205.174.165.80', '172.16.0.1 ', '192.168.10.50']\n"
     ]
    }
   ],
   "source": [
    "with open(\"cic-attacker-ips.json\", \"r\") as f:\n",
    "    attack_ips_dict = json.load(f)\n",
    "\n",
    "for filename in attack_filenames:\n",
    "    attack_df = pd.read_csv(filename)\n",
    "    file_key = os.path.basename(filename).split(\".\")[0]\n",
    "    cur_attack_ips = attack_ips_dict.get(file_key, [])\n",
    "    attack_packet_count = 0\n",
    "    for row in attack_df.iterrows():\n",
    "        if row[1][\"src_ip\"] in cur_attack_ips:\n",
    "            attack_packet_count += 1\n",
    "    print(f\"{filename}: total= {len(attack_df)}, attack= {attack_packet_count}, attack_ips= {cur_attack_ips}\")"
   ]
  }
 ],
 "metadata": {
  "kernelspec": {
   "display_name": "PRO",
   "language": "python",
   "name": "python3"
  },
  "language_info": {
   "codemirror_mode": {
    "name": "ipython",
    "version": 3
   },
   "file_extension": ".py",
   "mimetype": "text/x-python",
   "name": "python",
   "nbconvert_exporter": "python",
   "pygments_lexer": "ipython3",
   "version": "3.10.9"
  },
  "orig_nbformat": 4
 },
 "nbformat": 4,
 "nbformat_minor": 2
}
