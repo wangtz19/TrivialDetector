{
 "cells": [
  {
   "cell_type": "code",
   "execution_count": 2,
   "metadata": {},
   "outputs": [
    {
     "name": "stdout",
     "output_type": "stream",
     "text": [
      "1.13.1+cu116\n",
      "False\n"
     ]
    }
   ],
   "source": [
    "import torch\n",
    "\n",
    "print(torch.__version__)\n",
    "print(torch.cuda.is_available())"
   ]
  },
  {
   "cell_type": "code",
   "execution_count": 3,
   "metadata": {},
   "outputs": [
    {
     "data": {
      "text/html": [
       "<div>\n",
       "<style scoped>\n",
       "    .dataframe tbody tr th:only-of-type {\n",
       "        vertical-align: middle;\n",
       "    }\n",
       "\n",
       "    .dataframe tbody tr th {\n",
       "        vertical-align: top;\n",
       "    }\n",
       "\n",
       "    .dataframe thead th {\n",
       "        text-align: right;\n",
       "    }\n",
       "</style>\n",
       "<table border=\"1\" class=\"dataframe\">\n",
       "  <thead>\n",
       "    <tr style=\"text-align: right;\">\n",
       "      <th></th>\n",
       "      <th>Flow ID</th>\n",
       "      <th>Source IP</th>\n",
       "      <th>Source Port</th>\n",
       "      <th>Destination IP</th>\n",
       "      <th>Destination Port</th>\n",
       "      <th>Protocol</th>\n",
       "      <th>Timestamp</th>\n",
       "      <th>Flow Duration</th>\n",
       "      <th>Total Fwd Packets</th>\n",
       "      <th>Total Backward Packets</th>\n",
       "      <th>...</th>\n",
       "      <th>min_seg_size_forward</th>\n",
       "      <th>Active Mean</th>\n",
       "      <th>Active Std</th>\n",
       "      <th>Active Max</th>\n",
       "      <th>Active Min</th>\n",
       "      <th>Idle Mean</th>\n",
       "      <th>Idle Std</th>\n",
       "      <th>Idle Max</th>\n",
       "      <th>Idle Min</th>\n",
       "      <th>Label</th>\n",
       "    </tr>\n",
       "  </thead>\n",
       "  <tbody>\n",
       "    <tr>\n",
       "      <th>0</th>\n",
       "      <td>192.168.10.5-104.16.207.165-54865-443-6</td>\n",
       "      <td>104.16.207.165</td>\n",
       "      <td>443</td>\n",
       "      <td>192.168.10.5</td>\n",
       "      <td>54865</td>\n",
       "      <td>6</td>\n",
       "      <td>7/7/2017 3:30</td>\n",
       "      <td>3</td>\n",
       "      <td>2</td>\n",
       "      <td>0</td>\n",
       "      <td>...</td>\n",
       "      <td>20</td>\n",
       "      <td>0.0</td>\n",
       "      <td>0.0</td>\n",
       "      <td>0</td>\n",
       "      <td>0</td>\n",
       "      <td>0.0</td>\n",
       "      <td>0.0</td>\n",
       "      <td>0</td>\n",
       "      <td>0</td>\n",
       "      <td>BENIGN</td>\n",
       "    </tr>\n",
       "    <tr>\n",
       "      <th>1</th>\n",
       "      <td>192.168.10.5-104.16.28.216-55054-80-6</td>\n",
       "      <td>104.16.28.216</td>\n",
       "      <td>80</td>\n",
       "      <td>192.168.10.5</td>\n",
       "      <td>55054</td>\n",
       "      <td>6</td>\n",
       "      <td>7/7/2017 3:30</td>\n",
       "      <td>109</td>\n",
       "      <td>1</td>\n",
       "      <td>1</td>\n",
       "      <td>...</td>\n",
       "      <td>20</td>\n",
       "      <td>0.0</td>\n",
       "      <td>0.0</td>\n",
       "      <td>0</td>\n",
       "      <td>0</td>\n",
       "      <td>0.0</td>\n",
       "      <td>0.0</td>\n",
       "      <td>0</td>\n",
       "      <td>0</td>\n",
       "      <td>BENIGN</td>\n",
       "    </tr>\n",
       "    <tr>\n",
       "      <th>2</th>\n",
       "      <td>192.168.10.5-104.16.28.216-55055-80-6</td>\n",
       "      <td>104.16.28.216</td>\n",
       "      <td>80</td>\n",
       "      <td>192.168.10.5</td>\n",
       "      <td>55055</td>\n",
       "      <td>6</td>\n",
       "      <td>7/7/2017 3:30</td>\n",
       "      <td>52</td>\n",
       "      <td>1</td>\n",
       "      <td>1</td>\n",
       "      <td>...</td>\n",
       "      <td>20</td>\n",
       "      <td>0.0</td>\n",
       "      <td>0.0</td>\n",
       "      <td>0</td>\n",
       "      <td>0</td>\n",
       "      <td>0.0</td>\n",
       "      <td>0.0</td>\n",
       "      <td>0</td>\n",
       "      <td>0</td>\n",
       "      <td>BENIGN</td>\n",
       "    </tr>\n",
       "    <tr>\n",
       "      <th>3</th>\n",
       "      <td>192.168.10.16-104.17.241.25-46236-443-6</td>\n",
       "      <td>104.17.241.25</td>\n",
       "      <td>443</td>\n",
       "      <td>192.168.10.16</td>\n",
       "      <td>46236</td>\n",
       "      <td>6</td>\n",
       "      <td>7/7/2017 3:30</td>\n",
       "      <td>34</td>\n",
       "      <td>1</td>\n",
       "      <td>1</td>\n",
       "      <td>...</td>\n",
       "      <td>20</td>\n",
       "      <td>0.0</td>\n",
       "      <td>0.0</td>\n",
       "      <td>0</td>\n",
       "      <td>0</td>\n",
       "      <td>0.0</td>\n",
       "      <td>0.0</td>\n",
       "      <td>0</td>\n",
       "      <td>0</td>\n",
       "      <td>BENIGN</td>\n",
       "    </tr>\n",
       "    <tr>\n",
       "      <th>4</th>\n",
       "      <td>192.168.10.5-104.19.196.102-54863-443-6</td>\n",
       "      <td>104.19.196.102</td>\n",
       "      <td>443</td>\n",
       "      <td>192.168.10.5</td>\n",
       "      <td>54863</td>\n",
       "      <td>6</td>\n",
       "      <td>7/7/2017 3:30</td>\n",
       "      <td>3</td>\n",
       "      <td>2</td>\n",
       "      <td>0</td>\n",
       "      <td>...</td>\n",
       "      <td>20</td>\n",
       "      <td>0.0</td>\n",
       "      <td>0.0</td>\n",
       "      <td>0</td>\n",
       "      <td>0</td>\n",
       "      <td>0.0</td>\n",
       "      <td>0.0</td>\n",
       "      <td>0</td>\n",
       "      <td>0</td>\n",
       "      <td>BENIGN</td>\n",
       "    </tr>\n",
       "  </tbody>\n",
       "</table>\n",
       "<p>5 rows × 85 columns</p>\n",
       "</div>"
      ],
      "text/plain": [
       "                                   Flow ID       Source IP   Source Port  \\\n",
       "0  192.168.10.5-104.16.207.165-54865-443-6  104.16.207.165           443   \n",
       "1    192.168.10.5-104.16.28.216-55054-80-6   104.16.28.216            80   \n",
       "2    192.168.10.5-104.16.28.216-55055-80-6   104.16.28.216            80   \n",
       "3  192.168.10.16-104.17.241.25-46236-443-6   104.17.241.25           443   \n",
       "4  192.168.10.5-104.19.196.102-54863-443-6  104.19.196.102           443   \n",
       "\n",
       "   Destination IP   Destination Port   Protocol      Timestamp  \\\n",
       "0    192.168.10.5              54865          6  7/7/2017 3:30   \n",
       "1    192.168.10.5              55054          6  7/7/2017 3:30   \n",
       "2    192.168.10.5              55055          6  7/7/2017 3:30   \n",
       "3   192.168.10.16              46236          6  7/7/2017 3:30   \n",
       "4    192.168.10.5              54863          6  7/7/2017 3:30   \n",
       "\n",
       "    Flow Duration   Total Fwd Packets   Total Backward Packets  ...  \\\n",
       "0               3                   2                        0  ...   \n",
       "1             109                   1                        1  ...   \n",
       "2              52                   1                        1  ...   \n",
       "3              34                   1                        1  ...   \n",
       "4               3                   2                        0  ...   \n",
       "\n",
       "    min_seg_size_forward  Active Mean   Active Std   Active Max   Active Min  \\\n",
       "0                     20          0.0          0.0            0            0   \n",
       "1                     20          0.0          0.0            0            0   \n",
       "2                     20          0.0          0.0            0            0   \n",
       "3                     20          0.0          0.0            0            0   \n",
       "4                     20          0.0          0.0            0            0   \n",
       "\n",
       "   Idle Mean   Idle Std   Idle Max   Idle Min   Label  \n",
       "0        0.0        0.0          0          0  BENIGN  \n",
       "1        0.0        0.0          0          0  BENIGN  \n",
       "2        0.0        0.0          0          0  BENIGN  \n",
       "3        0.0        0.0          0          0  BENIGN  \n",
       "4        0.0        0.0          0          0  BENIGN  \n",
       "\n",
       "[5 rows x 85 columns]"
      ]
     },
     "execution_count": 3,
     "metadata": {},
     "output_type": "execute_result"
    }
   ],
   "source": [
    "import pandas as pd\n",
    "\n",
    "# file_path = \"data/Friday-WorkingHours-Afternoon-DDos.pcap_ISCX.csv\"\n",
    "file_path = \"data/Monday-WorkingHours.pcap_ISCX.csv\"\n",
    "df = pd.read_csv(file_path)\n",
    "df.head()"
   ]
  },
  {
   "cell_type": "code",
   "execution_count": 7,
   "metadata": {},
   "outputs": [
    {
     "name": "stdout",
     "output_type": "stream",
     "text": [
      "Number of benign traffic: 97718\n",
      "Number of total traffic: 225745\n"
     ]
    }
   ],
   "source": [
    "# extract benign traffic\n",
    "df_benign = df[df[' Label'] == 'BENIGN']\n",
    "print(f\"Number of benign traffic: {len(df_benign)}\")\n",
    "print(f\"Number of total traffic: {len(df)}\")"
   ]
  },
  {
   "attachments": {},
   "cell_type": "markdown",
   "metadata": {},
   "source": [
    "Simulate a realistic scene where packets arrive one by one"
   ]
  },
  {
   "cell_type": "code",
   "execution_count": null,
   "metadata": {},
   "outputs": [],
   "source": [
    "def cicids_parser(df, idx):\n",
    "    src_addr = df.iloc[idx][' Source IP']\n",
    "    proto_code = df.iloc[idx][' Protocol']\n",
    "    # TODO"
   ]
  },
  {
   "attachments": {},
   "cell_type": "markdown",
   "metadata": {},
   "source": [
    "parse mirai dataset"
   ]
  },
  {
   "cell_type": "code",
   "execution_count": 7,
   "metadata": {},
   "outputs": [
    {
     "ename": "ImportError",
     "evalue": "cannot import name 'pcap2csv' from 'utils' (/root/wtz/Project/utils.py)",
     "output_type": "error",
     "traceback": [
      "\u001b[0;31m---------------------------------------------------------------------------\u001b[0m",
      "\u001b[0;31mImportError\u001b[0m                               Traceback (most recent call last)",
      "Cell \u001b[0;32mIn[7], line 1\u001b[0m\n\u001b[0;32m----> 1\u001b[0m \u001b[39mfrom\u001b[39;00m \u001b[39mutils\u001b[39;00m \u001b[39mimport\u001b[39;00m pcap2csv\n\u001b[1;32m      3\u001b[0m file_name \u001b[39m=\u001b[39m \u001b[39m\"\u001b[39m\u001b[39mmirai.pcap\u001b[39m\u001b[39m\"\u001b[39m\n\u001b[1;32m      4\u001b[0m pcap2csv(file_name)\n",
      "\u001b[0;31mImportError\u001b[0m: cannot import name 'pcap2csv' from 'utils' (/root/wtz/Project/utils.py)"
     ]
    }
   ],
   "source": [
    "\n",
    "from utils import pcap2csv\n",
    "\n",
    "file_name = \"mirai.pcap\"\n",
    "pcap2csv(file_name)"
   ]
  },
  {
   "cell_type": "code",
   "execution_count": 1,
   "metadata": {},
   "outputs": [
    {
     "name": "stdout",
     "output_type": "stream",
     "text": [
      "Load data from:  data/mirai.csv\n",
      "Start aggregating data...\n",
      "Number of unique src_addr:  22\n"
     ]
    }
   ],
   "source": [
    "import pandas as pd\n",
    "import os\n",
    "from config import whisper_config\n",
    "from utils import PacketMetaData, weight_transform\n",
    "import torch\n",
    "\n",
    "MIN_INTERVAL_TIME = 1e-5\n",
    "IS_TRAINING = True\n",
    "\n",
    "file_path = os.path.join(\"data\", \"mirai.csv\")\n",
    "print(\"Load data from: \", file_path)\n",
    "df = pd.read_csv(file_path)\n",
    "\n",
    "print(\"Start aggregating data...\")\n",
    "mp = {}\n",
    "for idx in range(len(df)): # simulate the real-time traffic\n",
    "    src_addr = df.iloc[idx]['src_addr']\n",
    "    if src_addr not in mp:\n",
    "        mp[src_addr] = []\n",
    "    mp[src_addr].append(PacketMetaData(src_addr, df.iloc[idx]['proto_code'], \n",
    "                        df.iloc[idx]['pkt_length'], df.iloc[idx]['timestamp']))\n",
    "\n",
    "print(\"Number of unique src_addr: \", len(mp))\n"
   ]
  },
  {
   "cell_type": "code",
   "execution_count": 5,
   "metadata": {},
   "outputs": [
    {
     "name": "stdout",
     "output_type": "stream",
     "text": [
      "Number of unique src_addr: 22\n"
     ]
    }
   ],
   "source": [
    "df_group = df.groupby('src_addr')\n",
    "print(f\"Number of unique src_addr: {len(df_group)}\")"
   ]
  },
  {
   "cell_type": "code",
   "execution_count": 3,
   "metadata": {},
   "outputs": [
    {
     "name": "stdout",
     "output_type": "stream",
     "text": [
      "Start transforming data...\n"
     ]
    },
    {
     "name": "stderr",
     "output_type": "stream",
     "text": [
      "/root/anaconda3/envs/PRO/lib/python3.10/site-packages/torch/functional.py:632: UserWarning: stft will soon require the return_complex parameter be given for real inputs, and will further require that return_complex=True in a future PyTorch release. (Triggered internally at ../aten/src/ATen/native/SpectralOps.cpp:801.)\n",
      "  return _VF.stft(input, n_fft, hop_length, win_length, window,  # type: ignore[attr-defined]\n"
     ]
    }
   ],
   "source": [
    "print(\"Start transforming data...\")\n",
    "train_data = []\n",
    "test_data = {}\n",
    "for k, v in mp.items():\n",
    "    if len(v) < whisper_config[\"n_fft\"]:\n",
    "        continue\n",
    "    # calculate time interval\n",
    "    for i in range(len(v) - 1, 0, -1):\n",
    "        v[i].timestamp -= v[i - 1].timestamp\n",
    "        if v[i].timestamp <= 0:\n",
    "            v[i].timestamp = MIN_INTERVAL_TIME\n",
    "    v[0].timestamp = MIN_INTERVAL_TIME\n",
    "\n",
    "    # packet encoding\n",
    "    ten = torch.tensor([weight_transform(x) for x in v])\n",
    "    ten_fft = torch.stft(ten, whisper_config[\"n_fft\"])\n",
    "    ten_power = torch.pow(ten_fft[:, :, 0], 2) + torch.pow(ten_fft[:, :, 1], 2)\n",
    "    ten_res = ((ten_power.squeeze()+1).log2()).permute(1, 0)\n",
    "    ten_res = torch.where(torch.isnan(ten_res), torch.zeros_like(ten_res), ten_res)\n",
    "    ten_res = torch.where(torch.isinf(ten_res), torch.zeros_like(ten_res), ten_res)\n",
    "\n",
    "    # train model\n",
    "    if (IS_TRAINING and len(train_data) < whisper_config[\"num_train_data\"]):\n",
    "        if (ten_res.size(0) > whisper_config[\"mean_win_train\"]):\n",
    "            for _ in range(whisper_config[\"num_train_sample\"]):\n",
    "                start_idx = torch.randint(0, ten_res.size(0) -1 - whisper_config[\"mean_win_train\"], (1,)).item()\n",
    "                ten_tmp = ten_res[start_idx:start_idx+whisper_config[\"mean_win_train\"], :].mean(dim=0)\n",
    "                train_data.append(ten_tmp.tolist())\n",
    "        else:\n",
    "            train_data.append(ten_res.mean(dim=0).tolist())\n",
    "    else:\n",
    "        tmp_data = []\n",
    "        if (ten_res.size(0) > whisper_config[\"mean_win_test\"]):\n",
    "            for idx in range(0, ten_res.size(0) - whisper_config[\"mean_win_test\"], whisper_config[\"mean_win_test\"]):\n",
    "                ten_tmp = ten_res[idx:idx+whisper_config[\"mean_win_test\"], :].mean(dim=0)\n",
    "                tmp_data.append(ten_tmp.tolist())\n",
    "        else:\n",
    "            tmp_data.append(ten_res.mean(dim=0).tolist())\n",
    "        test_data[k] = tmp_data\n",
    "\n",
    "if (len(train_data) < whisper_config[\"num_train_data\"]):\n",
    "    print(f\"Number of training data {len(train_data)} is less than {whisper_config['num_train_data']}\")\n",
    "    exit(1)"
   ]
  },
  {
   "cell_type": "code",
   "execution_count": 4,
   "metadata": {},
   "outputs": [
    {
     "name": "stdout",
     "output_type": "stream",
     "text": [
      "Start training...\n",
      "Training data shape:  torch.Size([501, 26])\n"
     ]
    },
    {
     "name": "stderr",
     "output_type": "stream",
     "text": [
      "/root/anaconda3/envs/PRO/lib/python3.10/site-packages/sklearn/cluster/_kmeans.py:870: FutureWarning: The default value of `n_init` will change from 10 to 'auto' in 1.4. Set the value of `n_init` explicitly to suppress the warning\n",
      "  warnings.warn(\n"
     ]
    }
   ],
   "source": [
    "if (IS_TRAINING):\n",
    "    print(\"Start training...\")\n",
    "    train_data = torch.tensor(train_data)\n",
    "    print(\"Training data shape: \", train_data.shape)\n",
    "    # implement kmeans with train_data and val_K\n",
    "    from sklearn.cluster import KMeans\n",
    "    kmeans = KMeans(n_clusters=whisper_config[\"val_K\"], random_state=0).fit(train_data.cpu().numpy())\n",
    "    # save centroids\n",
    "    if (whisper_config[\"save_to_file\"]):\n",
    "        import json\n",
    "        save_path = os.path.join(whisper_config[\"save_dir\"], whisper_config[\"save_file_prefix\"] + \"centroids.json\")\n",
    "        os.makedirs(os.path.dirname(save_path), exist_ok=True)\n",
    "        with open(save_path, \"w\") as f:\n",
    "            json.dump(kmeans.cluster_centers_.tolist(), f)"
   ]
  },
  {
   "cell_type": "code",
   "execution_count": 12,
   "metadata": {},
   "outputs": [
    {
     "name": "stdout",
     "output_type": "stream",
     "text": [
      "Start testing...\n",
      "centroids shape: torch.Size([10, 26])\n"
     ]
    }
   ],
   "source": [
    "\n",
    "print(\"Start testing...\")\n",
    "import json\n",
    "save_path = os.path.join(whisper_config[\"save_dir\"], whisper_config[\"save_file_prefix\"] + \"centroids.json\")\n",
    "with open(save_path, \"r\") as f:\n",
    "    centroids = json.load(f)\n",
    "    centroids = torch.tensor(centroids)\n",
    "\n",
    "print(f\"centroids shape: {centroids.shape}\")\n",
    "\n",
    "test_res = []\n",
    "for k, v in test_data.items():\n",
    "    min_dist = 1e12\n",
    "    v = torch.tensor(v)\n",
    "    if (v.size(0) > whisper_config[\"mean_win_test\"]):\n",
    "        max_dist = 0\n",
    "        for idx in range(0, v.size(0) - whisper_config[\"mean_win_test\"], whisper_config[\"mean_win_test\"]):\n",
    "            ten_tmp = v[idx:idx+whisper_config[\"mean_win_test\"], :].mean(dim=0)\n",
    "            dist = torch.norm(ten_tmp - centroids, dim=1).min()\n",
    "            max_dist = max(max_dist, dist) # find the max minimum distance among all segments\n",
    "        min_dist = max_dist\n",
    "    else:\n",
    "        dist = torch.norm(v.mean(dim=0) - centroids, dim=1).min()\n",
    "        min_dist = min(min_dist, dist)\n",
    "\n",
    "    test_res.append({\"src_addr\": k, \"loss\": min_dist.item()})\n",
    "\n",
    "res_path = os.path.join(whisper_config[\"save_dir\"], whisper_config[\"save_file_prefix\"] + \"test_res.json\")\n",
    "os.makedirs(os.path.dirname(res_path), exist_ok=True)\n",
    "with open(res_path, \"w\") as f:\n",
    "    json.dump(test_res, f)\n"
   ]
  },
  {
   "cell_type": "code",
   "execution_count": 1,
   "metadata": {},
   "outputs": [
    {
     "name": "stdout",
     "output_type": "stream",
     "text": [
      "torch.Size([6, 16, 2])\n",
      "torch.Size([16, 6])\n",
      "torch.Size([6])\n"
     ]
    },
    {
     "name": "stderr",
     "output_type": "stream",
     "text": [
      "/root/anaconda3/envs/PRO/lib/python3.10/site-packages/torch/functional.py:632: UserWarning: stft will soon require the return_complex parameter be given for real inputs, and will further require that return_complex=True in a future PyTorch release. (Triggered internally at ../aten/src/ATen/native/SpectralOps.cpp:801.)\n",
      "  return _VF.stft(input, n_fft, hop_length, win_length, window,  # type: ignore[attr-defined]\n"
     ]
    }
   ],
   "source": [
    "import torch\n",
    "\n",
    "# for i in range(10):\n",
    "#     print(torch.randint(0, 1, (1,)).item())\n",
    "\n",
    "test_arr = [i for i in range(30)]\n",
    "test_ten = torch.tensor(test_arr).float()\n",
    "test_ten_fft = torch.stft(test_ten, 50)\n",
    "print(test_ten_fft.shape)\n",
    "\n",
    "test_ten_power = torch.pow(test_ten_fft[:, :, 0], 2) + torch.pow(test_ten_fft[:, :, 1], 2)\n",
    "test_ten_res = ((test_ten_power+1).log2()).permute(1, 0)\n",
    "print(test_ten_res.shape)\n",
    "\n",
    "test_ten_res = torch.where(torch.isnan(test_ten_res), torch.zeros_like(test_ten_res), test_ten_res)\n",
    "test_ten_res = torch.where(torch.isinf(test_ten_res), torch.zeros_like(test_ten_res), test_ten_res)\n",
    "\n",
    "# test_ten_temp = test_ten_res[0:10, :].mean(dim=0)\n",
    "test_ten_temp = test_ten_res.mean(dim=0)\n",
    "print(test_ten_temp.shape)\n",
    "\n",
    "# test_ten_power2 = torch.pow(test_ten_fft.permute(2, 0, 1)[0], 2) \\\n",
    "#                     + torch.pow(test_ten_fft.permute(2, 0, 1)[1], 2)\n",
    "# print(test_ten_power2)\n",
    "# test_ten_power2 = test_ten_power2.squeeze()\n",
    "# print(test_ten_power2)\n",
    "# test_ten_res2 = ((test_ten_power2+1).log2()).permute(1, 0)\n",
    "# print(test_ten_res2)"
   ]
  },
  {
   "cell_type": "code",
   "execution_count": 9,
   "metadata": {},
   "outputs": [
    {
     "name": "stdout",
     "output_type": "stream",
     "text": [
      "torch.Size([26, 9, 2])\n"
     ]
    }
   ],
   "source": [
    "import torch\n",
    "\n",
    "arr = [i for i in range(100)]\n",
    "n_fft = 50\n",
    "ten = torch.tensor(arr).float()\n",
    "ten_fft = torch.stft(ten, n_fft)\n",
    "print(ten_fft.shape)"
   ]
  }
 ],
 "metadata": {
  "kernelspec": {
   "display_name": "PRO",
   "language": "python",
   "name": "python3"
  },
  "language_info": {
   "codemirror_mode": {
    "name": "ipython",
    "version": 3
   },
   "file_extension": ".py",
   "mimetype": "text/x-python",
   "name": "python",
   "nbconvert_exporter": "python",
   "pygments_lexer": "ipython3",
   "version": "3.10.9"
  },
  "orig_nbformat": 4
 },
 "nbformat": 4,
 "nbformat_minor": 2
}
