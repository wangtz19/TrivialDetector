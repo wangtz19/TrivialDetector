{
 "cells": [
  {
   "attachments": {},
   "cell_type": "markdown",
   "metadata": {},
   "source": [
    "# Detect by packet-level features"
   ]
  },
  {
   "cell_type": "code",
   "execution_count": 1,
   "metadata": {},
   "outputs": [],
   "source": [
    "import pandas as pd\n",
    "from utils import Packet, Flow\n",
    "\n",
    "def get_flows(df: pd.DataFrame, key_type: str = \"default\") -> dict:\n",
    "    mp = dict()\n",
    "    for idx in range(len(df)): # simulate the process of packet processing\n",
    "        row = df.iloc[idx]\n",
    "        pkt = Packet(\n",
    "            src_ip=row[\"src_ip\"],\n",
    "            dst_ip=row[\"dst_ip\"],\n",
    "            src_port=row[\"src_port\"],\n",
    "            dst_port=row[\"dst_port\"],\n",
    "            protocol=row[\"protocol\"],\n",
    "            proto_code=row[\"proto_code\"],\n",
    "            pkt_length=row[\"pkt_length\"],\n",
    "            timestamp=row[\"timestamp\"],\n",
    "            ttl=row[\"ttl\"],\n",
    "            tcp_window=row[\"tcp_window\"],\n",
    "            tcp_dataoffset=row[\"tcp_dataoffset\"],\n",
    "            udp_length=row[\"udp_length\"],\n",
    "            label=row[\"label\"],\n",
    "        )\n",
    "        key = pkt.key(type=key_type)\n",
    "        if key not in mp:\n",
    "            mp[key] = Flow()\n",
    "        mp[key].add_packet(pkt)\n",
    "    return mp"
   ]
  },
  {
   "cell_type": "code",
   "execution_count": 2,
   "metadata": {},
   "outputs": [],
   "source": [
    "from config import whisper_config\n",
    "\n",
    "def transform(mp: dict, all_flows: bool = False):\n",
    "    packet_data = []\n",
    "    for key, flow in mp.items():\n",
    "        data = flow.packet_vector_simple()\n",
    "        if all_flows: # short & long flow features\n",
    "            packet_data += data\n",
    "        elif len(data) <= (whisper_config[\"n_fft\"] // 2): # short flows\n",
    "            packet_data += data\n",
    "    return packet_data"
   ]
  },
  {
   "attachments": {},
   "cell_type": "markdown",
   "metadata": {},
   "source": [
    "## Train & test with supervised learning"
   ]
  },
  {
   "cell_type": "code",
   "execution_count": 3,
   "metadata": {},
   "outputs": [],
   "source": [
    "from sklearn.tree import DecisionTreeClassifier\n",
    "import os\n",
    "import json\n",
    "import skops.io as sio\n",
    "\n",
    "def train(data, labels, save_path):\n",
    "    clf = DecisionTreeClassifier(random_state=0)\n",
    "    clf.fit(data, labels)\n",
    "    if not os.path.exists(os.path.dirname(save_path)):\n",
    "        os.makedirs(os.path.dirname(save_path))\n",
    "    sio.dump(clf, save_path)\n",
    "\n",
    "from sklearn.metrics import accuracy_score\n",
    "\n",
    "def test(data, labels, load_path):\n",
    "    clf = sio.load(load_path, True)\n",
    "    pred = clf.predict(data)\n",
    "    return accuracy_score(labels, pred)"
   ]
  },
  {
   "attachments": {},
   "cell_type": "markdown",
   "metadata": {},
   "source": [
    "## Mix benign and attack traffic"
   ]
  },
  {
   "cell_type": "code",
   "execution_count": 4,
   "metadata": {},
   "outputs": [],
   "source": [
    "import numpy as np\n",
    "\n",
    "def get_train_test_df(benign_path: str, attack_path: str):\n",
    "    df_benign = pd.read_csv(benign_path)\n",
    "    df_benign[\"label\"] = 0\n",
    "    df_attack = pd.read_csv(attack_path)\n",
    "    df_attack[\"label\"] = 1\n",
    "    df_mix = pd.concat([df_benign, df_attack], ignore_index=True, axis=0)\n",
    "    df_group = df_mix.groupby([\"src_ip\", \"dst_ip\", \"src_port\", \"dst_port\", \"protocol\"])\n",
    "    df_mix[\"group\"] = df_group.ngroup()\n",
    "    df_mix[\"group\"] = df_mix[\"group\"] % 10\n",
    "    df_mix[\"group\"] = df_mix[\"group\"].apply(lambda x: \"train\" if x < 6 else \"test\")\n",
    "    # df_mix[\"group\"].apply(lambda x: \"train\" if np.random.rand() < train_test_ratio else \"test\")\n",
    "    df_train = df_mix[df_mix[\"group\"] == \"train\"]\n",
    "    df_test = df_mix[df_mix[\"group\"] == \"test\"]\n",
    "    return df_train, df_test"
   ]
  },
  {
   "cell_type": "code",
   "execution_count": 5,
   "metadata": {},
   "outputs": [],
   "source": [
    "def get_data_labels(df: pd.DataFrame, all_flows: bool = False):\n",
    "    flow_dict = get_flows(df)\n",
    "    data = np.array(transform(flow_dict, all_flows=all_flows))\n",
    "    if data.shape[0] == 0:\n",
    "        return None, None\n",
    "    return data[:, :-1], data[:, -1]"
   ]
  },
  {
   "cell_type": "code",
   "execution_count": 6,
   "metadata": {},
   "outputs": [],
   "source": [
    "import os\n",
    "\n",
    "benign_filenames = [os.path.join(\"train_set\", \"benign\" + str(i) + \".csv\") for i in range(1, 6)]\n",
    "attack_filenames = [os.path.join(\"dataset_lite\", x) for x in os.listdir(\"dataset_lite\") if x.endswith(\".csv\")]"
   ]
  },
  {
   "cell_type": "code",
   "execution_count": 15,
   "metadata": {},
   "outputs": [
    {
     "name": "stdout",
     "output_type": "stream",
     "text": [
      "dataset_lite/mirai-attack.csv\n",
      "train_set/benign1.csv\n"
     ]
    }
   ],
   "source": [
    "print(attack_filenames[0])\n",
    "print(benign_filenames[0])"
   ]
  },
  {
   "attachments": {},
   "cell_type": "markdown",
   "metadata": {},
   "source": [
    "## Train a new model for each dataset"
   ]
  },
  {
   "cell_type": "code",
   "execution_count": 7,
   "metadata": {},
   "outputs": [
    {
     "name": "stdout",
     "output_type": "stream",
     "text": [
      "train df size: 118482, test df size: 74738\n",
      "accuracy of dataset_lite/osscan.csv: 0.999812678958495\n",
      "train df size: 112649, test df size: 128522\n",
      "accuracy of dataset_lite/ssldosA10only.csv: 0.9961407385505984\n",
      "train df size: 116958, test df size: 77683\n",
      "accuracy of dataset_lite/infiltration.csv: 0.9996524336083827\n",
      "train df size: 121224, test df size: 87911\n",
      "accuracy of dataset_lite/BruteForce-Web.csv: 1.0\n",
      "train df size: 110373, test df size: 80688\n",
      "accuracy of dataset_lite/SQL_Injection.csv: 1.0\n",
      "train df size: 190640, test df size: 197944\n",
      "accuracy of dataset_lite/mirai.csv: 0.9997474033059855\n",
      "train df size: 117974, test df size: 84608\n",
      "accuracy of dataset_lite/BruteForce-XSS.csv: 0.9999054462934948\n",
      "train df size: 190640, test df size: 197944\n",
      "accuracy of mirai.csv: 0.9997474033059855\n"
     ]
    }
   ],
   "source": [
    "acc_dict = dict()\n",
    "all_flows = True\n",
    "\n",
    "benign_filename = benign_filenames[0]\n",
    "for attack_filename in attack_filenames:\n",
    "    df_train, df_test = get_train_test_df(benign_filename, attack_filename)\n",
    "    print(f\"train df size: {len(df_train)}, test df size: {len(df_test)}\")\n",
    "    train_data, train_labels = get_data_labels(df_train, all_flows=all_flows)\n",
    "    if train_data is None:\n",
    "        continue\n",
    "    save_path = os.path.join(\"model\", \"dt\", attack_filename + \".skops\")\n",
    "    train(train_data, train_labels, save_path)\n",
    "    test_data, test_labels = get_data_labels(df_test, all_flows=all_flows)\n",
    "    acc = test(test_data, test_labels, save_path)\n",
    "    print(f\"accuracy of {attack_filename}: {acc}\")\n",
    "    acc_dict[attack_filename] = acc\n",
    "\n",
    "import json, os\n",
    "suffix = \"all_flows\" if all_flows else \"short_flows\"\n",
    "save_path = os.path.join(\"result\", \"dt\", f\"{suffix}.json\")\n",
    "if not os.path.exists(os.path.dirname(save_path)):\n",
    "    os.makedirs(os.path.dirname(save_path))\n",
    "with open(os.path.join(save_path), \"w\") as f:\n",
    "    json.dump(acc_dict, f)"
   ]
  },
  {
   "attachments": {},
   "cell_type": "markdown",
   "metadata": {},
   "source": [
    "## Train only one model for all datasets"
   ]
  },
  {
   "cell_type": "code",
   "execution_count": 7,
   "metadata": {},
   "outputs": [],
   "source": [
    "def get_mix_df(benign_path: str = None, attack_path: str = None):\n",
    "    assert benign_path is not None or attack_path is not None, \\\n",
    "        \"benign_path and attack_path cannot be None at the same time\"\n",
    "    if benign_path is not None:\n",
    "        df_benign = pd.read_csv(benign_path)\n",
    "        df_benign[\"label\"] = 0\n",
    "    else:\n",
    "        df_benign = None\n",
    "    if attack_path is not None:\n",
    "        df_attack = pd.read_csv(attack_path)\n",
    "        df_attack[\"label\"] = 1\n",
    "    else:\n",
    "        df_attack = None\n",
    "    df_mix = pd.concat([df_benign, df_attack], ignore_index=True, axis=0)\n",
    "    return df_mix"
   ]
  },
  {
   "cell_type": "code",
   "execution_count": 12,
   "metadata": {},
   "outputs": [],
   "source": [
    "all_flows = True\n",
    "\n",
    "train_benign_filename = benign_filenames[0]\n",
    "# train_benign_filename = \"dataset_lite/mirai-benign.csv\"\n",
    "train_attack_filename = attack_filenames[0]\n",
    "\n",
    "df_train = get_mix_df(benign_path=train_benign_filename, attack_path=train_attack_filename)\n",
    "train_data, train_labels = get_data_labels(df_train, all_flows=all_flows)\n",
    "if train_data is None:\n",
    "    print(\"no data\")\n",
    "    exit(0)\n",
    "save_path = os.path.join(\"model\", \"dt\", \n",
    "            os.path.basename(train_benign_filename) + \"_\" + \\\n",
    "            os.path.basename(train_attack_filename) + \".skops\")\n",
    "train(train_data, train_labels, save_path)"
   ]
  },
  {
   "cell_type": "code",
   "execution_count": 13,
   "metadata": {},
   "outputs": [
    {
     "name": "stdout",
     "output_type": "stream",
     "text": [
      "accuracy of train_set/benign2.csv: 1.0\n",
      "accuracy of dataset_lite/mirai-attack.csv: 1.0\n",
      "accuracy of dataset_lite/osscan.csv: 0.553701326486949\n",
      "accuracy of dataset_lite/ssldosA10only.csv: 1.0\n",
      "accuracy of dataset_lite/infiltration.csv: 0.6415646620542842\n",
      "accuracy of dataset_lite/BruteForce-Web.csv: 0.7888998465921543\n",
      "accuracy of dataset_lite/SQL_Injection.csv: 0.6123595505617978\n",
      "accuracy of dataset_lite/mirai.csv: 1.0\n",
      "accuracy of dataset_lite/mirai-benign.csv: 1.0\n",
      "accuracy of dataset_lite/BruteForce-XSS.csv: 0.6674074707239935\n"
     ]
    }
   ],
   "source": [
    "for test_benign_filename in benign_filenames[1:2]:\n",
    "    df_test = get_mix_df(benign_path=test_benign_filename)\n",
    "    test_data, test_labels = get_data_labels(df_test, all_flows=all_flows)\n",
    "    acc = test(test_data, test_labels, save_path)\n",
    "    print(f\"accuracy of {test_benign_filename}: {acc}\")\n",
    "    \n",
    "for test_attack_filename in attack_filenames:\n",
    "    df_test = get_mix_df(attack_path=test_attack_filename)\n",
    "    test_data, test_labels = get_data_labels(df_test, all_flows=all_flows)\n",
    "    acc = test(test_data, test_labels, save_path)\n",
    "    print(f\"accuracy of {test_attack_filename}: {acc}\")"
   ]
  }
 ],
 "metadata": {
  "kernelspec": {
   "display_name": "PRO",
   "language": "python",
   "name": "python3"
  },
  "language_info": {
   "codemirror_mode": {
    "name": "ipython",
    "version": 3
   },
   "file_extension": ".py",
   "mimetype": "text/x-python",
   "name": "python",
   "nbconvert_exporter": "python",
   "pygments_lexer": "ipython3",
   "version": "3.10.9"
  },
  "orig_nbformat": 4,
  "vscode": {
   "interpreter": {
    "hash": "4c4067ac78a363bc0422166851ee04b79641d0bfa5e795e52c96a7ffb7a6500a"
   }
  }
 },
 "nbformat": 4,
 "nbformat_minor": 2
}
