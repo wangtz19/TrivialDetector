{
 "cells": [
  {
   "cell_type": "code",
   "execution_count": 1,
   "metadata": {},
   "outputs": [
    {
     "name": "stderr",
     "output_type": "stream",
     "text": [
      "/root/anaconda3/envs/PRO/lib/python3.10/site-packages/tqdm/auto.py:21: TqdmWarning: IProgress not found. Please update jupyter and ipywidgets. See https://ipywidgets.readthedocs.io/en/stable/user_install.html\n",
      "  from .autonotebook import tqdm as notebook_tqdm\n"
     ]
    }
   ],
   "source": [
    "import pandas as pd\n",
    "import numpy as np\n",
    "import os\n",
    "import json\n",
    "import torch\n",
    "import torch.nn as nn\n",
    "from model import get_flows\n",
    "from config import whisper_config\n",
    "from sklearn.metrics import accuracy_score\n",
    "from sklearn.cluster import KMeans\n",
    "\n",
    "MAX_LEN = whisper_config[\"n_fft\"] * 2"
   ]
  },
  {
   "cell_type": "code",
   "execution_count": 2,
   "metadata": {},
   "outputs": [],
   "source": [
    "def fft_module(vec):\n",
    "    ten = torch.tensor(vec)\n",
    "    ten_fft = torch.fft.fft(ten, n=(whisper_config[\"n_fft\"] // 2)+1)\n",
    "    ten_power = torch.pow(ten_fft.real, 2) + torch.pow(ten_fft.imag, 2)\n",
    "    ten_res = (ten_power.squeeze()+1).log2()\n",
    "    ten_res = torch.where(torch.isnan(ten_res), torch.zeros_like(ten_res), ten_res)\n",
    "    ten_res = torch.where(torch.isinf(ten_res), torch.zeros_like(ten_res), ten_res)\n",
    "    return ten_res\n",
    "\n",
    "def stft_module(vec):\n",
    "    ten = torch.tensor(vec)\n",
    "    # stft requirement: input_size > (n_fft // 2)\n",
    "    # default return shape: (floor(n_fft/2)+1, n_frame, 2)\n",
    "    ten_fft = torch.stft(ten, whisper_config[\"n_fft\"])\n",
    "    ten_power = torch.pow(ten_fft[:,:,0], 2) + torch.pow(ten_fft[:,:,1], 2)\n",
    "    ten_res = ((ten_power.squeeze()+1).log2()).permute(1,0)\n",
    "    ten_res = torch.where(torch.isnan(ten_res), torch.zeros_like(ten_res), ten_res)\n",
    "    ten_res = torch.where(torch.isinf(ten_res), torch.zeros_like(ten_res), ten_res)\n",
    "    # ten_res shape: (n_frame, floor(n_fft/2)+1)\n",
    "    return ten_res\n",
    "\n",
    "def transform(mp: dict, feature_type: str = \"whisper\", \n",
    "              data_type: str = \"train\", test_data_aug: bool = True):\n",
    "    packet_data, flow_data = [], []\n",
    "    packet_labels, flow_labels = [], []\n",
    "    for key, flow in mp.items():\n",
    "        vec = flow.vector()\n",
    "        if feature_type == \"bytes\":\n",
    "            vec = flow.pkts_bytes\n",
    "        elif feature_type == \"intervals\":\n",
    "            vec = flow.time_interval\n",
    "\n",
    "        if len(vec) <= (whisper_config[\"n_fft\"] // 2):\n",
    "            # implement fft on short flows\n",
    "            ten_res = fft_module(vec)\n",
    "            if data_type == \"test\" and test_data_aug:\n",
    "                # data shape for test data augmentation: (n_flow, n_sample, floor(n_fft/2)+1)\n",
    "                packet_data.append([ten_res.tolist()])\n",
    "            else:\n",
    "                # data shape for no data augmentation: (n_flow, floor(n_fft/2)+1)\n",
    "                packet_data.append(ten_res.tolist())\n",
    "            packet_labels.append(flow.label)\n",
    "        else:\n",
    "            # flow level featrues\n",
    "            ten_res = stft_module(vec)\n",
    "            if data_type == \"train\":\n",
    "                if (ten_res.size(0) > whisper_config[\"mean_win_train\"]):\n",
    "                    for _ in range(whisper_config[\"num_train_sample\"]):\n",
    "                        start_idx = torch.randint(0, ten_res.size(0)\n",
    "                                    - whisper_config[\"mean_win_train\"], (1,)).item()\n",
    "                        ten_tmp = ten_res[start_idx:start_idx+whisper_config[\"mean_win_train\"],:].mean(dim=0)\n",
    "                        flow_data.append(ten_tmp.tolist())\n",
    "                        flow_labels.append(flow.label)\n",
    "                else:\n",
    "                    flow_data.append(ten_res.mean(dim=0).tolist())\n",
    "                    flow_labels.append(flow.label)\n",
    "            else: # for test\n",
    "                if test_data_aug:\n",
    "                    tmp_data = []\n",
    "                    if (ten_res.size(0) > whisper_config[\"mean_win_test\"]):\n",
    "                        # data augmentation for kmeans on flows with length > mean_win_test\n",
    "                        for idx in range(0, ten_res.size(0) - whisper_config[\"mean_win_test\"], \n",
    "                                        whisper_config[\"mean_win_test\"]):\n",
    "                            ten_tmp = ten_res[idx:idx+whisper_config[\"mean_win_test\"],:].mean(dim=0)\n",
    "                            tmp_data.append(ten_tmp.tolist())\n",
    "                    else:\n",
    "                        # no data augmentation for kmeans on flows with length < mean_win_test\n",
    "                        tmp_data.append(ten_res.mean(dim=0).tolist())\n",
    "                    flow_data.append(tmp_data)\n",
    "                    # data shape for augmentation: (n_flow, n_sample, floor(n_fft/2)+1)\n",
    "                else: # for other detection methods\n",
    "                    flow_data.append(ten_res.mean(dim=0).tolist())\n",
    "                    # data shape for no augmentation: (n_flow, floor(n_fft/2)+1)\n",
    "                flow_labels.append(flow.label)\n",
    "    return packet_data, packet_labels, flow_data, flow_labels"
   ]
  },
  {
   "cell_type": "code",
   "execution_count": 3,
   "metadata": {},
   "outputs": [],
   "source": [
    "benign_filenames = [os.path.join(\"train_set\", \"benign\" + str(i) + \".csv\") \n",
    "                    for i in range(1, 3)]\n",
    "attack_filenames = [os.path.join(\"attack_set\", x) for x in \n",
    "                    os.listdir(\"attack_set\") if x.endswith(\".csv\")]"
   ]
  },
  {
   "cell_type": "code",
   "execution_count": 15,
   "metadata": {},
   "outputs": [],
   "source": [
    "feature_type = \"intervals\" # \"bytes\", \"intervals\", \"whisper\"\n",
    "train_benign_filename = \"dataset/benign_small.csv\"\n",
    "\n",
    "kmeans_save_path = os.path.join(\"model\", feature_type, \"kmeans\", \n",
    "                    os.path.basename(train_benign_filename), \"kmeans.json\")\n",
    "ae_save_dir = os.path.join(\"model\", feature_type, \"autoencoder\", \n",
    "                os.path.basename(train_benign_filename))"
   ]
  },
  {
   "cell_type": "code",
   "execution_count": 16,
   "metadata": {},
   "outputs": [],
   "source": [
    "train_df = pd.read_csv(train_benign_filename)\n",
    "train_df[\"label\"] = 1\n",
    "train_packet_data, train_packet_labels, train_flow_data, train_flow_labels \\\n",
    "= transform(get_flows(train_df))\n",
    "\n",
    "train_data = train_flow_data + train_packet_data\n",
    "train_labels = train_flow_labels + train_packet_labels"
   ]
  },
  {
   "cell_type": "code",
   "execution_count": 17,
   "metadata": {},
   "outputs": [],
   "source": [
    "from model import train_kmeans, train_ae, test_kmeans, test_ae, AutoEncoder, Dataset\n",
    "\n",
    "ae_input_dim = whisper_config[\"n_fft\"] // 2 + 1"
   ]
  },
  {
   "cell_type": "code",
   "execution_count": 18,
   "metadata": {},
   "outputs": [
    {
     "name": "stderr",
     "output_type": "stream",
     "text": [
      "/root/anaconda3/envs/PRO/lib/python3.10/site-packages/sklearn/cluster/_kmeans.py:870: FutureWarning: The default value of `n_init` will change from 10 to 'auto' in 1.4. Set the value of `n_init` explicitly to suppress the warning\n",
      "  warnings.warn(\n"
     ]
    }
   ],
   "source": [
    "train_kmeans(train_data, kmeans_save_path, whisper_config[\"val_K\"])"
   ]
  },
  {
   "cell_type": "code",
   "execution_count": 19,
   "metadata": {},
   "outputs": [
    {
     "name": "stdout",
     "output_type": "stream",
     "text": [
      "Epoch 1/50, Loss: 18.9881\n",
      "Epoch 2/50, Loss: 4.8031\n",
      "Epoch 3/50, Loss: 5.9244\n",
      "Epoch 4/50, Loss: 4.7105\n",
      "Epoch 5/50, Loss: 4.6361\n",
      "Epoch 6/50, Loss: 4.3389\n",
      "Epoch 7/50, Loss: 4.7074\n",
      "Epoch 8/50, Loss: 4.5740\n",
      "Epoch 9/50, Loss: 4.9693\n",
      "Epoch 10/50, Loss: 4.1968\n",
      "Epoch 11/50, Loss: 4.5997\n",
      "Epoch 12/50, Loss: 4.0803\n",
      "Epoch 13/50, Loss: 3.9684\n",
      "Epoch 14/50, Loss: 4.1833\n",
      "Epoch 15/50, Loss: 5.2319\n",
      "Epoch 16/50, Loss: 4.3518\n",
      "Epoch 17/50, Loss: 4.9230\n",
      "Epoch 18/50, Loss: 4.3739\n",
      "Epoch 19/50, Loss: 4.8055\n",
      "Epoch 20/50, Loss: 4.4244\n",
      "Epoch 21/50, Loss: 4.9329\n",
      "Epoch 22/50, Loss: 5.1307\n",
      "Epoch 23/50, Loss: 4.3462\n",
      "Epoch 24/50, Loss: 4.2996\n",
      "Epoch 25/50, Loss: 4.9082\n",
      "Epoch 26/50, Loss: 4.3725\n",
      "Epoch 27/50, Loss: 4.9464\n",
      "Epoch 28/50, Loss: 5.0010\n",
      "Epoch 29/50, Loss: 5.0134\n",
      "Epoch 30/50, Loss: 5.4166\n",
      "Epoch 31/50, Loss: 4.5327\n",
      "Epoch 32/50, Loss: 4.8199\n",
      "Epoch 33/50, Loss: 4.3712\n",
      "Epoch 34/50, Loss: 4.9294\n",
      "Epoch 35/50, Loss: 3.6745\n",
      "Epoch 36/50, Loss: 4.0238\n",
      "Epoch 37/50, Loss: 4.9755\n",
      "Epoch 38/50, Loss: 4.3630\n",
      "Epoch 39/50, Loss: 4.8234\n",
      "Epoch 40/50, Loss: 4.5871\n",
      "Epoch 41/50, Loss: 5.6253\n",
      "Epoch 42/50, Loss: 4.6804\n",
      "Epoch 43/50, Loss: 4.5865\n",
      "Epoch 44/50, Loss: 5.3086\n",
      "Epoch 45/50, Loss: 4.3592\n",
      "Epoch 46/50, Loss: 4.5988\n",
      "Epoch 47/50, Loss: 4.5893\n",
      "Epoch 48/50, Loss: 4.9544\n",
      "Epoch 49/50, Loss: 5.1573\n",
      "Epoch 50/50, Loss: 4.1936\n"
     ]
    }
   ],
   "source": [
    "device = torch.device(\"cuda\" if torch.cuda.is_available() else \"cpu\")\n",
    "model_aew = AutoEncoder(ae_input_dim).to(device)\n",
    "criterion = nn.MSELoss()\n",
    "optimizer = torch.optim.Adam(model_aew.parameters(), lr=0.01, weight_decay=1e-5)\n",
    "train_ae(torch.tensor(train_data), torch.tensor(train_labels), ae_save_dir,\n",
    "         model_aew, criterion, optimizer, device, num_epochs=50)"
   ]
  },
  {
   "cell_type": "code",
   "execution_count": 20,
   "metadata": {},
   "outputs": [
    {
     "name": "stdout",
     "output_type": "stream",
     "text": [
      "kmeans      accuracy of train_set/benign1.csv: 0.9988014382740711\n",
      "autoencoder accuracy of train_set/benign1.csv: 1.0\n",
      "kmeans      accuracy of train_set/benign2.csv: 0.9982435597189696\n",
      "autoencoder accuracy of train_set/benign2.csv: 0.9994145199063232\n",
      "kmeans      accuracy of attack_set/LDoS_small.csv: 0.0\n",
      "autoencoder accuracy of attack_set/LDoS_small.csv: 0.0\n",
      "kmeans      accuracy of attack_set/osscan.csv: 0.006842619745845552\n",
      "autoencoder accuracy of attack_set/osscan.csv: 0.002932551319648094\n",
      "kmeans      accuracy of attack_set/infiltration.csv: 0.3333333333333333\n",
      "autoencoder accuracy of attack_set/infiltration.csv: 0.16666666666666666\n",
      "kmeans      accuracy of attack_set/HOIC_small.csv: 0.5767805804854879\n",
      "autoencoder accuracy of attack_set/HOIC_small.csv: 0.49998250043748904\n",
      "kmeans      accuracy of attack_set/BruteForce-Web.csv: 0.7700729927007299\n",
      "autoencoder accuracy of attack_set/BruteForce-Web.csv: 0.5\n",
      "kmeans      accuracy of attack_set/LOIC_UDP_small.csv: 0.88\n",
      "autoencoder accuracy of attack_set/LOIC_UDP_small.csv: 0.72\n",
      "kmeans      accuracy of attack_set/SQL_Injection.csv: 0.9411764705882353\n",
      "autoencoder accuracy of attack_set/SQL_Injection.csv: 0.7058823529411765\n",
      "kmeans      accuracy of attack_set/ssldosA.csv: 0.2\n",
      "autoencoder accuracy of attack_set/ssldosA.csv: 0.2\n",
      "kmeans      accuracy of attack_set/fuzzscan.csv: 0.006430868167202572\n",
      "autoencoder accuracy of attack_set/fuzzscan.csv: 0.002630809704764689\n",
      "kmeans      accuracy of attack_set/BruteForce-XSS.csv: 0.6395348837209303\n",
      "autoencoder accuracy of attack_set/BruteForce-XSS.csv: 0.3953488372093023\n"
     ]
    }
   ],
   "source": [
    "acc_kmeans_dict, acc_ae_dict = {}, {}\n",
    "USE_DATA_AUG = True\n",
    "\n",
    "device = torch.device(\"cuda\" if torch.cuda.is_available() else \"cpu\")\n",
    "criterion = nn.MSELoss()\n",
    "model_ae = AutoEncoder(ae_input_dim)\n",
    "model_ae.load_state_dict(torch.load(os.path.join(ae_save_dir, \"model.pt\")))\n",
    "model_ae.to(device)\n",
    "with open(os.path.join(ae_save_dir, \"train_loss.json\"), \"r\") as f:\n",
    "        loss_list = json.load(f)\n",
    "threshold = torch.tensor(loss_list).mean().item()\n",
    "\n",
    "for test_filename in benign_filenames + attack_filenames:\n",
    "    test_df = pd.read_csv(test_filename)\n",
    "    test_df[\"label\"] = 1 if test_filename in benign_filenames else -1\n",
    "    test_packet_data, test_packet_labels, test_flow_data, test_flow_labels \\\n",
    "    = transform(get_flows(test_df), data_type=\"test\", test_data_aug=USE_DATA_AUG)\n",
    "    preds, ratios = test_kmeans(test_flow_data+test_packet_data, \n",
    "                    kmeans_save_path, whisper_config, scale=7)\n",
    "    acc = accuracy_score(test_flow_labels+test_packet_labels, preds)\n",
    "    print(f\"kmeans      accuracy of {test_filename}: {acc}\")\n",
    "    acc_kmeans_dict[test_filename] = acc\n",
    "\n",
    "    preds, ratios = test_ae(test_flow_data+test_packet_data,\n",
    "                    model_ae, device, criterion, threshold, \n",
    "                    scale=5, test_data_aug=USE_DATA_AUG)\n",
    "    acc = accuracy_score(test_flow_labels+test_packet_labels, preds)\n",
    "    print(f\"autoencoder accuracy of {test_filename}: {acc}\")\n",
    "    acc_ae_dict[test_filename] = acc\n",
    "\n",
    "\n",
    "accuracy_save_path = os.path.join(\"result\", \"test\", feature_type,\n",
    "                os.path.basename(train_benign_filename), \"all-accuracy.json\")\n",
    "os.makedirs(os.path.dirname(accuracy_save_path), exist_ok=True)\n",
    "with open(accuracy_save_path, \"w\") as f:\n",
    "    json.dump({\n",
    "        \"kmeans\": acc_kmeans_dict,\n",
    "        \"autoencoder\": acc_ae_dict\n",
    "    }, f, indent=4)"
   ]
  }
 ],
 "metadata": {
  "kernelspec": {
   "display_name": "PRO",
   "language": "python",
   "name": "python3"
  },
  "language_info": {
   "codemirror_mode": {
    "name": "ipython",
    "version": 3
   },
   "file_extension": ".py",
   "mimetype": "text/x-python",
   "name": "python",
   "nbconvert_exporter": "python",
   "pygments_lexer": "ipython3",
   "version": "3.10.9"
  },
  "orig_nbformat": 4
 },
 "nbformat": 4,
 "nbformat_minor": 2
}
