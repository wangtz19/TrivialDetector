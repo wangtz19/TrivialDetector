{
 "cells": [
  {
   "attachments": {},
   "cell_type": "markdown",
   "metadata": {},
   "source": [
    "## compare time intervals of different attack types"
   ]
  },
  {
   "cell_type": "code",
   "execution_count": 8,
   "metadata": {},
   "outputs": [
    {
     "name": "stdout",
     "output_type": "stream",
     "text": [
      "dataset_lite/osscan.csv time interval mean: 0.11535976605431844\n",
      "dataset_lite/osscan.csv time interval std: 0.5495557577423145\n",
      "dataset_lite/osscan.csv time interval max: 3.77128005027771\n",
      "dataset_lite/osscan.csv time interval min: 0.0\n",
      "dataset_lite/ssldosA10only.csv time interval mean: 0.026381990544893846\n",
      "dataset_lite/ssldosA10only.csv time interval std: 1.8928329878415313\n",
      "dataset_lite/ssldosA10only.csv time interval max: 173.13449597358704\n",
      "dataset_lite/ssldosA10only.csv time interval min: 0.0\n",
      "dataset_lite/infiltration.csv time interval mean: 10.637729452860489\n",
      "dataset_lite/infiltration.csv time interval std: 22.320994515466953\n",
      "dataset_lite/infiltration.csv time interval max: 84.10361289978027\n",
      "dataset_lite/infiltration.csv time interval min: 0.0\n",
      "dataset_lite/BruteForce-Web.csv time interval mean: 0.4611680051644539\n",
      "dataset_lite/BruteForce-Web.csv time interval std: 0.6562899844458695\n",
      "dataset_lite/BruteForce-Web.csv time interval max: 5.889467000961304\n",
      "dataset_lite/BruteForce-Web.csv time interval min: 0.0\n",
      "dataset_lite/SQL_Injection.csv time interval mean: 1.010356331139468\n",
      "dataset_lite/SQL_Injection.csv time interval std: 1.9985051081213048\n",
      "dataset_lite/SQL_Injection.csv time interval max: 5.0104148387908936\n",
      "dataset_lite/SQL_Injection.csv time interval min: 0.0\n",
      "dataset_lite/mirai.csv time interval mean: 77.65268114178036\n",
      "dataset_lite/mirai.csv time interval std: 633.2090661084126\n",
      "dataset_lite/mirai.csv time interval max: 6750.549535989761\n",
      "dataset_lite/mirai.csv time interval min: 0.0\n",
      "dataset_lite/BruteForce-XSS.csv time interval mean: 0.3745094517049896\n",
      "dataset_lite/BruteForce-XSS.csv time interval std: 0.4525943918523675\n",
      "dataset_lite/BruteForce-XSS.csv time interval max: 5.015658140182495\n",
      "dataset_lite/BruteForce-XSS.csv time interval min: 0.0\n",
      "train_set/benign1.csv time interval mean: 0.0013886425206883909\n",
      "train_set/benign1.csv time interval std: 0.009868342330922302\n",
      "train_set/benign1.csv time interval max: 0.3240790367126465\n",
      "train_set/benign1.csv time interval min: 0.0\n",
      "train_set/benign2.csv time interval mean: 0.0013806035162350586\n",
      "train_set/benign2.csv time interval std: 0.009658550591825571\n",
      "train_set/benign2.csv time interval max: 0.3665339946746826\n",
      "train_set/benign2.csv time interval min: 0.0\n",
      "train_set/benign3.csv time interval mean: 0.001683813860477256\n",
      "train_set/benign3.csv time interval std: 0.01186357882834406\n",
      "train_set/benign3.csv time interval max: 0.4177839756011963\n",
      "train_set/benign3.csv time interval min: 0.0\n",
      "train_set/benign4.csv time interval mean: 0.0012397627711146376\n",
      "train_set/benign4.csv time interval std: 0.00907151854521636\n",
      "train_set/benign4.csv time interval max: 0.32622194290161133\n",
      "train_set/benign4.csv time interval min: 0.0\n",
      "train_set/benign5.csv time interval mean: 0.0011896097747513034\n",
      "train_set/benign5.csv time interval std: 0.00874664088921491\n",
      "train_set/benign5.csv time interval max: 0.3160359859466553\n",
      "train_set/benign5.csv time interval min: 0.0\n"
     ]
    }
   ],
   "source": [
    "import os\n",
    "import pandas as pd\n",
    "import numpy as np\n",
    "\n",
    "attack_filenames = [os.path.join(\"dataset_lite\", x) for x in \\\n",
    "                    list(filter(lambda x: x.endswith(\".csv\"), os.listdir(\"dataset_lite\")))]\n",
    "begign_filenames = [os.path.join(\"train_set\", f\"benign{idx}.csv\") for idx in range(1, 6)]\n",
    "for filename in attack_filenames + begign_filenames:\n",
    "    df = pd.read_csv(filename)\n",
    "    df_group = df.groupby([\"src_ip\", \"dst_ip\", \"src_port\", \"dst_port\", \"protocol\"])\n",
    "    total_time_interval = []\n",
    "    for name, group in df_group:\n",
    "        time_interval = [0] + list(np.diff(group[\"timestamp\"].values))\n",
    "        total_time_interval += time_interval\n",
    "    print(f\"{filename} time interval mean: {np.mean(total_time_interval)}\")\n",
    "    print(f\"{filename} time interval std: {np.std(total_time_interval)}\")\n",
    "    print(f\"{filename} time interval max: {np.max(total_time_interval)}\")\n",
    "    print(f\"{filename} time interval min: {np.min(total_time_interval)}\")"
   ]
  },
  {
   "attachments": {},
   "cell_type": "markdown",
   "metadata": {},
   "source": [
    "# Novelty detection with One Class SVM"
   ]
  },
  {
   "cell_type": "code",
   "execution_count": 1,
   "metadata": {},
   "outputs": [],
   "source": [
    "import pandas as pd\n",
    "from utils import Packet, Flow\n",
    "\n",
    "def get_flows(df: pd.DataFrame, key_type: str = \"default\") -> dict:\n",
    "    mp = dict()\n",
    "    for idx in range(len(df)): # simulate the process of packet processing\n",
    "        row = df.iloc[idx]\n",
    "        pkt = Packet(\n",
    "            src_ip=row[\"src_ip\"],\n",
    "            dst_ip=row[\"dst_ip\"],\n",
    "            src_port=row[\"src_port\"],\n",
    "            dst_port=row[\"dst_port\"],\n",
    "            protocol=row[\"protocol\"],\n",
    "            proto_code=row[\"proto_code\"],\n",
    "            pkt_length=row[\"pkt_length\"],\n",
    "            timestamp=row[\"timestamp\"],\n",
    "            ttl=row[\"ttl\"],\n",
    "            tcp_window=row[\"tcp_window\"],\n",
    "            tcp_dataoffset=row[\"tcp_dataoffset\"],\n",
    "            udp_length=row[\"udp_length\"],\n",
    "        )\n",
    "        key = pkt.key(type=key_type)\n",
    "        if key not in mp:\n",
    "            mp[key] = Flow()\n",
    "        mp[key].add_packet(pkt)\n",
    "    return mp"
   ]
  },
  {
   "cell_type": "code",
   "execution_count": 2,
   "metadata": {},
   "outputs": [],
   "source": [
    "from config import whisper_config\n",
    "\n",
    "def transform(mp: dict, all_flows: bool = False):\n",
    "    packet_data = []\n",
    "    for key, flow in mp.items():\n",
    "        data = flow.packet_vector()\n",
    "        if all_flows: # short & long flow features\n",
    "            packet_data.append(data)\n",
    "        elif len(data) <= (whisper_config[\"n_fft\"] // 2): # short flows\n",
    "            packet_data.append(data)\n",
    "    return packet_data"
   ]
  },
  {
   "attachments": {},
   "cell_type": "markdown",
   "metadata": {},
   "source": [
    "## Load data"
   ]
  },
  {
   "cell_type": "code",
   "execution_count": 18,
   "metadata": {},
   "outputs": [],
   "source": [
    "import os\n",
    "\n",
    "all_flows = False\n",
    "train_benign_filename = os.path.join(\"dataset_lite\", \"mirai-benign.csv\")\n",
    "# train_benign_filename = os.path.join(\"train_set\", \"benign1.csv\")\n",
    "\n",
    "# df_benign = pd.read_csv(os.path.join(\"train_set\", \"benign1.csv\"))\n",
    "df_benign = pd.read_csv(train_benign_filename)\n",
    "train_flow_dict = get_flows(df_benign)\n",
    "train_packet_data = transform(train_flow_dict, all_flows=all_flows)"
   ]
  },
  {
   "cell_type": "code",
   "execution_count": 19,
   "metadata": {},
   "outputs": [
    {
     "data": {
      "text/html": [
       "<style>#sk-container-id-4 {color: black;background-color: white;}#sk-container-id-4 pre{padding: 0;}#sk-container-id-4 div.sk-toggleable {background-color: white;}#sk-container-id-4 label.sk-toggleable__label {cursor: pointer;display: block;width: 100%;margin-bottom: 0;padding: 0.3em;box-sizing: border-box;text-align: center;}#sk-container-id-4 label.sk-toggleable__label-arrow:before {content: \"▸\";float: left;margin-right: 0.25em;color: #696969;}#sk-container-id-4 label.sk-toggleable__label-arrow:hover:before {color: black;}#sk-container-id-4 div.sk-estimator:hover label.sk-toggleable__label-arrow:before {color: black;}#sk-container-id-4 div.sk-toggleable__content {max-height: 0;max-width: 0;overflow: hidden;text-align: left;background-color: #f0f8ff;}#sk-container-id-4 div.sk-toggleable__content pre {margin: 0.2em;color: black;border-radius: 0.25em;background-color: #f0f8ff;}#sk-container-id-4 input.sk-toggleable__control:checked~div.sk-toggleable__content {max-height: 200px;max-width: 100%;overflow: auto;}#sk-container-id-4 input.sk-toggleable__control:checked~label.sk-toggleable__label-arrow:before {content: \"▾\";}#sk-container-id-4 div.sk-estimator input.sk-toggleable__control:checked~label.sk-toggleable__label {background-color: #d4ebff;}#sk-container-id-4 div.sk-label input.sk-toggleable__control:checked~label.sk-toggleable__label {background-color: #d4ebff;}#sk-container-id-4 input.sk-hidden--visually {border: 0;clip: rect(1px 1px 1px 1px);clip: rect(1px, 1px, 1px, 1px);height: 1px;margin: -1px;overflow: hidden;padding: 0;position: absolute;width: 1px;}#sk-container-id-4 div.sk-estimator {font-family: monospace;background-color: #f0f8ff;border: 1px dotted black;border-radius: 0.25em;box-sizing: border-box;margin-bottom: 0.5em;}#sk-container-id-4 div.sk-estimator:hover {background-color: #d4ebff;}#sk-container-id-4 div.sk-parallel-item::after {content: \"\";width: 100%;border-bottom: 1px solid gray;flex-grow: 1;}#sk-container-id-4 div.sk-label:hover label.sk-toggleable__label {background-color: #d4ebff;}#sk-container-id-4 div.sk-serial::before {content: \"\";position: absolute;border-left: 1px solid gray;box-sizing: border-box;top: 0;bottom: 0;left: 50%;z-index: 0;}#sk-container-id-4 div.sk-serial {display: flex;flex-direction: column;align-items: center;background-color: white;padding-right: 0.2em;padding-left: 0.2em;position: relative;}#sk-container-id-4 div.sk-item {position: relative;z-index: 1;}#sk-container-id-4 div.sk-parallel {display: flex;align-items: stretch;justify-content: center;background-color: white;position: relative;}#sk-container-id-4 div.sk-item::before, #sk-container-id-4 div.sk-parallel-item::before {content: \"\";position: absolute;border-left: 1px solid gray;box-sizing: border-box;top: 0;bottom: 0;left: 50%;z-index: -1;}#sk-container-id-4 div.sk-parallel-item {display: flex;flex-direction: column;z-index: 1;position: relative;background-color: white;}#sk-container-id-4 div.sk-parallel-item:first-child::after {align-self: flex-end;width: 50%;}#sk-container-id-4 div.sk-parallel-item:last-child::after {align-self: flex-start;width: 50%;}#sk-container-id-4 div.sk-parallel-item:only-child::after {width: 0;}#sk-container-id-4 div.sk-dashed-wrapped {border: 1px dashed gray;margin: 0 0.4em 0.5em 0.4em;box-sizing: border-box;padding-bottom: 0.4em;background-color: white;}#sk-container-id-4 div.sk-label label {font-family: monospace;font-weight: bold;display: inline-block;line-height: 1.2em;}#sk-container-id-4 div.sk-label-container {text-align: center;}#sk-container-id-4 div.sk-container {/* jupyter's `normalize.less` sets `[hidden] { display: none; }` but bootstrap.min.css set `[hidden] { display: none !important; }` so we also need the `!important` here to be able to override the default hidden behavior on the sphinx rendered scikit-learn.org. See: https://github.com/scikit-learn/scikit-learn/issues/21755 */display: inline-block !important;position: relative;}#sk-container-id-4 div.sk-text-repr-fallback {display: none;}</style><div id=\"sk-container-id-4\" class=\"sk-top-container\"><div class=\"sk-text-repr-fallback\"><pre>LocalOutlierFactor(novelty=True)</pre><b>In a Jupyter environment, please rerun this cell to show the HTML representation or trust the notebook. <br />On GitHub, the HTML representation is unable to render, please try loading this page with nbviewer.org.</b></div><div class=\"sk-container\" hidden><div class=\"sk-item\"><div class=\"sk-estimator sk-toggleable\"><input class=\"sk-toggleable__control sk-hidden--visually\" id=\"sk-estimator-id-4\" type=\"checkbox\" checked><label for=\"sk-estimator-id-4\" class=\"sk-toggleable__label sk-toggleable__label-arrow\">LocalOutlierFactor</label><div class=\"sk-toggleable__content\"><pre>LocalOutlierFactor(novelty=True)</pre></div></div></div></div></div>"
      ],
      "text/plain": [
       "LocalOutlierFactor(novelty=True)"
      ]
     },
     "execution_count": 19,
     "metadata": {},
     "output_type": "execute_result"
    }
   ],
   "source": [
    "from sklearn.svm import OneClassSVM\n",
    "from sklearn.neighbors import LocalOutlierFactor\n",
    "\n",
    "# clf = OneClassSVM(kernel=\"rbf\", nu=0.1)\n",
    "clf = LocalOutlierFactor(novelty=True)\n",
    "clf.fit(train_packet_data)"
   ]
  },
  {
   "cell_type": "code",
   "execution_count": 20,
   "metadata": {},
   "outputs": [],
   "source": [
    "from sklearn.metrics import accuracy_score\n",
    "\n",
    "benign_traffic_list = [\"benign2\", \"benign3\"]\n",
    "attack_traffic_list = [\"BruteForce-Web\", \"BruteForce-XSS\", \"mirai\", \"infiltration\", \"SQL_Injection\", \"osscan\", \"ssldosA10only\", \"mirai-attack\"]"
   ]
  },
  {
   "cell_type": "code",
   "execution_count": 22,
   "metadata": {},
   "outputs": [
    {
     "name": "stdout",
     "output_type": "stream",
     "text": [
      "Accuracy of benign2: 0.18%\n",
      "Accuracy of benign3: 0.10%\n",
      "Accuracy of BruteForce-Web: 100.00%\n",
      "Accuracy of BruteForce-XSS: 100.00%\n",
      "Accuracy of mirai: 3.54%\n",
      "Accuracy of infiltration: 100.00%\n",
      "Accuracy of SQL_Injection: 100.00%\n",
      "Accuracy of osscan: 100.00%\n",
      "Accuracy of ssldosA10only: 100.00%\n",
      "Accuracy of mirai-attack: 1.31%\n"
     ]
    }
   ],
   "source": [
    "import json\n",
    "import os\n",
    "\n",
    "accuracy_dict = {}\n",
    "\n",
    "for benign_traffic in benign_traffic_list:\n",
    "    df_benign = pd.read_csv(os.path.join(\"train_set\", benign_traffic + \".csv\"))\n",
    "    train_flow_dict = get_flows(df_benign)\n",
    "    train_packet_data = transform(train_flow_dict, all_flows=all_flows)\n",
    "    y_pred = clf.predict(train_packet_data)\n",
    "    y_true = [1] * len(train_packet_data)\n",
    "    acc = accuracy_score(y_true, y_pred)\n",
    "    print(\"Accuracy of {}: {:.2f}%\".format(benign_traffic, acc * 100))\n",
    "    accuracy_dict[benign_traffic] = acc\n",
    "\n",
    "for attack_trafic in attack_traffic_list:\n",
    "    df_attack = pd.read_csv(os.path.join(\"dataset_lite\", attack_trafic + \".csv\"))\n",
    "    attack_flow_dict = get_flows(df_attack)\n",
    "    attack_packet_data = transform(attack_flow_dict, all_flows=all_flows)\n",
    "    y_pred = clf.predict(attack_packet_data)\n",
    "    y_true = [-1] * len(attack_packet_data)\n",
    "    acc = accuracy_score(y_true, y_pred)\n",
    "    print(\"Accuracy of {}: {:.2f}%\".format(attack_trafic, acc * 100))\n",
    "    accuracy_dict[attack_trafic] = acc\n",
    "\n",
    "accuracy_base_name = \"short-accuracy.json\" if not all_flows else \"all-accuracy.json\"\n",
    "accuracy_save_path = os.path.join(\"result\", \"dt\", os.path.basename(train_benign_filename), accuracy_base_name)\n",
    "os.makedirs(os.path.dirname(accuracy_save_path), exist_ok=True)\n",
    "with open(accuracy_save_path, \"w\") as f:\n",
    "    json.dump(accuracy_dict, f)"
   ]
  }
 ],
 "metadata": {
  "kernelspec": {
   "display_name": "PRO",
   "language": "python",
   "name": "python3"
  },
  "language_info": {
   "codemirror_mode": {
    "name": "ipython",
    "version": 3
   },
   "file_extension": ".py",
   "mimetype": "text/x-python",
   "name": "python",
   "nbconvert_exporter": "python",
   "pygments_lexer": "ipython3",
   "version": "3.10.9"
  },
  "orig_nbformat": 4
 },
 "nbformat": 4,
 "nbformat_minor": 2
}
