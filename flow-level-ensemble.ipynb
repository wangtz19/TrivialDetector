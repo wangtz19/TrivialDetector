{
 "cells": [
  {
   "attachments": {},
   "cell_type": "markdown",
   "metadata": {},
   "source": [
    "# Ensemble unsupervised learning"
   ]
  },
  {
   "cell_type": "code",
   "execution_count": 1,
   "metadata": {},
   "outputs": [
    {
     "name": "stderr",
     "output_type": "stream",
     "text": [
      "/root/anaconda3/envs/PRO/lib/python3.10/site-packages/tqdm/auto.py:21: TqdmWarning: IProgress not found. Please update jupyter and ipywidgets. See https://ipywidgets.readthedocs.io/en/stable/user_install.html\n",
      "  from .autonotebook import tqdm as notebook_tqdm\n"
     ]
    }
   ],
   "source": [
    "import pandas as pd\n",
    "import numpy as np\n",
    "import os\n",
    "import json\n",
    "import torch\n",
    "import torch.nn as nn\n",
    "from utils import Packet, Flow\n",
    "from config import whisper_config\n",
    "from sklearn.metrics import accuracy_score\n",
    "from sklearn.cluster import KMeans\n",
    "\n",
    "MAX_LEN = whisper_config[\"n_fft\"] * 2"
   ]
  },
  {
   "attachments": {},
   "cell_type": "markdown",
   "metadata": {},
   "source": [
    "## Useful functions"
   ]
  },
  {
   "cell_type": "code",
   "execution_count": 2,
   "metadata": {},
   "outputs": [],
   "source": [
    "def get_flows(df: pd.DataFrame, key_type: str = \"default\") -> dict:\n",
    "    mp = dict()\n",
    "    for idx in range(len(df)): # simulate the process of packet processing\n",
    "        row = df.iloc[idx]\n",
    "        pkt = Packet(\n",
    "            src_ip=row[\"src_ip\"],\n",
    "            dst_ip=row[\"dst_ip\"],\n",
    "            src_port=row[\"src_port\"],\n",
    "            dst_port=row[\"dst_port\"],\n",
    "            protocol=row[\"protocol\"],\n",
    "            proto_code=row[\"proto_code\"],\n",
    "            pkt_length=row[\"pkt_length\"],\n",
    "            timestamp=row[\"timestamp\"],\n",
    "            ttl=row[\"ttl\"],\n",
    "            tcp_window=row[\"tcp_window\"],\n",
    "            tcp_dataoffset=row[\"tcp_dataoffset\"],\n",
    "            udp_length=row[\"udp_length\"],\n",
    "            label=row[\"label\"],\n",
    "        )\n",
    "        key = pkt.key(type=key_type)\n",
    "        if key not in mp:\n",
    "            mp[key] = Flow()\n",
    "        mp[key].add_packet(pkt)\n",
    "    return mp"
   ]
  },
  {
   "cell_type": "code",
   "execution_count": 14,
   "metadata": {},
   "outputs": [],
   "source": [
    "def transform(mp: dict, feature_type: str = \"whisper\", \n",
    "              data_type: str = \"train\", test_data_aug: bool = True):\n",
    "    packet_data, flow_data = [], []\n",
    "    packet_labels, flow_labels = [], []\n",
    "    for key, flow in mp.items():\n",
    "        vec = flow.vector()\n",
    "        if feature_type == \"whisper\":\n",
    "            if len(vec) <= (whisper_config[\"n_fft\"] // 2):\n",
    "                # packet level features\n",
    "                # vec = flow.packet_vector(agg_type=\"mean\") + flow.packet_vector(agg_type=\"std\") \\\n",
    "                #     + flow.packet_vector(agg_type=\"max\") + flow.packet_vector(agg_type=\"min\")\n",
    "                # packet_data.append(vec)\n",
    "                # packet_labels.append(flow.label)\n",
    "\n",
    "                # implement fft on short flows\n",
    "                ten = torch.tensor(vec)\n",
    "                ten_fft = torch.fft.fft(ten, n=(whisper_config[\"n_fft\"] // 2)+1)\n",
    "                ten_power = torch.pow(ten_fft.real, 2) + torch.pow(ten_fft.imag, 2)\n",
    "                ten_res = (ten_power.squeeze()+1).log2()\n",
    "                ten_res = torch.where(torch.isnan(ten_res), torch.zeros_like(ten_res), ten_res)\n",
    "                ten_res = torch.where(torch.isinf(ten_res), torch.zeros_like(ten_res), ten_res)\n",
    "                if data_type == \"test\" and test_data_aug:\n",
    "                    # data shape for test data augmentation: (n_flow, n_sample, floor(n_fft/2)+1)\n",
    "                    packet_data.append([ten_res.tolist()])\n",
    "                else:\n",
    "                    # data shape for no data augmentation: (n_flow, floor(n_fft/2)+1)\n",
    "                    packet_data.append(ten_res.tolist())\n",
    "                packet_labels.append(flow.label)\n",
    "                \n",
    "            else:\n",
    "                # flow level featrues\n",
    "                ten = torch.tensor(vec)\n",
    "                # stft requirement: input_size > (n_fft // 2)\n",
    "                # default return shape: (floor(n_fft/2)+1, n_frame, 2)\n",
    "                ten_fft = torch.stft(ten, whisper_config[\"n_fft\"])\n",
    "                ten_power = torch.pow(ten_fft[:,:,0], 2) + torch.pow(ten_fft[:,:,1], 2)\n",
    "                ten_res = ((ten_power.squeeze()+1).log2()).permute(1,0)\n",
    "                ten_res = torch.where(torch.isnan(ten_res), torch.zeros_like(ten_res), ten_res)\n",
    "                ten_res = torch.where(torch.isinf(ten_res), torch.zeros_like(ten_res), ten_res)\n",
    "                # ten_res shape: (n_frame, floor(n_fft/2)+1)\n",
    "                if data_type == \"train\":\n",
    "                    if (ten_res.size(0) > whisper_config[\"mean_win_train\"]):\n",
    "                        for _ in range(whisper_config[\"num_train_sample\"]):\n",
    "                            start_idx = torch.randint(0, ten_res.size(0)\n",
    "                                        - whisper_config[\"mean_win_train\"], (1,)).item()\n",
    "                            ten_tmp = ten_res[start_idx:start_idx+whisper_config[\"mean_win_train\"],:].mean(dim=0)\n",
    "                            flow_data.append(ten_tmp.tolist())\n",
    "                            flow_labels.append(flow.label)\n",
    "                    else:\n",
    "                        flow_data.append(ten_res.mean(dim=0).tolist())\n",
    "                        flow_labels.append(flow.label)\n",
    "                else: # for test\n",
    "                    if test_data_aug:\n",
    "                        tmp_data = []\n",
    "                        if (ten_res.size(0) > whisper_config[\"mean_win_test\"]):\n",
    "                            # data augmentation for kmeans on flows with length > mean_win_test\n",
    "                            for idx in range(0, ten_res.size(0) - whisper_config[\"mean_win_test\"], \n",
    "                                            whisper_config[\"mean_win_test\"]):\n",
    "                                ten_tmp = ten_res[idx:idx+whisper_config[\"mean_win_test\"],:].mean(dim=0)\n",
    "                                tmp_data.append(ten_tmp.tolist())\n",
    "                        else:\n",
    "                            # no data augmentation for kmeans on flows with length < mean_win_test\n",
    "                            tmp_data.append(ten_res.mean(dim=0).tolist())\n",
    "                        flow_data.append(tmp_data)\n",
    "                        # data shape for augmentation: (n_flow, n_sample, floor(n_fft/2)+1)\n",
    "                    else: # for other detection methods\n",
    "                        flow_data.append(ten_res.mean(dim=0).tolist())\n",
    "                        # data shape for no augmentation: (n_flow, floor(n_fft/2)+1)\n",
    "                    flow_labels.append(flow.label)\n",
    "        elif feature_type == \"encoding\":\n",
    "            # directly use the whisper encoding vector\n",
    "            if len(vec) >= MAX_LEN:\n",
    "                new_vec = vec[:MAX_LEN]\n",
    "            else:\n",
    "                new_vec = vec + [0] * (MAX_LEN - len(vec))\n",
    "            if len(vec) <= (whisper_config[\"n_fft\"] // 2):\n",
    "                packet_data.append(new_vec)\n",
    "                packet_labels.append(flow.label)\n",
    "            else:\n",
    "                flow_data.append(new_vec)\n",
    "                flow_labels.append(flow.label)\n",
    "        else: # for other feature types\n",
    "            pass\n",
    "    return packet_data, packet_labels, flow_data, flow_labels"
   ]
  },
  {
   "cell_type": "code",
   "execution_count": 4,
   "metadata": {},
   "outputs": [],
   "source": [
    "benign_filenames = [os.path.join(\"train_set\", \"benign\" + str(i) + \".csv\") \n",
    "                    for i in range(1, 3)]\n",
    "attack_filenames = [os.path.join(\"attack_set\", x) for x in \n",
    "                    os.listdir(\"attack_set\") if x.endswith(\".csv\")]"
   ]
  },
  {
   "cell_type": "code",
   "execution_count": 51,
   "metadata": {},
   "outputs": [],
   "source": [
    "class AutoEncoder(nn.Module):\n",
    "    def __init__(self, input_dim, hidden_dim=None, decoder_sigmoid=False):\n",
    "        super(AutoEncoder, self).__init__()\n",
    "        if hidden_dim is None:\n",
    "            hidden_dim = int(0.75 * input_dim)\n",
    "        self.encoder = nn.Sequential(\n",
    "            nn.Linear(input_dim, hidden_dim),\n",
    "            nn.Sigmoid())\n",
    "        if decoder_sigmoid:\n",
    "            self.decoder = nn.Sequential(\n",
    "                nn.Linear(hidden_dim, input_dim),\n",
    "                nn.Sigmoid())\n",
    "        else:\n",
    "            self.decoder = nn.Linear(hidden_dim, input_dim)\n",
    "    \n",
    "    def forward(self, x):\n",
    "        x = self.encoder(x)\n",
    "        x = self.decoder(x)\n",
    "        return x"
   ]
  },
  {
   "cell_type": "code",
   "execution_count": 6,
   "metadata": {},
   "outputs": [],
   "source": [
    "class Dataset(torch.utils.data.Dataset):\n",
    "    def __init__(self, data, labels):\n",
    "        super(Dataset, self).__init__()\n",
    "        self.data = data\n",
    "        self.labels = labels\n",
    "    \n",
    "    def __len__(self):\n",
    "        return len(self.data)\n",
    "    \n",
    "    def __getitem__(self, idx):\n",
    "        return self.data[idx], self.labels[idx]"
   ]
  },
  {
   "cell_type": "code",
   "execution_count": 25,
   "metadata": {},
   "outputs": [],
   "source": [
    "def train_kmeans(train_data, kmeans_save_path, n_clusters=10):\n",
    "    train_data = torch.tensor(train_data).float()\n",
    "    kmeans = KMeans(n_clusters=n_clusters, random_state=0)\n",
    "    kmeans.fit(train_data)\n",
    "    centroids = torch.tensor(kmeans.cluster_centers_).float()\n",
    "    train_loss = torch.cdist(train_data, centroids, p=2).min(dim=1).values.mean()\n",
    "    if not os.path.exists(os.path.dirname(kmeans_save_path)):\n",
    "        os.makedirs(os.path.dirname(kmeans_save_path))\n",
    "    with open(kmeans_save_path, \"w\") as f:\n",
    "        json.dump({\n",
    "            \"centroids\": centroids.tolist(),\n",
    "            \"train_loss\": train_loss.item()\n",
    "        }, f, indent=4)\n",
    "    "
   ]
  },
  {
   "cell_type": "code",
   "execution_count": 17,
   "metadata": {},
   "outputs": [],
   "source": [
    "def train_ae(train_data, train_labels, save_dir,\n",
    "            model, criterion, optimizer, device, \n",
    "            batch_size=32, num_epochs=200, \n",
    "            decoder_sigmoid=False):\n",
    "    train_dataset = Dataset(train_data, train_labels)\n",
    "    train_loader = torch.utils.data.DataLoader(train_dataset, batch_size=batch_size, shuffle=True)\n",
    "    loss_list = []\n",
    "    model.to(device)\n",
    "    model.train()\n",
    "    for epoch in range(num_epochs):\n",
    "        for data, labels in train_loader:\n",
    "            if decoder_sigmoid:\n",
    "                data = torch.sigmoid(data.to(device).float())\n",
    "            else:\n",
    "                data = data.to(device).float()\n",
    "            optimizer.zero_grad()\n",
    "            outputs = model(data)\n",
    "            loss = criterion(outputs, data)\n",
    "            loss_list.append(loss.item())\n",
    "            loss.backward()\n",
    "            optimizer.step()\n",
    "        print(f\"Epoch {epoch+1}/{num_epochs}, Loss: {loss.item():.4f}\")\n",
    "    os.makedirs(save_dir, exist_ok=True)\n",
    "    model_save_path = os.path.join(save_dir, \"model.pt\")\n",
    "    torch.save(model.state_dict(), model_save_path)\n",
    "    loss_save_path = os.path.join(save_dir, \"train_loss.json\")\n",
    "    with open(loss_save_path, \"w\") as f:\n",
    "        json.dump(loss_list, f)"
   ]
  },
  {
   "cell_type": "code",
   "execution_count": 7,
   "metadata": {},
   "outputs": [],
   "source": [
    "def test_kmeans(data, kmeans_load_path, whisper_config, scale=10):\n",
    "    with open(kmeans_load_path, \"r\") as f:\n",
    "        model_param = json.load(f)\n",
    "    centroids = torch.tensor(model_param[\"centroids\"])\n",
    "    train_loss = model_param[\"train_loss\"]\n",
    "\n",
    "    kmeans_preds, kmeans_ratios = [], []\n",
    "    for val in data:\n",
    "        val = torch.tensor(val)\n",
    "        if (val.size(0) > whisper_config[\"mean_win_test\"]):\n",
    "            max_dist = 0\n",
    "            for idx in range(0, val.size(0) - whisper_config[\"mean_win_test\"], \n",
    "                             whisper_config[\"mean_win_test\"]):\n",
    "                ten_tmp = val[idx:idx+whisper_config[\"mean_win_test\"],:].mean(dim=0)\n",
    "                dist = torch.norm(ten_tmp - centroids, dim=1).min()\n",
    "                max_dist = max(max_dist, dist)\n",
    "            min_dist = max_dist\n",
    "        else:\n",
    "            min_dist = torch.norm(val.mean(dim=0) - centroids, dim=1).min()\n",
    "        kmeans_preds.append(-1 if min_dist > scale * train_loss else 1)\n",
    "        kmeans_ratios.append(min_dist/(scale * train_loss))\n",
    "    return kmeans_preds, kmeans_ratios"
   ]
  },
  {
   "cell_type": "code",
   "execution_count": 8,
   "metadata": {},
   "outputs": [],
   "source": [
    "def test_ae(test_data, model, device, criterion, \n",
    "            threshold, scale=5, test_data_aug=False,\n",
    "            decoder_sigmoid=False):\n",
    "    model.eval()\n",
    "    preds, ratios = [], []\n",
    "    with torch.no_grad():\n",
    "        for val in test_data:\n",
    "            if decoder_sigmoid:\n",
    "                data = torch.sigmoid(torch.tensor(val).to(device)).float()\n",
    "            else:\n",
    "                data = torch.tensor(val).to(device).float()\n",
    "            outputs = model(data)\n",
    "            loss = criterion(outputs, data)\n",
    "            if not test_data_aug:\n",
    "                ratios.append(loss.item()/(scale * threshold))\n",
    "                preds.append(-1 if loss.item() > threshold * scale else 1)\n",
    "            else:\n",
    "                ratios.append(loss.max().item()/(scale * threshold))\n",
    "                preds.append(-1 if loss.max().item() > threshold * scale else 1)\n",
    "    return preds, ratios"
   ]
  },
  {
   "cell_type": "code",
   "execution_count": 75,
   "metadata": {},
   "outputs": [],
   "source": [
    "def test_ensemble(datac, dataw, labels, kmeans_load_path,\n",
    "         aec_input_dim, aec_load_path, aew_input_dim, aew_load_path, \n",
    "         kmeans_scale=7, aec_scale=10, aew_scale=3,\n",
    "         test_data_aug=False, majority_vote=False):\n",
    "    \n",
    "    kmeans_preds, kmeans_ratios = test_kmeans(dataw, kmeans_load_path, \n",
    "                                              whisper_config, scale=kmeans_scale)\n",
    "\n",
    "    device = torch.device(\"cuda\" if torch.cuda.is_available() else \"cpu\")\n",
    "    criterion = nn.MSELoss()\n",
    "\n",
    "    model_aec = AutoEncoder(aec_input_dim, decoder_sigmoid=True)\n",
    "    model_aec.load_state_dict(torch.load(os.path.join(aec_load_path, \"model.pt\")))\n",
    "    model_aec.to(device)\n",
    "    with open(os.path.join(aec_load_path, \"train_loss.json\"), \"r\") as f:\n",
    "        loss_list = json.load(f)\n",
    "    threshold = torch.tensor(loss_list).mean().item()\n",
    "    aec_preds, aec_ratios = test_ae(datac, model_aec, device, criterion, threshold, \n",
    "                                    scale=aec_scale, test_data_aug=False, \n",
    "                                    decoder_sigmoid=True) \n",
    "    \n",
    "    model_aew = AutoEncoder(aew_input_dim)\n",
    "    model_aew.load_state_dict(torch.load(os.path.join(aew_load_path, \"model.pt\")))\n",
    "    model_aew.to(device)\n",
    "    with open(os.path.join(aew_load_path, \"train_loss.json\"), \"r\") as f:\n",
    "        loss_list = json.load(f)\n",
    "    threshold = torch.tensor(loss_list).mean().item()\n",
    "    aew_preds, aew_ratios = test_ae(dataw, model_aew, device, criterion, threshold, \n",
    "                                    scale=aew_scale, test_data_aug=test_data_aug, \n",
    "                                    decoder_sigmoid=False)\n",
    "\n",
    "    # preds = np.sign(np.array(kmeans_preds) + np.array(aec_preds) + np.array(aew_preds))\n",
    "    preds = []\n",
    "    for idx in range(len(kmeans_preds)):\n",
    "        if majority_vote:\n",
    "            preds.append(np.sign(kmeans_preds[idx] + aec_preds[idx] + aew_preds[idx]))\n",
    "        else:\n",
    "            if kmeans_preds[idx] == -1 or aec_preds[idx] == -1 or aew_preds[idx] == -1:\n",
    "                preds.append(-1)\n",
    "            else:\n",
    "                preds.append(1)\n",
    "\n",
    "    return {\n",
    "        \"kmeans\": accuracy_score(labels, kmeans_preds),\n",
    "        \"aec\": accuracy_score(labels, aec_preds),\n",
    "        \"aew\": accuracy_score(labels, aew_preds),\n",
    "        \"ensemble\": accuracy_score(labels, preds)\n",
    "    }"
   ]
  },
  {
   "cell_type": "code",
   "execution_count": 69,
   "metadata": {},
   "outputs": [],
   "source": [
    "def get_ensemble_result(df_test, test_data_aug, use_short_flow, \n",
    "                        kmeans_load_path, aec_input_dim, aec_load_path, \n",
    "                        aew_input_dim, aew_load_path, majority_vote=False):\n",
    "    \n",
    "    test_packet_data, test_packet_labels, test_flow_data, test_flow_labels  \\\n",
    "    = transform(get_flows(df_test), feature_type=\"encoding\" \n",
    "                ,data_type=\"test\", test_data_aug=test_data_aug)\n",
    "    data_encoding = test_flow_data if not use_short_flow else test_flow_data + test_packet_data\n",
    "    labels_encoding = test_flow_labels if not use_short_flow else test_flow_labels + test_packet_labels\n",
    "\n",
    "    test_packet_data, test_packet_labels, test_flow_data, test_flow_labels \\\n",
    "    = transform(get_flows(df_test), data_type=\"test\", test_data_aug=test_data_aug)\n",
    "    data_whisper = test_flow_data if not use_short_flow else test_flow_data + test_packet_data\n",
    "    labels_whisper = test_flow_labels if not use_short_flow else test_flow_labels + test_packet_labels\n",
    "\n",
    "    assert len(labels_encoding) == len(labels_whisper), \\\n",
    "        print(f\"len labels_encoding: {len(labels_encoding)}, len labels_whisper: {len(labels_whisper)}\")\n",
    "    for idx in range(len(labels_encoding)):\n",
    "        assert labels_encoding[idx] == labels_whisper[idx]\n",
    "    \n",
    "    acc = test_ensemble(data_encoding, data_whisper, labels_whisper, \n",
    "                        kmeans_load_path, aec_input_dim, aec_load_path, aew_input_dim, \n",
    "                        aew_load_path, test_data_aug=test_data_aug, majority_vote=majority_vote)\n",
    "    return acc"
   ]
  },
  {
   "cell_type": "code",
   "execution_count": 72,
   "metadata": {},
   "outputs": [],
   "source": [
    "USE_DATA_AUG = True\n",
    "USE_SHORT_FLOW = True\n",
    "MAJORIY_VOTE = False\n",
    "accuracy_dict = {}\n",
    "\n",
    "vote_type = \"majority\" if MAJORIY_VOTE else \"positive\"\n",
    "suffix = \"-all\" if USE_SHORT_FLOW else \"-long\"\n",
    "train_benign_filename = \"dataset/benign_small.csv\"\n",
    "\n",
    "aec_input_dim = MAX_LEN\n",
    "aew_input_dim = whisper_config[\"n_fft\"] // 2 + 1\n",
    "kmeans_save_path = os.path.join(\"model\", \"whisper\", \"kmeans\"+suffix, \n",
    "                    os.path.basename(train_benign_filename), \"kmeans.json\")\n",
    "aec_save_dir = os.path.join(\"model\", \"autoencoding\"+suffix, \n",
    "                        os.path.basename(train_benign_filename))\n",
    "aew_save_dir = os.path.join(\"model\", \"whisper\", \"autoencoder\"+suffix, \n",
    "                        os.path.basename(train_benign_filename))"
   ]
  },
  {
   "attachments": {},
   "cell_type": "markdown",
   "metadata": {},
   "source": [
    "## Train Frequency features + KMeans"
   ]
  },
  {
   "cell_type": "code",
   "execution_count": 61,
   "metadata": {},
   "outputs": [],
   "source": [
    "train_df = pd.read_csv(train_benign_filename)\n",
    "train_df[\"label\"] = 1\n",
    "train_packet_data, train_packet_labels, train_flow_data, train_flow_labels \\\n",
    "= transform(get_flows(train_df))\n",
    "\n",
    "train_data = train_flow_data if not USE_SHORT_FLOW else train_flow_data + train_packet_data\n",
    "train_labels = train_flow_labels if not USE_SHORT_FLOW else train_flow_labels + train_packet_labels"
   ]
  },
  {
   "cell_type": "code",
   "execution_count": 73,
   "metadata": {},
   "outputs": [
    {
     "name": "stderr",
     "output_type": "stream",
     "text": [
      "/root/anaconda3/envs/PRO/lib/python3.10/site-packages/sklearn/cluster/_kmeans.py:870: FutureWarning: The default value of `n_init` will change from 10 to 'auto' in 1.4. Set the value of `n_init` explicitly to suppress the warning\n",
      "  warnings.warn(\n"
     ]
    }
   ],
   "source": [
    "train_kmeans(train_data, kmeans_save_path, whisper_config[\"val_K\"])"
   ]
  },
  {
   "attachments": {},
   "cell_type": "markdown",
   "metadata": {},
   "source": [
    "## Train Frequency features + AutoEncoders"
   ]
  },
  {
   "cell_type": "code",
   "execution_count": 63,
   "metadata": {},
   "outputs": [
    {
     "name": "stdout",
     "output_type": "stream",
     "text": [
      "Epoch 1/50, Loss: 98.1166\n",
      "Epoch 2/50, Loss: 23.9330\n",
      "Epoch 3/50, Loss: 5.0799\n",
      "Epoch 4/50, Loss: 1.9488\n",
      "Epoch 5/50, Loss: 0.7033\n",
      "Epoch 6/50, Loss: 2.9570\n",
      "Epoch 7/50, Loss: 0.3255\n",
      "Epoch 8/50, Loss: 2.7003\n",
      "Epoch 9/50, Loss: 0.8728\n",
      "Epoch 10/50, Loss: 0.5623\n",
      "Epoch 11/50, Loss: 0.9623\n",
      "Epoch 12/50, Loss: 0.4802\n",
      "Epoch 13/50, Loss: 0.3182\n",
      "Epoch 14/50, Loss: 0.6932\n",
      "Epoch 15/50, Loss: 0.7875\n",
      "Epoch 16/50, Loss: 0.2908\n",
      "Epoch 17/50, Loss: 0.7281\n",
      "Epoch 18/50, Loss: 0.2246\n",
      "Epoch 19/50, Loss: 0.5675\n",
      "Epoch 20/50, Loss: 0.5423\n",
      "Epoch 21/50, Loss: 0.2764\n",
      "Epoch 22/50, Loss: 1.2582\n",
      "Epoch 23/50, Loss: 0.6044\n",
      "Epoch 24/50, Loss: 0.3076\n",
      "Epoch 25/50, Loss: 0.3734\n",
      "Epoch 26/50, Loss: 0.3808\n",
      "Epoch 27/50, Loss: 0.6041\n",
      "Epoch 28/50, Loss: 0.3547\n",
      "Epoch 29/50, Loss: 0.6665\n",
      "Epoch 30/50, Loss: 0.6599\n",
      "Epoch 31/50, Loss: 0.6247\n",
      "Epoch 32/50, Loss: 0.2840\n",
      "Epoch 33/50, Loss: 1.9269\n",
      "Epoch 34/50, Loss: 2.5784\n",
      "Epoch 35/50, Loss: 1.2231\n",
      "Epoch 36/50, Loss: 0.4141\n",
      "Epoch 37/50, Loss: 1.5400\n",
      "Epoch 38/50, Loss: 1.2441\n",
      "Epoch 39/50, Loss: 0.4358\n",
      "Epoch 40/50, Loss: 0.7861\n",
      "Epoch 41/50, Loss: 0.5995\n",
      "Epoch 42/50, Loss: 0.3244\n",
      "Epoch 43/50, Loss: 0.5051\n",
      "Epoch 44/50, Loss: 0.4406\n",
      "Epoch 45/50, Loss: 0.3123\n",
      "Epoch 46/50, Loss: 0.5339\n",
      "Epoch 47/50, Loss: 2.3186\n",
      "Epoch 48/50, Loss: 0.8083\n",
      "Epoch 49/50, Loss: 2.7487\n",
      "Epoch 50/50, Loss: 0.7312\n"
     ]
    }
   ],
   "source": [
    "device = torch.device(\"cuda\" if torch.cuda.is_available() else \"cpu\")\n",
    "model_aew = AutoEncoder(aew_input_dim).to(device)\n",
    "criterion = nn.MSELoss()\n",
    "optimizer = torch.optim.Adam(model_aew.parameters(), lr=0.01, weight_decay=1e-5)\n",
    "train_ae(torch.tensor(train_data), torch.tensor(train_labels), aew_save_dir,\n",
    "         model_aew, criterion, optimizer, device, num_epochs=50)"
   ]
  },
  {
   "attachments": {},
   "cell_type": "markdown",
   "metadata": {},
   "source": [
    "## Train Time features + AutoEncoder"
   ]
  },
  {
   "cell_type": "code",
   "execution_count": 64,
   "metadata": {},
   "outputs": [],
   "source": [
    "train_df = pd.read_csv(train_benign_filename)\n",
    "train_df[\"label\"] = 1\n",
    "train_packet_data_, train_packet_labels_, train_flow_data_, train_flow_labels_ \\\n",
    "= transform(get_flows(train_df), feature_type=\"encoding\")\n",
    "\n",
    "train_data_ = train_flow_data_ if not USE_SHORT_FLOW else train_flow_data_ + train_packet_data_\n",
    "train_labels_ = train_flow_labels_ if not USE_SHORT_FLOW else train_flow_labels_ + train_packet_labels_"
   ]
  },
  {
   "cell_type": "code",
   "execution_count": 77,
   "metadata": {},
   "outputs": [
    {
     "name": "stdout",
     "output_type": "stream",
     "text": [
      "Epoch 1/50, Loss: 0.0816\n",
      "Epoch 2/50, Loss: 0.0461\n",
      "Epoch 3/50, Loss: 0.0254\n",
      "Epoch 4/50, Loss: 0.0206\n",
      "Epoch 5/50, Loss: 0.0150\n",
      "Epoch 6/50, Loss: 0.0207\n",
      "Epoch 7/50, Loss: 0.0185\n",
      "Epoch 8/50, Loss: 0.0141\n",
      "Epoch 9/50, Loss: 0.0125\n",
      "Epoch 10/50, Loss: 0.0024\n",
      "Epoch 11/50, Loss: 0.0128\n",
      "Epoch 12/50, Loss: 0.0070\n",
      "Epoch 13/50, Loss: 0.0020\n",
      "Epoch 14/50, Loss: 0.0052\n",
      "Epoch 15/50, Loss: 0.0029\n",
      "Epoch 16/50, Loss: 0.0031\n",
      "Epoch 17/50, Loss: 0.0041\n",
      "Epoch 18/50, Loss: 0.0047\n",
      "Epoch 19/50, Loss: 0.0039\n",
      "Epoch 20/50, Loss: 0.0037\n",
      "Epoch 21/50, Loss: 0.0063\n",
      "Epoch 22/50, Loss: 0.0057\n",
      "Epoch 23/50, Loss: 0.0041\n",
      "Epoch 24/50, Loss: 0.0017\n",
      "Epoch 25/50, Loss: 0.0058\n",
      "Epoch 26/50, Loss: 0.0083\n",
      "Epoch 27/50, Loss: 0.0056\n",
      "Epoch 28/50, Loss: 0.0073\n",
      "Epoch 29/50, Loss: 0.0030\n",
      "Epoch 30/50, Loss: 0.0017\n",
      "Epoch 31/50, Loss: 0.0021\n",
      "Epoch 32/50, Loss: 0.0029\n",
      "Epoch 33/50, Loss: 0.0051\n",
      "Epoch 34/50, Loss: 0.0014\n",
      "Epoch 35/50, Loss: 0.0028\n",
      "Epoch 36/50, Loss: 0.0044\n",
      "Epoch 37/50, Loss: 0.0027\n",
      "Epoch 38/50, Loss: 0.0003\n",
      "Epoch 39/50, Loss: 0.0013\n",
      "Epoch 40/50, Loss: 0.0018\n",
      "Epoch 41/50, Loss: 0.0039\n",
      "Epoch 42/50, Loss: 0.0004\n",
      "Epoch 43/50, Loss: 0.0038\n",
      "Epoch 44/50, Loss: 0.0059\n",
      "Epoch 45/50, Loss: 0.0023\n",
      "Epoch 46/50, Loss: 0.0015\n",
      "Epoch 47/50, Loss: 0.0041\n",
      "Epoch 48/50, Loss: 0.0018\n",
      "Epoch 49/50, Loss: 0.0010\n",
      "Epoch 50/50, Loss: 0.0023\n"
     ]
    }
   ],
   "source": [
    "device = torch.device(\"cuda\" if torch.cuda.is_available() else \"cpu\")\n",
    "model_aec = AutoEncoder(aec_input_dim, decoder_sigmoid=True).to(device)\n",
    "criterion = nn.MSELoss()\n",
    "optimizer = torch.optim.Adam(model_aec.parameters(), lr=0.01, weight_decay=1e-5)\n",
    "train_ae(torch.tensor(train_data_), torch.tensor(train_labels_), aec_save_dir,\n",
    "         model_aec, criterion, optimizer, device, num_epochs=50, decoder_sigmoid=True)"
   ]
  },
  {
   "attachments": {},
   "cell_type": "markdown",
   "metadata": {},
   "source": [
    "# Test ensemble"
   ]
  },
  {
   "cell_type": "code",
   "execution_count": 78,
   "metadata": {},
   "outputs": [
    {
     "name": "stdout",
     "output_type": "stream",
     "text": [
      "accuracy of train_set/benign1.csv: {'kmeans': 0.997979797979798, 'aec': 1.0, 'aew': 0.997979797979798, 'ensemble': 0.997979797979798}\n",
      "accuracy of train_set/benign2.csv: {'kmeans': 0.9920792079207921, 'aec': 1.0, 'aew': 0.9920792079207921, 'ensemble': 0.9900990099009901}\n"
     ]
    },
    {
     "name": "stderr",
     "output_type": "stream",
     "text": [
      "/root/anaconda3/envs/PRO/lib/python3.10/site-packages/numpy/lib/function_base.py:518: RuntimeWarning: Mean of empty slice.\n",
      "  avg = a.mean(axis, **keepdims_kw)\n",
      "/root/anaconda3/envs/PRO/lib/python3.10/site-packages/numpy/core/_methods.py:192: RuntimeWarning: invalid value encountered in scalar divide\n",
      "  ret = ret.dtype.type(ret / rcount)\n",
      "/root/anaconda3/envs/PRO/lib/python3.10/site-packages/numpy/lib/function_base.py:518: RuntimeWarning: Mean of empty slice.\n",
      "  avg = a.mean(axis, **keepdims_kw)\n",
      "/root/anaconda3/envs/PRO/lib/python3.10/site-packages/numpy/core/_methods.py:192: RuntimeWarning: invalid value encountered in scalar divide\n",
      "  ret = ret.dtype.type(ret / rcount)\n",
      "/root/anaconda3/envs/PRO/lib/python3.10/site-packages/numpy/lib/function_base.py:518: RuntimeWarning: Mean of empty slice.\n",
      "  avg = a.mean(axis, **keepdims_kw)\n",
      "/root/anaconda3/envs/PRO/lib/python3.10/site-packages/numpy/core/_methods.py:192: RuntimeWarning: invalid value encountered in scalar divide\n",
      "  ret = ret.dtype.type(ret / rcount)\n",
      "/root/anaconda3/envs/PRO/lib/python3.10/site-packages/numpy/lib/function_base.py:518: RuntimeWarning: Mean of empty slice.\n",
      "  avg = a.mean(axis, **keepdims_kw)\n",
      "/root/anaconda3/envs/PRO/lib/python3.10/site-packages/numpy/core/_methods.py:192: RuntimeWarning: invalid value encountered in scalar divide\n",
      "  ret = ret.dtype.type(ret / rcount)\n"
     ]
    },
    {
     "name": "stdout",
     "output_type": "stream",
     "text": [
      "accuracy of attack_set/LDoS_small.csv: {'kmeans': nan, 'aec': nan, 'aew': nan, 'ensemble': nan}\n"
     ]
    },
    {
     "name": "stderr",
     "output_type": "stream",
     "text": [
      "/root/anaconda3/envs/PRO/lib/python3.10/site-packages/numpy/lib/function_base.py:518: RuntimeWarning: Mean of empty slice.\n",
      "  avg = a.mean(axis, **keepdims_kw)\n",
      "/root/anaconda3/envs/PRO/lib/python3.10/site-packages/numpy/core/_methods.py:192: RuntimeWarning: invalid value encountered in scalar divide\n",
      "  ret = ret.dtype.type(ret / rcount)\n",
      "/root/anaconda3/envs/PRO/lib/python3.10/site-packages/numpy/lib/function_base.py:518: RuntimeWarning: Mean of empty slice.\n",
      "  avg = a.mean(axis, **keepdims_kw)\n",
      "/root/anaconda3/envs/PRO/lib/python3.10/site-packages/numpy/core/_methods.py:192: RuntimeWarning: invalid value encountered in scalar divide\n",
      "  ret = ret.dtype.type(ret / rcount)\n",
      "/root/anaconda3/envs/PRO/lib/python3.10/site-packages/numpy/lib/function_base.py:518: RuntimeWarning: Mean of empty slice.\n",
      "  avg = a.mean(axis, **keepdims_kw)\n",
      "/root/anaconda3/envs/PRO/lib/python3.10/site-packages/numpy/core/_methods.py:192: RuntimeWarning: invalid value encountered in scalar divide\n",
      "  ret = ret.dtype.type(ret / rcount)\n",
      "/root/anaconda3/envs/PRO/lib/python3.10/site-packages/numpy/lib/function_base.py:518: RuntimeWarning: Mean of empty slice.\n",
      "  avg = a.mean(axis, **keepdims_kw)\n",
      "/root/anaconda3/envs/PRO/lib/python3.10/site-packages/numpy/core/_methods.py:192: RuntimeWarning: invalid value encountered in scalar divide\n",
      "  ret = ret.dtype.type(ret / rcount)\n"
     ]
    },
    {
     "name": "stdout",
     "output_type": "stream",
     "text": [
      "accuracy of attack_set/osscan.csv: {'kmeans': nan, 'aec': nan, 'aew': nan, 'ensemble': nan}\n",
      "accuracy of attack_set/infiltration.csv: {'kmeans': 0.8333333333333334, 'aec': 0.0, 'aew': 0.8333333333333334, 'ensemble': 0.8333333333333334}\n"
     ]
    },
    {
     "name": "stderr",
     "output_type": "stream",
     "text": [
      "/root/anaconda3/envs/PRO/lib/python3.10/site-packages/numpy/lib/function_base.py:518: RuntimeWarning: Mean of empty slice.\n",
      "  avg = a.mean(axis, **keepdims_kw)\n",
      "/root/anaconda3/envs/PRO/lib/python3.10/site-packages/numpy/core/_methods.py:192: RuntimeWarning: invalid value encountered in scalar divide\n",
      "  ret = ret.dtype.type(ret / rcount)\n",
      "/root/anaconda3/envs/PRO/lib/python3.10/site-packages/numpy/lib/function_base.py:518: RuntimeWarning: Mean of empty slice.\n",
      "  avg = a.mean(axis, **keepdims_kw)\n",
      "/root/anaconda3/envs/PRO/lib/python3.10/site-packages/numpy/core/_methods.py:192: RuntimeWarning: invalid value encountered in scalar divide\n",
      "  ret = ret.dtype.type(ret / rcount)\n",
      "/root/anaconda3/envs/PRO/lib/python3.10/site-packages/numpy/lib/function_base.py:518: RuntimeWarning: Mean of empty slice.\n",
      "  avg = a.mean(axis, **keepdims_kw)\n",
      "/root/anaconda3/envs/PRO/lib/python3.10/site-packages/numpy/core/_methods.py:192: RuntimeWarning: invalid value encountered in scalar divide\n",
      "  ret = ret.dtype.type(ret / rcount)\n",
      "/root/anaconda3/envs/PRO/lib/python3.10/site-packages/numpy/lib/function_base.py:518: RuntimeWarning: Mean of empty slice.\n",
      "  avg = a.mean(axis, **keepdims_kw)\n",
      "/root/anaconda3/envs/PRO/lib/python3.10/site-packages/numpy/core/_methods.py:192: RuntimeWarning: invalid value encountered in scalar divide\n",
      "  ret = ret.dtype.type(ret / rcount)\n"
     ]
    },
    {
     "name": "stdout",
     "output_type": "stream",
     "text": [
      "accuracy of attack_set/HOIC_small.csv: {'kmeans': nan, 'aec': nan, 'aew': nan, 'ensemble': nan}\n",
      "accuracy of attack_set/BruteForce-Web.csv: {'kmeans': 0.5147058823529411, 'aec': 0.0, 'aew': 0.9485294117647058, 'ensemble': 0.9485294117647058}\n",
      "accuracy of attack_set/LOIC_UDP_small.csv: {'kmeans': 0.7727272727272727, 'aec': 0.0, 'aew': 0.7727272727272727, 'ensemble': 0.7727272727272727}\n",
      "accuracy of attack_set/SQL_Injection.csv: {'kmeans': nan, 'aec': nan, 'aew': nan, 'ensemble': nan}\n"
     ]
    },
    {
     "name": "stderr",
     "output_type": "stream",
     "text": [
      "/root/anaconda3/envs/PRO/lib/python3.10/site-packages/numpy/lib/function_base.py:518: RuntimeWarning: Mean of empty slice.\n",
      "  avg = a.mean(axis, **keepdims_kw)\n",
      "/root/anaconda3/envs/PRO/lib/python3.10/site-packages/numpy/core/_methods.py:192: RuntimeWarning: invalid value encountered in scalar divide\n",
      "  ret = ret.dtype.type(ret / rcount)\n",
      "/root/anaconda3/envs/PRO/lib/python3.10/site-packages/numpy/lib/function_base.py:518: RuntimeWarning: Mean of empty slice.\n",
      "  avg = a.mean(axis, **keepdims_kw)\n",
      "/root/anaconda3/envs/PRO/lib/python3.10/site-packages/numpy/core/_methods.py:192: RuntimeWarning: invalid value encountered in scalar divide\n",
      "  ret = ret.dtype.type(ret / rcount)\n",
      "/root/anaconda3/envs/PRO/lib/python3.10/site-packages/numpy/lib/function_base.py:518: RuntimeWarning: Mean of empty slice.\n",
      "  avg = a.mean(axis, **keepdims_kw)\n",
      "/root/anaconda3/envs/PRO/lib/python3.10/site-packages/numpy/core/_methods.py:192: RuntimeWarning: invalid value encountered in scalar divide\n",
      "  ret = ret.dtype.type(ret / rcount)\n",
      "/root/anaconda3/envs/PRO/lib/python3.10/site-packages/numpy/lib/function_base.py:518: RuntimeWarning: Mean of empty slice.\n",
      "  avg = a.mean(axis, **keepdims_kw)\n",
      "/root/anaconda3/envs/PRO/lib/python3.10/site-packages/numpy/core/_methods.py:192: RuntimeWarning: invalid value encountered in scalar divide\n",
      "  ret = ret.dtype.type(ret / rcount)\n"
     ]
    },
    {
     "name": "stdout",
     "output_type": "stream",
     "text": [
      "accuracy of attack_set/ssldosA.csv: {'kmeans': 0.0, 'aec': 0.0, 'aew': 0.0, 'ensemble': 0.0}\n"
     ]
    },
    {
     "name": "stderr",
     "output_type": "stream",
     "text": [
      "/root/anaconda3/envs/PRO/lib/python3.10/site-packages/numpy/lib/function_base.py:518: RuntimeWarning: Mean of empty slice.\n",
      "  avg = a.mean(axis, **keepdims_kw)\n",
      "/root/anaconda3/envs/PRO/lib/python3.10/site-packages/numpy/core/_methods.py:192: RuntimeWarning: invalid value encountered in scalar divide\n",
      "  ret = ret.dtype.type(ret / rcount)\n",
      "/root/anaconda3/envs/PRO/lib/python3.10/site-packages/numpy/lib/function_base.py:518: RuntimeWarning: Mean of empty slice.\n",
      "  avg = a.mean(axis, **keepdims_kw)\n",
      "/root/anaconda3/envs/PRO/lib/python3.10/site-packages/numpy/core/_methods.py:192: RuntimeWarning: invalid value encountered in scalar divide\n",
      "  ret = ret.dtype.type(ret / rcount)\n",
      "/root/anaconda3/envs/PRO/lib/python3.10/site-packages/numpy/lib/function_base.py:518: RuntimeWarning: Mean of empty slice.\n",
      "  avg = a.mean(axis, **keepdims_kw)\n",
      "/root/anaconda3/envs/PRO/lib/python3.10/site-packages/numpy/core/_methods.py:192: RuntimeWarning: invalid value encountered in scalar divide\n",
      "  ret = ret.dtype.type(ret / rcount)\n",
      "/root/anaconda3/envs/PRO/lib/python3.10/site-packages/numpy/lib/function_base.py:518: RuntimeWarning: Mean of empty slice.\n",
      "  avg = a.mean(axis, **keepdims_kw)\n",
      "/root/anaconda3/envs/PRO/lib/python3.10/site-packages/numpy/core/_methods.py:192: RuntimeWarning: invalid value encountered in scalar divide\n",
      "  ret = ret.dtype.type(ret / rcount)\n"
     ]
    },
    {
     "name": "stdout",
     "output_type": "stream",
     "text": [
      "accuracy of attack_set/fuzzscan.csv: {'kmeans': nan, 'aec': nan, 'aew': nan, 'ensemble': nan}\n",
      "accuracy of attack_set/BruteForce-XSS.csv: {'kmeans': 1.0, 'aec': 0.0, 'aew': 1.0, 'ensemble': 1.0}\n"
     ]
    }
   ],
   "source": [
    "for test_benign_filename in benign_filenames:\n",
    "    test_df = pd.read_csv(test_benign_filename)\n",
    "    test_df[\"label\"] = 1\n",
    "    acc = get_ensemble_result(test_df, USE_DATA_AUG, USE_SHORT_FLOW, \n",
    "            kmeans_save_path, aec_input_dim, aec_save_dir, aew_input_dim, \n",
    "            aew_save_dir, majority_vote=MAJORIY_VOTE)\n",
    "    print(f\"accuracy of {test_benign_filename}: {acc}\")\n",
    "    accuracy_dict[test_benign_filename] = acc\n",
    "\n",
    "for test_attack_filename in attack_filenames:\n",
    "    test_df = pd.read_csv(test_attack_filename)\n",
    "    test_df[\"label\"] = -1\n",
    "    acc = get_ensemble_result(test_df, USE_DATA_AUG, USE_SHORT_FLOW, \n",
    "            kmeans_save_path, aec_input_dim, aec_save_dir, aew_input_dim, \n",
    "            aew_save_dir, majority_vote=MAJORIY_VOTE)\n",
    "    print(f\"accuracy of {test_attack_filename}: {acc}\")\n",
    "    accuracy_dict[test_attack_filename] = acc \n",
    "\n",
    "accuracy_base_name = \"flow-accuracy.json\" if not USE_SHORT_FLOW else \"all-accuracy.json\"\n",
    "accuracy_save_path = os.path.join(\"result\", \"ensemble\", vote_type,\n",
    "                    os.path.basename(train_benign_filename), accuracy_base_name)\n",
    "os.makedirs(os.path.dirname(accuracy_save_path), exist_ok=True)\n",
    "with open(accuracy_save_path, \"w\") as f:\n",
    "    json.dump(accuracy_dict, f, indent=4)"
   ]
  }
 ],
 "metadata": {
  "kernelspec": {
   "display_name": "PRO",
   "language": "python",
   "name": "python3"
  },
  "language_info": {
   "codemirror_mode": {
    "name": "ipython",
    "version": 3
   },
   "file_extension": ".py",
   "mimetype": "text/x-python",
   "name": "python",
   "nbconvert_exporter": "python",
   "pygments_lexer": "ipython3",
   "version": "3.10.9"
  },
  "orig_nbformat": 4
 },
 "nbformat": 4,
 "nbformat_minor": 2
}
