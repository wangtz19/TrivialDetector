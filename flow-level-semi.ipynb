{
 "cells": [
  {
   "attachments": {},
   "cell_type": "markdown",
   "metadata": {},
   "source": [
    "# Combine supervised and unsupervised learning"
   ]
  },
  {
   "cell_type": "code",
   "execution_count": 9,
   "metadata": {},
   "outputs": [],
   "source": [
    "import pandas as pd\n",
    "from model import get_flows, transform, get_metrics, train_ae, train_kmeans, test_ae, test_kmeans\n",
    "from model import AutoEncoder, Dataset\n",
    "import numpy as np\n",
    "import os\n",
    "from sklearn.tree import DecisionTreeClassifier\n",
    "from sklearn.naive_bayes import GaussianNB, MultinomialNB\n",
    "from sklearn.svm import SVC\n",
    "import json\n",
    "import skops.io as sio\n",
    "import torch.nn as nn\n",
    "import torch\n",
    "from config import whisper_config\n",
    "\n",
    "MAX_LEN = whisper_config[\"n_fft\"] * 2"
   ]
  },
  {
   "attachments": {},
   "cell_type": "markdown",
   "metadata": {},
   "source": [
    "## Mix benign and attack traffic"
   ]
  },
  {
   "cell_type": "code",
   "execution_count": 2,
   "metadata": {},
   "outputs": [],
   "source": [
    "def get_train_test_df(benign_path: str, attack_path: str):\n",
    "    df_benign = pd.read_csv(benign_path)\n",
    "    df_benign[\"label\"] = 1\n",
    "    df_attack = pd.read_csv(attack_path)\n",
    "    df_attack[\"label\"] = -1\n",
    "    df_mix = pd.concat([df_benign, df_attack], ignore_index=True, axis=0)\n",
    "    df_group = df_mix.groupby([\"src_ip\", \"dst_ip\", \"src_port\", \"dst_port\", \"protocol\"])\n",
    "    df_mix[\"group\"] = df_group.ngroup()\n",
    "    df_mix[\"group\"] = df_mix[\"group\"] % 10\n",
    "    df_mix[\"group\"] = df_mix[\"group\"].apply(lambda x: \"train\" if x < 6 else \"test\")\n",
    "    # df_mix[\"group\"].apply(lambda x: \"train\" if np.random.rand() < train_test_ratio else \"test\")\n",
    "    df_train = df_mix[df_mix[\"group\"] == \"train\"]\n",
    "    df_test = df_mix[df_mix[\"group\"] == \"test\"]\n",
    "    return df_train, df_test"
   ]
  },
  {
   "cell_type": "code",
   "execution_count": 3,
   "metadata": {},
   "outputs": [],
   "source": [
    "def get_mix_df(benign_path: str = None, \n",
    "                attack_path: str = None, \n",
    "                attack_ratio: int = None):\n",
    "    assert benign_path is not None or attack_path is not None, \\\n",
    "        \"benign_path and attack_path cannot be None at the same time\"\n",
    "    if benign_path is not None:\n",
    "        df_benign = pd.read_csv(benign_path)\n",
    "        df_benign[\"label\"] = 1\n",
    "    else:\n",
    "        df_benign = None\n",
    "    if attack_path is not None:\n",
    "        df_attack = pd.read_csv(attack_path)\n",
    "        df_attack[\"label\"] = -1\n",
    "        if attack_ratio is not None:\n",
    "            df_group = df_attack.groupby([\"src_ip\", \"dst_ip\", \"src_port\", \"dst_port\", \"protocol\"])\n",
    "            df_attack[\"group\"] = df_group.ngroup()\n",
    "            df_attack[\"group\"] = df_attack[\"group\"] % 500\n",
    "            df_attack[\"group\"] = df_attack[\"group\"].apply(lambda x: \"train\" if x < attack_ratio else \"test\")\n",
    "            df_attack = df_attack[df_attack[\"group\"] == \"train\"]\n",
    "    else:\n",
    "        df_attack = None\n",
    "    df_mix = pd.concat([df_benign, df_attack], ignore_index=True, axis=0)\n",
    "    return df_mix"
   ]
  },
  {
   "cell_type": "code",
   "execution_count": 4,
   "metadata": {},
   "outputs": [],
   "source": [
    "\n",
    "benign_filenames = [os.path.join(\"train_set\", \"benign\" + str(i) + \".csv\") \n",
    "                    for i in range(1, 3)]\n",
    "attack_filenames = [os.path.join(\"attack_set\", x) for x in \n",
    "                    os.listdir(\"attack_set\") if x.endswith(\".csv\")]"
   ]
  },
  {
   "attachments": {},
   "cell_type": "markdown",
   "metadata": {},
   "source": [
    "## Train a single supervised model"
   ]
  },
  {
   "cell_type": "code",
   "execution_count": 15,
   "metadata": {},
   "outputs": [],
   "source": [
    "def train_supervise(data, labels, save_path, model=\"dt\"):\n",
    "    if model == \"dt\":\n",
    "        clf = DecisionTreeClassifier(random_state=0)\n",
    "    elif model == \"svm\":\n",
    "        clf = SVC()\n",
    "    else:\n",
    "        clf = GaussianNB()\n",
    "        # clf = MultinomialNB()\n",
    "    clf.fit(data, labels)\n",
    "    if not os.path.exists(os.path.dirname(save_path)):\n",
    "        os.makedirs(os.path.dirname(save_path))\n",
    "    sio.dump(clf, save_path)\n",
    "\n",
    "\n",
    "def test_supervise(data, labels, load_path, test_data_aug=False):\n",
    "    clf = sio.load(load_path, True)\n",
    "    if not test_data_aug:\n",
    "        preds = clf.predict(data)\n",
    "    else:\n",
    "        preds = []\n",
    "        for val in data:\n",
    "            pred = clf.predict(val)\n",
    "            preds.append(1 if sum(pred) > -1*len(pred) else -1)\n",
    "    return get_metrics(labels, preds)"
   ]
  },
  {
   "cell_type": "code",
   "execution_count": 13,
   "metadata": {},
   "outputs": [],
   "source": [
    "USE_DATA_AUG = True\n",
    "\n",
    "model = \"dt\"\n",
    "if model == \"dt\":\n",
    "    save_model_name = \"decision_tree\"\n",
    "elif model == \"svm\":\n",
    "    save_model_name = \"svm\"\n",
    "else:\n",
    "    save_model_name = \"naive_bayes\""
   ]
  },
  {
   "cell_type": "code",
   "execution_count": 26,
   "metadata": {},
   "outputs": [
    {
     "name": "stdout",
     "output_type": "stream",
     "text": [
      "(4784, 26)\n",
      "(4784,)\n"
     ]
    }
   ],
   "source": [
    "train_benign_filename = \"dataset/benign_small.csv\"\n",
    "df_train = get_mix_df(benign_path=train_benign_filename, \n",
    "                    attack_path=attack_filenames[1],\n",
    "                    attack_ratio=1)\n",
    "train_packet_data, train_packet_labels, train_flow_data, train_flow_labels \\\n",
    "    = transform(get_flows(df_train), data_type=\"train\")\n",
    "train_data = train_flow_data + train_packet_data\n",
    "train_labels = train_flow_labels + train_packet_labels\n",
    "\n",
    "print(np.array(train_data).shape)\n",
    "print(np.array(train_labels).shape)"
   ]
  },
  {
   "cell_type": "code",
   "execution_count": 17,
   "metadata": {},
   "outputs": [],
   "source": [
    "train_benign_filename = \"dataset/benign_small.csv\"\n",
    "for train_attack_filename in attack_filenames[:3]:\n",
    "    df_train = get_mix_df(benign_path=train_benign_filename, \n",
    "                    attack_path=train_attack_filename,\n",
    "                    attack_ratio=1)\n",
    "    train_packet_data, train_packet_labels, train_flow_data, train_flow_labels \\\n",
    "        = transform(get_flows(df_train), data_type=\"train\")\n",
    "\n",
    "    save_path = os.path.join(\"model\", \"whisper\", save_model_name, \n",
    "                os.path.basename(train_benign_filename) + \"_\" + \\\n",
    "                os.path.basename(train_attack_filename) + \".skops\")\n",
    "    train_data = train_flow_data + train_packet_data\n",
    "    train_labels = train_flow_labels + train_packet_labels\n",
    "    train_supervise(train_data, train_labels, save_path, model=model)\n"
   ]
  },
  {
   "cell_type": "code",
   "execution_count": 16,
   "metadata": {},
   "outputs": [
    {
     "name": "stdout",
     "output_type": "stream",
     "text": [
      "attack_set/LDoS_small.csv (0.999950149551346, 0.9999409925060483, 1.0, 0.9999704953825274, nan, nan, 2.9503746975865936e-05, 1.0)\n",
      "attack_set/osscan.csv (0.6057375460360535, 0.005865102639296188, 1.0, 0.011661807580174927, nan, nan, 0.4970674486803519, 1.0)\n",
      "attack_set/infiltration.csv (0.9987175376723308, 0.3333333333333333, 1.0, 0.5, nan, nan, 0.3333333333333333, 1.0)\n",
      "attack_set/HOIC_small.csv (0.9151494183280716, 0.9807629427792915, 0.9179332857288585, 0.9483085678153652, nan, nan, 0.17817080181379022, 0.662895453593128)\n",
      "attack_set/BruteForce-Web.csv (0.9790374963094184, 0.7408759124087592, 1.0, 0.8511530398322852, nan, nan, 0.12956204379562045, 1.0)\n"
     ]
    },
    {
     "name": "stderr",
     "output_type": "stream",
     "text": [
      "/root/anaconda3/envs/PRO/lib/python3.10/site-packages/sklearn/metrics/_classification.py:1344: UndefinedMetricWarning: Precision is ill-defined and being set to 0.0 due to no predicted samples. Use `zero_division` parameter to control this behavior.\n",
      "  _warn_prf(average, modifier, msg_start, len(result))\n"
     ]
    },
    {
     "name": "stdout",
     "output_type": "stream",
     "text": [
      "attack_set/LOIC_UDP_small.csv (0.998716714789862, 0.0, 0.0, 0.0, nan, nan, 0.5, 0.0)\n",
      "attack_set/SQL_Injection.csv (0.9993644741023197, 0.9411764705882353, 1.0, 0.9696969696969697, nan, nan, 0.029411764705882353, 1.0)\n",
      "attack_set/ssldosA.csv (0.9923639834552975, 0.2, 1.0, 0.33333333333333337, nan, nan, 0.4, 1.0)\n",
      "attack_set/fuzzscan.csv (0.4791857973676156, 0.005261619409529378, 1.0, 0.010468159348647864, nan, nan, 0.4973691902952353, 1.0)\n",
      "attack_set/BruteForce-XSS.csv (0.9771803688652704, 0.1511627906976744, 1.0, 0.2626262626262626, nan, nan, 0.42441860465116277, 1.0)\n"
     ]
    },
    {
     "name": "stderr",
     "output_type": "stream",
     "text": [
      "/root/anaconda3/envs/PRO/lib/python3.10/site-packages/sklearn/metrics/_classification.py:1344: UndefinedMetricWarning: Precision is ill-defined and being set to 0.0 due to no predicted samples. Use `zero_division` parameter to control this behavior.\n",
      "  _warn_prf(average, modifier, msg_start, len(result))\n"
     ]
    },
    {
     "name": "stdout",
     "output_type": "stream",
     "text": [
      "attack_set/LDoS_small.csv (0.15518444666001993, 0.0, 0.0, 0.0, nan, nan, 0.5, 0.0)\n",
      "attack_set/osscan.csv (0.9912773793370808, 0.9780058651026393, 1.0, 0.9888806523350631, nan, nan, 0.010997067448680353, 1.0)\n"
     ]
    },
    {
     "name": "stderr",
     "output_type": "stream",
     "text": [
      "/root/anaconda3/envs/PRO/lib/python3.10/site-packages/sklearn/metrics/_classification.py:1344: UndefinedMetricWarning: Precision is ill-defined and being set to 0.0 due to no predicted samples. Use `zero_division` parameter to control this behavior.\n",
      "  _warn_prf(average, modifier, msg_start, len(result))\n"
     ]
    },
    {
     "name": "stdout",
     "output_type": "stream",
     "text": [
      "attack_set/infiltration.csv (0.9980763065084963, 0.0, 0.0, 0.0, nan, nan, 0.5, 0.0)\n"
     ]
    },
    {
     "name": "stderr",
     "output_type": "stream",
     "text": [
      "/root/anaconda3/envs/PRO/lib/python3.10/site-packages/sklearn/metrics/_classification.py:1344: UndefinedMetricWarning: Precision is ill-defined and being set to 0.0 due to no predicted samples. Use `zero_division` parameter to control this behavior.\n",
      "  _warn_prf(average, modifier, msg_start, len(result))\n"
     ]
    },
    {
     "name": "stdout",
     "output_type": "stream",
     "text": [
      "attack_set/HOIC_small.csv (0.20641785235479826, 0.0, 0.0, 0.0, nan, nan, 0.5, 0.0)\n"
     ]
    },
    {
     "name": "stderr",
     "output_type": "stream",
     "text": [
      "/root/anaconda3/envs/PRO/lib/python3.10/site-packages/sklearn/metrics/_classification.py:1344: UndefinedMetricWarning: Precision is ill-defined and being set to 0.0 due to no predicted samples. Use `zero_division` parameter to control this behavior.\n",
      "  _warn_prf(average, modifier, msg_start, len(result))\n"
     ]
    },
    {
     "name": "stdout",
     "output_type": "stream",
     "text": [
      "attack_set/BruteForce-Web.csv (0.9191024505462061, 0.0, 0.0, 0.0, nan, nan, 0.5, 0.0)\n"
     ]
    },
    {
     "name": "stderr",
     "output_type": "stream",
     "text": [
      "/root/anaconda3/envs/PRO/lib/python3.10/site-packages/sklearn/metrics/_classification.py:1344: UndefinedMetricWarning: Precision is ill-defined and being set to 0.0 due to no predicted samples. Use `zero_division` parameter to control this behavior.\n",
      "  _warn_prf(average, modifier, msg_start, len(result))\n"
     ]
    },
    {
     "name": "stdout",
     "output_type": "stream",
     "text": [
      "attack_set/LOIC_UDP_small.csv (0.998716714789862, 0.0, 0.0, 0.0, nan, nan, 0.5, 0.0)\n"
     ]
    },
    {
     "name": "stderr",
     "output_type": "stream",
     "text": [
      "/root/anaconda3/envs/PRO/lib/python3.10/site-packages/sklearn/metrics/_classification.py:1344: UndefinedMetricWarning: Precision is ill-defined and being set to 0.0 due to no predicted samples. Use `zero_division` parameter to control this behavior.\n",
      "  _warn_prf(average, modifier, msg_start, len(result))\n"
     ]
    },
    {
     "name": "stdout",
     "output_type": "stream",
     "text": [
      "attack_set/SQL_Injection.csv (0.9891960597394344, 0.0, 0.0, 0.0, nan, nan, 0.5, 0.0)\n"
     ]
    },
    {
     "name": "stderr",
     "output_type": "stream",
     "text": [
      "/root/anaconda3/envs/PRO/lib/python3.10/site-packages/sklearn/metrics/_classification.py:1344: UndefinedMetricWarning: Precision is ill-defined and being set to 0.0 due to no predicted samples. Use `zero_division` parameter to control this behavior.\n",
      "  _warn_prf(average, modifier, msg_start, len(result))\n"
     ]
    },
    {
     "name": "stdout",
     "output_type": "stream",
     "text": [
      "attack_set/ssldosA.csv (0.9904549793191219, 0.0, 0.0, 0.0, nan, nan, 0.5, 0.0)\n",
      "attack_set/fuzzscan.csv (0.9801040710131619, 0.9619994153756212, 1.0, 0.980631704410012, nan, nan, 0.01900029231218942, 1.0)\n",
      "attack_set/BruteForce-XSS.csv (0.9731165989371678, 0.0, 0.0, 0.0, nan, nan, 0.5, 0.0)\n"
     ]
    },
    {
     "name": "stderr",
     "output_type": "stream",
     "text": [
      "/root/anaconda3/envs/PRO/lib/python3.10/site-packages/sklearn/metrics/_classification.py:1344: UndefinedMetricWarning: Precision is ill-defined and being set to 0.0 due to no predicted samples. Use `zero_division` parameter to control this behavior.\n",
      "  _warn_prf(average, modifier, msg_start, len(result))\n"
     ]
    }
   ],
   "source": [
    "train_benign_filename = \"dataset/benign_small.csv\"\n",
    "with open(\"attacker-ips.json\", \"r\") as f:\n",
    "    attack_ips_dict = json.load(f)\n",
    "\n",
    "total_acc_dict = {}\n",
    "for train_attack_filename in attack_filenames[:2]:\n",
    "    save_path = os.path.join(\"model\", \"whisper\", save_model_name, \n",
    "                os.path.basename(train_benign_filename) + \"_\" + \\\n",
    "                os.path.basename(train_attack_filename) + \".skops\")\n",
    "\n",
    "    acc_dict = {}\n",
    "    for attack_filename in attack_filenames:\n",
    "        df_benign = pd.read_csv(train_benign_filename)\n",
    "        df_attack = pd.read_csv(attack_filename)\n",
    "        df_test = pd.concat([df_benign, df_attack], ignore_index=True)\n",
    "\n",
    "        file_key = os.path.basename(attack_filename).split(\".\")[0]\n",
    "        cur_attack_ips = attack_ips_dict.get(file_key, [])\n",
    "        df_test[\"label\"] = 0\n",
    "        for row in df_test.iterrows():\n",
    "            if row[1][\"src_ip\"] in cur_attack_ips or row[1][\"dst_ip\"] in cur_attack_ips:\n",
    "                df_test.loc[row[0], \"label\"] = -1\n",
    "            else:\n",
    "                df_test.loc[row[0], \"label\"] = 1\n",
    "        \n",
    "        test_packet_data, test_packet_labels, test_flow_data, test_flow_labels \\\n",
    "        = transform(get_flows(df_test), data_type=\"test\", test_data_aug=USE_DATA_AUG)\n",
    "        test_data =  test_flow_data + test_packet_data\n",
    "        test_labels = test_flow_labels + test_packet_labels\n",
    "        acc = test_supervise(test_data, test_labels, save_path, test_data_aug=USE_DATA_AUG)\n",
    "        acc_dict[attack_filename] = acc\n",
    "        print(attack_filename, acc)\n",
    "    total_acc_dict[train_attack_filename] = acc_dict\n",
    "\n",
    "metrics_save_path = os.path.join(\"result\", \"whisper\", save_model_name, \n",
    "                    \"all-metrics.json\")\n",
    "os.makedirs(os.path.dirname(metrics_save_path), exist_ok=True)\n",
    "with open(metrics_save_path, \"w\") as f:\n",
    "    json.dump(total_acc_dict, f, indent=4)"
   ]
  },
  {
   "cell_type": "code",
   "execution_count": 19,
   "metadata": {},
   "outputs": [],
   "source": [
    "metrics_save_path = os.path.join(\"result\", \"whisper\", save_model_name, \n",
    "                    \"all-metrics.json\")\n",
    "os.makedirs(os.path.dirname(metrics_save_path), exist_ok=True)\n",
    "with open(metrics_save_path, \"w\") as f:\n",
    "    json.dump(total_acc_dict, f, indent=4)"
   ]
  },
  {
   "cell_type": "code",
   "execution_count": 87,
   "metadata": {},
   "outputs": [
    {
     "name": "stdout",
     "output_type": "stream",
     "text": [
      "accuracy of train_set/benign1.csv: 1.0\n",
      "accuracy of train_set/benign2.csv: 1.0\n",
      "accuracy of dataset_lite/mirai-benign.csv: 1.0\n",
      "accuracy of dataset_lite/BruteForce-Web.csv: 0.0\n",
      "accuracy of dataset_lite/BruteForce-XSS.csv: 0.0\n",
      "accuracy of dataset_lite/infiltration.csv: 0.0\n",
      "accuracy of dataset_lite/osscan.csv: 0.0\n",
      "accuracy of dataset_lite/SQL_Injection.csv: 0.0\n",
      "accuracy of dataset_lite/ssldosA10only.csv: 0.21739130434782608\n",
      "accuracy of dataset_lite/mirai-attack.csv: 0.0\n"
     ]
    }
   ],
   "source": [
    "detect_type = save_model_name if USE_DATA_AUG else save_model_name + \"_no_aug\"\n",
    "accuracy_dict = {}\n",
    "\n",
    "for test_filename in benign_filenames + attack_filenames:\n",
    "    if test_filename in benign_filenames:\n",
    "        df_test = get_mix_df(benign_path=test_filename)\n",
    "    else:\n",
    "        df_test = get_mix_df(attack_path=test_filename)\n",
    "    test_packet_data, test_packet_labels, test_flow_data, test_flow_labels \\\n",
    "    = transform(get_flows(df_test), data_type=\"test\", test_data_aug=USE_DATA_AUG)\n",
    "    test_data = test_flow_data + test_packet_data\n",
    "    test_labels = test_flow_labels + test_packet_labels\n",
    "    acc = test_supervise(test_data, test_labels, save_path, test_data_aug=USE_DATA_AUG)\n",
    "    print(f\"accuracy of {test_filename}: {acc}\")\n",
    "    accuracy_dict[test_filename] = acc\n",
    "\n",
    "accuracy_base_name = \"all-accuracy.json\"\n",
    "accuracy_save_path = os.path.join(\"result\", \"whisper\", detect_type, \n",
    "                    os.path.basename(train_benign_filename)+\"-\"+os.path.basename(train_attack_filename),\n",
    "                    accuracy_base_name)\n",
    "os.makedirs(os.path.dirname(accuracy_save_path), exist_ok=True)\n",
    "with open(accuracy_save_path, \"w\") as f:\n",
    "    json.dump(accuracy_dict, f, indent=4)"
   ]
  },
  {
   "attachments": {},
   "cell_type": "markdown",
   "metadata": {},
   "source": [
    "# Train semi-supervised ensemble"
   ]
  },
  {
   "cell_type": "code",
   "execution_count": 5,
   "metadata": {},
   "outputs": [],
   "source": [
    "def train_dt(train_data, train_labels, dt_save_path):\n",
    "    clf = DecisionTreeClassifier(random_state=0)\n",
    "    clf.fit(train_data, train_labels)\n",
    "    if not os.path.exists(os.path.dirname(dt_save_path)):\n",
    "        os.makedirs(os.path.dirname(dt_save_path))\n",
    "    sio.dump(clf, dt_save_path)"
   ]
  },
  {
   "cell_type": "code",
   "execution_count": 6,
   "metadata": {},
   "outputs": [],
   "source": [
    "\n",
    "def train_ensemble(benign_data, benign_labels, attack_data, attack_labels, \n",
    "        kmeans_save_path, n_clusters, dt_save_path, ae_save_dir,\n",
    "        model, criterion, optimizer, device, batch_size=32, num_epochs=20\n",
    "        ):\n",
    "    train_dt(benign_data+attack_data, benign_labels+attack_labels, dt_save_path)\n",
    "    train_kmeans(benign_data, kmeans_save_path, n_clusters=n_clusters)\n",
    "    train_ae(benign_data, benign_labels, ae_save_dir, model, criterion, optimizer, \n",
    "             device, batch_size=batch_size, num_epochs=num_epochs)"
   ]
  },
  {
   "cell_type": "code",
   "execution_count": 7,
   "metadata": {},
   "outputs": [],
   "source": [
    "def test_dt(data, dt_load_path):\n",
    "    clf = sio.load(dt_load_path, True)\n",
    "    dt_preds = []\n",
    "    for val in data:\n",
    "        pred = clf.predict(val)\n",
    "        dt_preds.append(1 if sum(pred) > -1*len(pred) else -1)\n",
    "    return dt_preds"
   ]
  },
  {
   "cell_type": "code",
   "execution_count": 40,
   "metadata": {},
   "outputs": [],
   "source": [
    "def test_ensemble(dataw, labels, kmeans_load_path,\n",
    "         aew_input_dim, aew_load_path, dt_load_path, \n",
    "         dt_train_data, dt_train_labels, test_attack,\n",
    "         kmeans_scale=7, aew_scale=3,\n",
    "         test_data_aug=False):\n",
    "    \n",
    "    kmeans_preds, kmeans_ratios, kmeans_loss_list, kmeans_threshold = \\\n",
    "        test_kmeans(dataw, kmeans_load_path, whisper_config, scale=kmeans_scale)\n",
    "\n",
    "    device = torch.device(\"cuda\" if torch.cuda.is_available() else \"cpu\")\n",
    "    criterion = nn.MSELoss()\n",
    "    model_aew = AutoEncoder(aew_input_dim)\n",
    "    model_aew.load_state_dict(torch.load(os.path.join(aew_load_path, \"model.pt\")))\n",
    "    model_aew.to(device)\n",
    "    with open(os.path.join(aew_load_path, \"train_loss.json\"), \"r\") as f:\n",
    "        loss_list = json.load(f)\n",
    "    threshold = torch.tensor(loss_list).mean().item()\n",
    "    aew_preds, aew_ratios, aew_loss_list, aew_threshold = \\\n",
    "        test_ae(dataw, model_aew, device, criterion, threshold, \n",
    "                scale=aew_scale, test_data_aug=test_data_aug, decoder_sigmoid=False)\n",
    "    \n",
    "    dt_preds = test_dt(dataw, dt_load_path)\n",
    "\n",
    "    preds_majority, preds_positive = [], []\n",
    "    for idx in range(len(kmeans_preds)):\n",
    "        preds_majority.append(np.sign(kmeans_preds[idx] + dt_preds[idx] + aew_preds[idx]))\n",
    "        if kmeans_preds[idx] == -1 or dt_preds[idx] == -1 or aew_preds[idx] == -1:\n",
    "            preds_positive.append(-1)\n",
    "        else:\n",
    "            preds_positive.append(1)\n",
    "    \n",
    "    start_idx = len(kmeans_preds) // 2\n",
    "    for idx in range(start_idx):\n",
    "        if kmeans_preds[idx] == -1 and aew_preds[idx] == -1:\n",
    "            dt_train_data.append(np.array(dataw[idx]).mean(axis=0).tolist())\n",
    "            dt_train_labels.append(labels[idx])\n",
    "    \n",
    "    new_dt_save_path = os.path.join(\"model\", \"semi\", \"dt\", test_attack)\n",
    "    train_dt(dt_train_data, dt_train_labels, new_dt_save_path)\n",
    "    new_dt_preds = test_dt(dataw, new_dt_save_path)\n",
    "\n",
    "    # only use the latter half data\n",
    "    new_dt_preds[:start_idx] = dt_preds[:start_idx]\n",
    "    new_preds_majority, new_preds_positive = preds_majority[:start_idx], preds_positive[:start_idx]\n",
    "    for idx in range(start_idx, len(kmeans_preds)):\n",
    "        new_preds_majority.append(np.sign(kmeans_preds[idx] + new_dt_preds[idx] + aew_preds[idx]))\n",
    "        if kmeans_preds[idx] == -1 or new_dt_preds[idx] == -1 or aew_preds[idx] == -1:\n",
    "            new_preds_positive.append(-1)\n",
    "        else:\n",
    "            new_preds_positive.append(1)\n",
    "        \n",
    "    return {\n",
    "        \"kmeans\": get_metrics(labels, kmeans_preds),\n",
    "        \"dt\": get_metrics(labels, dt_preds),\n",
    "        \"aew\": get_metrics(labels, aew_preds),\n",
    "        \"preds_majority\": get_metrics(labels, preds_majority),\n",
    "        \"preds_positive\": get_metrics(labels, preds_positive),\n",
    "        \"new_dt\": get_metrics(labels, new_dt_preds),\n",
    "        \"new_preds_majority\": get_metrics(labels, new_preds_majority),\n",
    "        \"new_preds_positive\": get_metrics(labels, new_preds_positive),\n",
    "    }\n"
   ]
  },
  {
   "cell_type": "code",
   "execution_count": 22,
   "metadata": {},
   "outputs": [],
   "source": [
    "USE_DATA_AUG = True\n",
    "USE_SHORT_FLOW = True\n",
    "\n",
    "aec_input_dim = MAX_LEN\n",
    "aew_input_dim = whisper_config[\"n_fft\"] // 2 + 1\n",
    "kmeans_save_path = os.path.join(\"model\", \"whisper\", \"kmeans-all\", \n",
    "                    os.path.basename(train_benign_filename), \"kmeans.json\")\n",
    "aew_save_dir = os.path.join(\"model\", \"whisper\", \"autoencoder-all\", \n",
    "                    os.path.basename(train_benign_filename))"
   ]
  },
  {
   "cell_type": "code",
   "execution_count": null,
   "metadata": {},
   "outputs": [],
   "source": [
    "# data for train whisper and FAE\n",
    "\n",
    "# train_df = pd.read_csv(train_benign_filename)\n",
    "# train_df[\"label\"] = 1\n",
    "# train_packet_data, train_packet_labels, train_flow_data, train_flow_labels \\\n",
    "# = transform(get_flows(train_df))\n",
    "\n",
    "# train_data = train_flow_data + train_packet_data\n",
    "# train_labels = train_flow_labels + train_packet_labels\n",
    "\n",
    "# train whisper and FAE\n",
    "# do not train again, just load trained model"
   ]
  },
  {
   "cell_type": "code",
   "execution_count": 28,
   "metadata": {},
   "outputs": [],
   "source": [
    "train_benign_filename = \"dataset/benign_small.csv\"\n",
    "train_attack_filename = \"attack_set/osscan.csv\"\n",
    "\n",
    "df_train = get_mix_df(benign_path=train_benign_filename, \n",
    "                    attack_path=train_attack_filename,\n",
    "                    attack_ratio=1)\n",
    "train_packet_data, train_packet_labels, train_flow_data, train_flow_labels \\\n",
    "    = transform(get_flows(df_train), data_type=\"train\")\n",
    "\n",
    "train_data = train_flow_data + train_packet_data\n",
    "train_labels = train_flow_labels + train_packet_labels\n",
    "\n",
    "dt_save_path = os.path.join(\"model\", \"whisper\", \"decision_tree\", \n",
    "                os.path.basename(train_benign_filename) + \"_\" + \\\n",
    "                os.path.basename(train_attack_filename) + \".skops\")"
   ]
  },
  {
   "attachments": {},
   "cell_type": "markdown",
   "metadata": {},
   "source": [
    "## Test semi-ensemble"
   ]
  },
  {
   "cell_type": "code",
   "execution_count": 41,
   "metadata": {},
   "outputs": [
    {
     "name": "stderr",
     "output_type": "stream",
     "text": [
      "/root/anaconda3/envs/PRO/lib/python3.10/site-packages/sklearn/metrics/_classification.py:1344: UndefinedMetricWarning: Precision is ill-defined and being set to 0.0 due to no predicted samples. Use `zero_division` parameter to control this behavior.\n",
      "  _warn_prf(average, modifier, msg_start, len(result))\n"
     ]
    },
    {
     "name": "stdout",
     "output_type": "stream",
     "text": [
      "attack_set/LDoS_small.csv {'kmeans': (0.9998504486540379, 1.0, 0.9998230088495575, 0.9999114965926188, nan, nan, 0.00048185030517183813, 0.9990362993896563), 'dt': (0.15518444666001993, 0.0, 0.0, 0.0, nan, nan, 0.5, 0.0), 'aew': (0.999950149551346, 1.0, 0.9999409959877271, 0.9999704971234695, nan, nan, 0.00016061676839063121, 0.9996787664632187), 'preds_majority': (0.999950149551346, 1.0, 0.9999409959877271, 0.9999704971234695, nan, nan, 0.00016061676839063121, 0.9996787664632187), 'preds_positive': (0.9998504486540379, 1.0, 0.9998230088495575, 0.9999114965926188, nan, nan, 0.00048185030517183813, 0.9990362993896563), 'new_dt': (0.65518444666002, 0.5918451643358706, 1.0, 0.7435963969307188, nan, nan, 0.20407741783206468, 1.0), 'new_preds_majority': (0.999950149551346, 1.0, 0.9999409959877271, 0.9999704971234695, nan, nan, 0.00016061676839063121, 0.9996787664632187), 'new_preds_positive': (0.9998504486540379, 1.0, 0.9998230088495575, 0.9999114965926188, nan, nan, 0.00048185030517183813, 0.9990362993896563)}\n",
      "attack_set/osscan.csv {'kmeans': (0.605543710021322, 0.006842619745845552, 0.8235294117647058, 0.013572467280659235, nan, nan, 0.49706054043224907, 0.9990362993896563), 'dt': (0.9912773793370808, 0.9780058651026393, 1.0, 0.9888806523350631, nan, nan, 0.010997067448680353, 1.0), 'aew': (0.605931382050785, 0.006842619745845552, 0.9333333333333333, 0.013585638039786511, nan, nan, 0.49673930689546786, 0.9996787664632187), 'preds_majority': (0.605931382050785, 0.006842619745845552, 0.9333333333333333, 0.013585638039786511, nan, nan, 0.49673930689546786, 0.9996787664632187), 'preds_positive': (0.9934095754991278, 0.9848484848484849, 0.9985133795837463, 0.9916338582677167, nan, nan, 0.008057607880929414, 0.9990362993896563), 'new_dt': (0.9941849195580539, 0.9853372434017595, 1.0, 0.9926144756277696, nan, nan, 0.007331378299120235, 1.0), 'new_preds_majority': (0.605931382050785, 0.006842619745845552, 0.9333333333333333, 0.013585638039786511, nan, nan, 0.49673930689546786, 0.9996787664632187), 'new_preds_positive': (0.9936034115138592, 0.9853372434017595, 0.9985141158989599, 0.9918819188191882, nan, nan, 0.007813228604292073, 0.9990362993896563)}\n"
     ]
    },
    {
     "name": "stderr",
     "output_type": "stream",
     "text": [
      "/root/anaconda3/envs/PRO/lib/python3.10/site-packages/sklearn/metrics/_classification.py:1344: UndefinedMetricWarning: Precision is ill-defined and being set to 0.0 due to no predicted samples. Use `zero_division` parameter to control this behavior.\n",
      "  _warn_prf(average, modifier, msg_start, len(result))\n",
      "/root/anaconda3/envs/PRO/lib/python3.10/site-packages/sklearn/metrics/_classification.py:1344: UndefinedMetricWarning: Precision is ill-defined and being set to 0.0 due to no predicted samples. Use `zero_division` parameter to control this behavior.\n",
      "  _warn_prf(average, modifier, msg_start, len(result))\n"
     ]
    },
    {
     "name": "stdout",
     "output_type": "stream",
     "text": [
      "attack_set/infiltration.csv {'kmeans': (0.997755690926579, 0.3333333333333333, 0.4, 0.3636363636363636, nan, nan, 0.33381518363850515, 0.9990362993896563), 'dt': (0.9980763065084963, 0.0, 0.0, 0.0, nan, nan, 0.5, 0.0), 'aew': (0.9983969220904136, 0.3333333333333333, 0.6666666666666666, 0.4444444444444444, nan, nan, 0.33349395010172395, 0.9996787664632187), 'preds_majority': (0.9983969220904136, 0.3333333333333333, 0.6666666666666666, 0.4444444444444444, nan, nan, 0.33349395010172395, 0.9996787664632187), 'preds_positive': (0.997755690926579, 0.3333333333333333, 0.4, 0.3636363636363636, nan, nan, 0.33381518363850515, 0.9990362993896563), 'new_dt': (0.9980763065084963, 0.0, 0.0, 0.0, nan, nan, 0.5, 0.0), 'new_preds_majority': (0.9983969220904136, 0.3333333333333333, 0.6666666666666666, 0.4444444444444444, nan, nan, 0.33349395010172395, 0.9996787664632187), 'new_preds_positive': (0.997755690926579, 0.3333333333333333, 0.4, 0.3636363636363636, nan, nan, 0.33381518363850515, 0.9990362993896563)}\n"
     ]
    },
    {
     "name": "stderr",
     "output_type": "stream",
     "text": [
      "/root/anaconda3/envs/PRO/lib/python3.10/site-packages/sklearn/metrics/_classification.py:1344: UndefinedMetricWarning: Precision is ill-defined and being set to 0.0 due to no predicted samples. Use `zero_division` parameter to control this behavior.\n",
      "  _warn_prf(average, modifier, msg_start, len(result))\n"
     ]
    },
    {
     "name": "stdout",
     "output_type": "stream",
     "text": [
      "attack_set/HOIC_small.csv {'kmeans': (0.5693032910954461, 0.5026702997275204, 0.9171721189221438, 0.649417397120428, nan, nan, 0.3359265304211759, 0.8254766394301278), 'dt': (0.20641785235479826, 0.0, 0.0, 0.0, nan, nan, 0.5, 0.0), 'aew': (0.6531159451628249, 0.6163487738419619, 0.9201855015865267, 0.7382265591854051, nan, nan, 0.29459116933294743, 0.7944688874921433), 'preds_majority': (0.5693897850624919, 0.5026702997275204, 0.9173545499751368, 0.6494631226896672, nan, nan, 0.3357170185837571, 0.8258956631049654), 'preds_positive': (0.653029451195779, 0.6163487738419619, 0.9200357927275685, 0.7381783767907841, nan, nan, 0.29480068117036623, 0.7940498638173057), 'new_dt': (0.550880076114691, 0.48463215258855585, 0.9055086040118114, 0.6313584892265095, nan, nan, 0.3548974162680518, 0.8055730148753405), 'new_preds_majority': (0.6117285819314103, 0.5641961852861035, 0.9134462678665961, 0.6975475003368818, nan, nan, 0.3206674636108766, 0.7944688874921433), 'new_preds_positive': (0.7676339575314621, 0.7760217983651226, 0.9185318970521834, 0.8412843765692849, nan, nan, 0.24429582614741988, 0.7353865493400377)}\n"
     ]
    },
    {
     "name": "stderr",
     "output_type": "stream",
     "text": [
      "/root/anaconda3/envs/PRO/lib/python3.10/site-packages/sklearn/metrics/_classification.py:1344: UndefinedMetricWarning: Precision is ill-defined and being set to 0.0 due to no predicted samples. Use `zero_division` parameter to control this behavior.\n",
      "  _warn_prf(average, modifier, msg_start, len(result))\n"
     ]
    },
    {
     "name": "stdout",
     "output_type": "stream",
     "text": [
      "attack_set/BruteForce-Web.csv {'kmeans': (0.9813994685562445, 0.781021897810219, 0.9861751152073732, 0.8716904276985743, nan, nan, 0.10997090140006235, 0.9990362993896563), 'dt': (0.9191024505462061, 0.0, 0.0, 0.0, nan, nan, 0.5, 0.0), 'aew': (0.9790374963094184, 0.7445255474452555, 0.9951219512195122, 0.8517745302713987, nan, nan, 0.1278978430457629, 0.9996787664632187), 'preds_majority': (0.9790374963094184, 0.7445255474452555, 0.9951219512195122, 0.8517745302713987, nan, nan, 0.1278978430457629, 0.9996787664632187), 'preds_positive': (0.9813994685562445, 0.781021897810219, 0.9861751152073732, 0.8716904276985743, nan, nan, 0.10997090140006235, 0.9990362993896563), 'new_dt': (0.9586654856805432, 0.48905109489051096, 1.0, 0.6568627450980392, nan, nan, 0.25547445255474455, 1.0), 'new_preds_majority': (0.9790374963094184, 0.7445255474452555, 0.9951219512195122, 0.8517745302713987, nan, nan, 0.1278978430457629, 0.9996787664632187), 'new_preds_positive': (0.9813994685562445, 0.781021897810219, 0.9861751152073732, 0.8716904276985743, nan, nan, 0.10997090140006235, 0.9990362993896563)}\n"
     ]
    },
    {
     "name": "stderr",
     "output_type": "stream",
     "text": [
      "/root/anaconda3/envs/PRO/lib/python3.10/site-packages/sklearn/metrics/_classification.py:1344: UndefinedMetricWarning: Precision is ill-defined and being set to 0.0 due to no predicted samples. Use `zero_division` parameter to control this behavior.\n",
      "  _warn_prf(average, modifier, msg_start, len(result))\n",
      "/root/anaconda3/envs/PRO/lib/python3.10/site-packages/sklearn/metrics/_classification.py:1344: UndefinedMetricWarning: Precision is ill-defined and being set to 0.0 due to no predicted samples. Use `zero_division` parameter to control this behavior.\n",
      "  _warn_prf(average, modifier, msg_start, len(result))\n"
     ]
    },
    {
     "name": "stdout",
     "output_type": "stream",
     "text": [
      "attack_set/LOIC_UDP_small.csv {'kmeans': (0.998716714789862, 0.75, 0.5, 0.6, nan, nan, 0.12548185030517184, 0.9990362993896563), 'dt': (0.998716714789862, 0.0, 0.0, 0.0, nan, nan, 0.5, 0.0), 'aew': (0.9993583573949311, 0.75, 0.75, 0.75, nan, nan, 0.12516061676839063, 0.9996787664632187), 'preds_majority': (0.9993583573949311, 0.75, 0.75, 0.75, nan, nan, 0.12516061676839063, 0.9996787664632187), 'preds_positive': (0.998716714789862, 0.75, 0.5, 0.6, nan, nan, 0.12548185030517184, 0.9990362993896563), 'new_dt': (0.998716714789862, 0.0, 0.0, 0.0, nan, nan, 0.5, 0.0), 'new_preds_majority': (0.9993583573949311, 0.75, 0.75, 0.75, nan, nan, 0.12516061676839063, 0.9996787664632187), 'new_preds_positive': (0.998716714789862, 0.75, 0.5, 0.6, nan, nan, 0.12548185030517184, 0.9990362993896563)}\n"
     ]
    },
    {
     "name": "stderr",
     "output_type": "stream",
     "text": [
      "/root/anaconda3/envs/PRO/lib/python3.10/site-packages/sklearn/metrics/_classification.py:1344: UndefinedMetricWarning: Precision is ill-defined and being set to 0.0 due to no predicted samples. Use `zero_division` parameter to control this behavior.\n",
      "  _warn_prf(average, modifier, msg_start, len(result))\n"
     ]
    },
    {
     "name": "stdout",
     "output_type": "stream",
     "text": [
      "attack_set/SQL_Injection.csv {'kmeans': (0.9984111852557992, 0.9411764705882353, 0.9142857142857143, 0.9275362318840579, nan, nan, 0.02989361501105419, 0.9990362993896563), 'dt': (0.9891960597394344, 0.0, 0.0, 0.0, nan, nan, 0.5, 0.0), 'aew': (0.9990467111534795, 0.9411764705882353, 0.9696969696969697, 0.955223880597015, nan, nan, 0.029572381474272984, 0.9996787664632187), 'preds_majority': (0.9990467111534795, 0.9411764705882353, 0.9696969696969697, 0.955223880597015, nan, nan, 0.029572381474272984, 0.9996787664632187), 'preds_positive': (0.9984111852557992, 0.9411764705882353, 0.9142857142857143, 0.9275362318840579, nan, nan, 0.02989361501105419, 0.9990362993896563), 'new_dt': (0.9993644741023197, 0.9411764705882353, 1.0, 0.9696969696969697, nan, nan, 0.029411764705882353, 1.0), 'new_preds_majority': (0.9990467111534795, 0.9411764705882353, 0.9696969696969697, 0.955223880597015, nan, nan, 0.029572381474272984, 0.9996787664632187), 'new_preds_positive': (0.9984111852557992, 0.9411764705882353, 0.9142857142857143, 0.9275362318840579, nan, nan, 0.02989361501105419, 0.9990362993896563)}\n"
     ]
    },
    {
     "name": "stderr",
     "output_type": "stream",
     "text": [
      "/root/anaconda3/envs/PRO/lib/python3.10/site-packages/sklearn/metrics/_classification.py:1344: UndefinedMetricWarning: Precision is ill-defined and being set to 0.0 due to no predicted samples. Use `zero_division` parameter to control this behavior.\n",
      "  _warn_prf(average, modifier, msg_start, len(result))\n"
     ]
    },
    {
     "name": "stdout",
     "output_type": "stream",
     "text": [
      "attack_set/ssldosA.csv {'kmeans': (0.9914094813872096, 0.2, 0.6666666666666666, 0.30769230769230765, nan, nan, 0.40048185030517186, 0.9990362993896563), 'dt': (0.9904549793191219, 0.0, 0.0, 0.0, nan, nan, 0.5, 0.0), 'aew': (0.9923639834552975, 0.23333333333333334, 0.875, 0.3684210526315789, nan, nan, 0.383493950101724, 0.9996787664632187), 'preds_majority': (0.9920458160992682, 0.2, 0.8571428571428571, 0.32432432432432434, nan, nan, 0.40016061676839065, 0.9996787664632187), 'preds_positive': (0.9917276487432389, 0.23333333333333334, 0.7, 0.35, nan, nan, 0.3838151836385052, 0.9990362993896563), 'new_dt': (0.9942729875914731, 0.4, 1.0, 0.5714285714285715, nan, nan, 0.3, 1.0), 'new_preds_majority': (0.9920458160992682, 0.2, 0.8571428571428571, 0.32432432432432434, nan, nan, 0.40016061676839065, 0.9996787664632187), 'new_preds_positive': (0.9936366528794146, 0.43333333333333335, 0.8125, 0.5652173913043479, nan, nan, 0.28381518363850516, 0.9990362993896563)}\n",
      "attack_set/fuzzscan.csv {'kmeans': (0.4793388429752066, 0.006430868167202572, 0.88, 0.01276842716192687, nan, nan, 0.49726641622157053, 0.9990362993896563), 'dt': (0.9801040710131619, 0.9619994153756212, 1.0, 0.980631704410012, nan, nan, 0.01900029231218942, 1.0), 'aew': (0.4796449341903887, 0.006430868167202572, 0.9565217391304348, 0.012775842044134726, nan, nan, 0.4969451826847893, 0.9996787664632187), 'preds_majority': (0.4796449341903887, 0.006430868167202572, 0.9565217391304348, 0.012775842044134726, nan, nan, 0.4969451826847893, 0.9996787664632187), 'preds_positive': (0.9830119375573921, 0.9684302835428238, 0.9990952955367913, 0.9835238236603829, nan, nan, 0.01626670853375997, 0.9990362993896563), 'new_dt': (0.9834710743801653, 0.9684302835428238, 1.0, 0.983961983961984, nan, nan, 0.015784858228588133, 1.0), 'new_preds_majority': (0.4796449341903887, 0.006430868167202572, 0.9565217391304348, 0.012775842044134726, nan, nan, 0.4969451826847893, 0.9996787664632187), 'new_preds_positive': (0.9830119375573921, 0.9684302835428238, 0.9990952955367913, 0.9835238236603829, nan, nan, 0.01626670853375997, 0.9990362993896563)}\n"
     ]
    },
    {
     "name": "stderr",
     "output_type": "stream",
     "text": [
      "/root/anaconda3/envs/PRO/lib/python3.10/site-packages/sklearn/metrics/_classification.py:1344: UndefinedMetricWarning: Precision is ill-defined and being set to 0.0 due to no predicted samples. Use `zero_division` parameter to control this behavior.\n",
      "  _warn_prf(average, modifier, msg_start, len(result))\n"
     ]
    },
    {
     "name": "stdout",
     "output_type": "stream",
     "text": [
      "attack_set/BruteForce-XSS.csv {'kmeans': (0.9887464832760238, 0.6162790697674418, 0.9464285714285714, 0.7464788732394365, nan, nan, 0.19234231542145092, 0.9990362993896563), 'dt': (0.9731165989371678, 0.0, 0.0, 0.0, nan, nan, 0.5, 0.0), 'aew': (0.9884338855892466, 0.5813953488372093, 0.9803921568627451, 0.7299270072992701, nan, nan, 0.209462942349786, 0.9996787664632187), 'preds_majority': (0.9884338855892466, 0.5813953488372093, 0.9803921568627451, 0.7299270072992701, nan, nan, 0.209462942349786, 0.9996787664632187), 'preds_positive': (0.9887464832760238, 0.6162790697674418, 0.9464285714285714, 0.7464788732394365, nan, nan, 0.19234231542145092, 0.9990362993896563), 'new_dt': (0.9753047827446076, 0.08139534883720931, 1.0, 0.15053763440860218, nan, nan, 0.45930232558139533, 1.0), 'new_preds_majority': (0.9884338855892466, 0.5813953488372093, 0.9803921568627451, 0.7299270072992701, nan, nan, 0.209462942349786, 0.9996787664632187), 'new_preds_positive': (0.9887464832760238, 0.6162790697674418, 0.9464285714285714, 0.7464788732394365, nan, nan, 0.19234231542145092, 0.9990362993896563)}\n"
     ]
    }
   ],
   "source": [
    "with open(\"attacker-ips.json\", \"r\") as f:\n",
    "    attack_ips_dict = json.load(f)\n",
    "acc_dict = {}\n",
    "\n",
    "for attack_filename in attack_filenames:\n",
    "    df_benign = pd.read_csv(train_benign_filename)\n",
    "    df_attack = pd.read_csv(attack_filename)\n",
    "    df_test = pd.concat([df_benign, df_attack], ignore_index=True)\n",
    "\n",
    "    file_key = os.path.basename(attack_filename).split(\".\")[0]\n",
    "    cur_attack_ips = attack_ips_dict.get(file_key, [])\n",
    "    df_test[\"label\"] = 0\n",
    "    for row in df_test.iterrows():\n",
    "        if row[1][\"src_ip\"] in cur_attack_ips or row[1][\"dst_ip\"] in cur_attack_ips:\n",
    "            df_test.loc[row[0], \"label\"] = -1\n",
    "        else:\n",
    "            df_test.loc[row[0], \"label\"] = 1\n",
    "    \n",
    "    test_packet_data, test_packet_labels, test_flow_data, test_flow_labels \\\n",
    "    = transform(get_flows(df_test), data_type=\"test\", test_data_aug=USE_DATA_AUG)\n",
    "    test_data =  test_flow_data + test_packet_data\n",
    "    test_labels = test_flow_labels + test_packet_labels\n",
    "    \n",
    "    acc = test_ensemble(test_data, test_labels, \n",
    "                        kmeans_save_path, aew_input_dim, aew_save_dir, \n",
    "                        dt_save_path, train_data, train_labels, \n",
    "                        os.path.basename(attack_filename),\n",
    "                        test_data_aug=USE_DATA_AUG)\n",
    "    \n",
    "    acc_dict[attack_filename] = acc\n",
    "    print(attack_filename, acc)\n",
    "    \n",
    "metrics_save_path = os.path.join(\"result\", \"semi-ensemble\", train_attack_filename, \n",
    "                    \"all-metrics.json\")\n",
    "os.makedirs(os.path.dirname(metrics_save_path), exist_ok=True)\n",
    "with open(metrics_save_path, \"w\") as f:\n",
    "    json.dump(acc_dict, f, indent=4)"
   ]
  },
  {
   "cell_type": "code",
   "execution_count": 19,
   "metadata": {},
   "outputs": [
    {
     "name": "stdout",
     "output_type": "stream",
     "text": [
      "accuracy of train_set/benign1.csv: 0.9630443467838594\n",
      "accuracy of train_set/benign2.csv: 0.9627244340359095\n",
      "accuracy of dataset_lite/mirai-benign.csv: 0.964148620265083\n",
      "accuracy of dataset_lite/BruteForce-Web.csv: 0.9854014598540146\n",
      "accuracy of dataset_lite/BruteForce-XSS.csv: 0.9767441860465116\n",
      "accuracy of dataset_lite/infiltration.csv: 0.8333333333333334\n",
      "accuracy of dataset_lite/osscan.csv: 0.007331378299120235\n",
      "accuracy of dataset_lite/SQL_Injection.csv: 0.9411764705882353\n",
      "accuracy of dataset_lite/ssldosA10only.csv: 0.8260869565217391\n",
      "accuracy of dataset_lite/mirai-attack.csv: 0.03410001602820965\n"
     ]
    }
   ],
   "source": [
    "USE_DATA_AUG = True\n",
    "detect_type = \"ensemble\" if USE_DATA_AUG else \"ensemble-no-aug\"\n",
    "accuracy_dict = {}\n",
    "\n",
    "for test_benign_filename in benign_filenames:\n",
    "    test_df = pd.read_csv(test_benign_filename)\n",
    "    test_df[\"label\"] = 1\n",
    "    test_packet_data, test_packet_lables, test_flow_data, test_flow_labels \\\n",
    "    = transform(get_flows(test_df), data_type=\"test\", test_data_aug=USE_DATA_AUG)\n",
    "    test_data = test_flow_data if not USE_SHORT_FLOW else test_flow_data + test_packet_data\n",
    "    test_labels = test_flow_labels if not USE_SHORT_FLOW else test_flow_labels + test_packet_lables\n",
    "    acc = test_ensemble(test_data, test_labels, kmeans_save_path, dt_save_path,\n",
    "            model, device, criterion, threshold, whisper_config, test_data_aug=USE_DATA_AUG)\n",
    "    print(f\"accuracy of {test_benign_filename}: {acc}\")\n",
    "    accuracy_dict[test_benign_filename] = acc\n",
    "\n",
    "for test_attack_filename in attack_filenames:\n",
    "    test_df = pd.read_csv(test_attack_filename)\n",
    "    test_df[\"label\"] = -1\n",
    "    test_packet_data, test_packet_lables, test_flow_data, test_flow_labels \\\n",
    "    = transform(get_flows(test_df), data_type=\"test\", test_data_aug=USE_DATA_AUG)\n",
    "    test_data = test_flow_data if not USE_SHORT_FLOW else test_flow_data + test_packet_data\n",
    "    test_labels = test_flow_labels if not USE_SHORT_FLOW else test_flow_labels + test_packet_lables\n",
    "    acc = test_ensemble(test_data, test_labels, kmeans_save_path, dt_save_path,\n",
    "            model, device, criterion, threshold, whisper_config, test_data_aug=USE_DATA_AUG)\n",
    "    print(f\"accuracy of {test_attack_filename}: {acc}\")\n",
    "    accuracy_dict[test_attack_filename] = acc\n",
    "\n",
    "accuracy_base_name = \"flow-accuracy.json\" if not USE_SHORT_FLOW else \"all-accuracy.json\"\n",
    "accuracy_save_path = os.path.join(\"result\", \"whisper\", detect_type, os.path.basename(train_benign_filename), accuracy_base_name)\n",
    "os.makedirs(os.path.dirname(accuracy_save_path), exist_ok=True)\n",
    "with open(accuracy_save_path, \"w\") as f:\n",
    "    json.dump(accuracy_dict, f, indent=4)"
   ]
  }
 ],
 "metadata": {
  "kernelspec": {
   "display_name": "PRO",
   "language": "python",
   "name": "python3"
  },
  "language_info": {
   "codemirror_mode": {
    "name": "ipython",
    "version": 3
   },
   "file_extension": ".py",
   "mimetype": "text/x-python",
   "name": "python",
   "nbconvert_exporter": "python",
   "pygments_lexer": "ipython3",
   "version": "3.10.9"
  },
  "orig_nbformat": 4
 },
 "nbformat": 4,
 "nbformat_minor": 2
}
