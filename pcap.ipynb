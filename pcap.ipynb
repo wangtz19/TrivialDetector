{
 "cells": [
  {
   "cell_type": "code",
   "execution_count": null,
   "metadata": {},
   "outputs": [],
   "source": [
    "from utils import pcap2csv_by_dpkt\n",
    "import os\n",
    "\n",
    "# filename = \"dataset/benign_small.pcapng\"\n",
    "# pcap2csv_by_dpkt(filename, pcapng=True)\n",
    "\n",
    "# dir_name = \"attack_set\"\n",
    "dir_name = \"cic-ids\"\n",
    "for filename in os.listdir(dir_name):\n",
    "    if filename.endswith(\"pcap\"):\n",
    "        print(filename)\n",
    "        pcap2csv_by_dpkt(os.path.join(dir_name, filename))\n",
    "    elif filename.endswith(\"pcapng\"):\n",
    "        print(filename)\n",
    "        pcap2csv_by_dpkt(os.path.join(dir_name, filename), pcapng=True)"
   ]
  },
  {
   "cell_type": "code",
   "execution_count": 3,
   "metadata": {},
   "outputs": [],
   "source": [
    "pcap2csv_by_dpkt(\"cic-ids-benign/benign.pcapng\", pcapng=True)"
   ]
  },
  {
   "cell_type": "code",
   "execution_count": 3,
   "metadata": {},
   "outputs": [
    {
     "name": "stdout",
     "output_type": "stream",
     "text": [
      "dataset_lite/osscan.pcap\n",
      "dataset_lite/SQL_Injection.pcap\n",
      "dataset_lite/BruteForce-Web.pcap\n",
      "dataset_lite/ssldosA10only.pcap\n",
      "dataset_lite/BruteForce-XSS.pcap\n",
      "dataset_lite/infiltration.pcap\n"
     ]
    },
    {
     "ename": "ValueError",
     "evalue": "invalid tcpdump header",
     "output_type": "error",
     "traceback": [
      "\u001b[0;31m---------------------------------------------------------------------------\u001b[0m",
      "\u001b[0;31mValueError\u001b[0m                                Traceback (most recent call last)",
      "Cell \u001b[0;32mIn[3], line 6\u001b[0m\n\u001b[1;32m      4\u001b[0m file_path \u001b[39m=\u001b[39m os\u001b[39m.\u001b[39mpath\u001b[39m.\u001b[39mjoin(\u001b[39m\"\u001b[39m\u001b[39mdataset_lite\u001b[39m\u001b[39m\"\u001b[39m, filename)\n\u001b[1;32m      5\u001b[0m \u001b[39mprint\u001b[39m(file_path)\n\u001b[0;32m----> 6\u001b[0m pcap2csv_by_dpkt(file_path)\n",
      "File \u001b[0;32m~/wtz/Project/utils.py:33\u001b[0m, in \u001b[0;36mpcap2csv_by_dpkt\u001b[0;34m(filename, save_path, pcapng)\u001b[0m\n\u001b[1;32m     31\u001b[0m \u001b[39mdef\u001b[39;00m \u001b[39mpcap2csv_by_dpkt\u001b[39m(filename: \u001b[39mstr\u001b[39m, save_path: \u001b[39mstr\u001b[39m \u001b[39m=\u001b[39m \u001b[39mNone\u001b[39;00m, pcapng: \u001b[39mbool\u001b[39m \u001b[39m=\u001b[39m \u001b[39mFalse\u001b[39;00m) \u001b[39m-\u001b[39m\u001b[39m>\u001b[39m \u001b[39mNone\u001b[39;00m:\n\u001b[1;32m     32\u001b[0m     \u001b[39mif\u001b[39;00m \u001b[39mnot\u001b[39;00m pcapng:\n\u001b[0;32m---> 33\u001b[0m         fpcap \u001b[39m=\u001b[39m dpkt\u001b[39m.\u001b[39;49mpcap\u001b[39m.\u001b[39;49mReader(\u001b[39mopen\u001b[39;49m(filename, \u001b[39m\"\u001b[39;49m\u001b[39mrb\u001b[39;49m\u001b[39m\"\u001b[39;49m))\n\u001b[1;32m     34\u001b[0m         suffix \u001b[39m=\u001b[39m \u001b[39m\"\u001b[39m\u001b[39m.pcap\u001b[39m\u001b[39m\"\u001b[39m\n\u001b[1;32m     35\u001b[0m     \u001b[39melse\u001b[39;00m:\n",
      "File \u001b[0;32m~/anaconda3/envs/PRO/lib/python3.10/site-packages/dpkt/pcap.py:328\u001b[0m, in \u001b[0;36mReader.__init__\u001b[0;34m(self, fileobj)\u001b[0m\n\u001b[1;32m    325\u001b[0m     \u001b[39mself\u001b[39m\u001b[39m.\u001b[39m__fh \u001b[39m=\u001b[39m LEFileHdr(buf)\n\u001b[1;32m    327\u001b[0m \u001b[39mif\u001b[39;00m magic \u001b[39mnot\u001b[39;00m \u001b[39min\u001b[39;00m MAGIC_TO_PKT_HDR:\n\u001b[0;32m--> 328\u001b[0m     \u001b[39mraise\u001b[39;00m \u001b[39mValueError\u001b[39;00m(\u001b[39m'\u001b[39m\u001b[39minvalid tcpdump header\u001b[39m\u001b[39m'\u001b[39m)\n\u001b[1;32m    330\u001b[0m \u001b[39mself\u001b[39m\u001b[39m.\u001b[39m__ph \u001b[39m=\u001b[39m MAGIC_TO_PKT_HDR[magic]\n\u001b[1;32m    333\u001b[0m \u001b[39mif\u001b[39;00m \u001b[39mself\u001b[39m\u001b[39m.\u001b[39m__fh\u001b[39m.\u001b[39mlinktype \u001b[39min\u001b[39;00m dltoff:\n",
      "\u001b[0;31mValueError\u001b[0m: invalid tcpdump header"
     ]
    }
   ],
   "source": [
    "import os\n",
    "filenames = list(filter(lambda x: x.endswith(\".pcap\") or x.endswith(\".pcapng\"), os.listdir(\"dataset_lite\")))\n",
    "for filename in filenames:\n",
    "    file_path = os.path.join(\"dataset_lite\", filename)\n",
    "    pcapng = file_path.endswith(\".pcapng\")\n",
    "    pcap2csv_by_dpkt(file_path, pcapng=pcapng)"
   ]
  },
  {
   "attachments": {},
   "cell_type": "markdown",
   "metadata": {},
   "source": [
    "test pcap parsing functions"
   ]
  },
  {
   "cell_type": "code",
   "execution_count": 18,
   "metadata": {},
   "outputs": [],
   "source": [
    "import dpkt\n",
    "import socket\n",
    "import struct\n",
    "import os\n",
    "import pandas as pd\n",
    "\n",
    "type_identity_mp = {\n",
    "    \"TYPE_TCP_SYN\": 1,\n",
    "    \"TYPE_TCP_FIN\": 40,\n",
    "    \"TYPE_TCP_RST\": 1,\n",
    "    \"TYPE_TCP_ACK\": 1000,\n",
    "    \"TYPE_TCP\": 1000,\n",
    "    \"TYPE_UDP\": 3,\n",
    "    \"TYPE_ICMP\": 10,\n",
    "    \"TYPE_IGMP\": 9,\n",
    "    \"TYPE_UNKNOWN\": 10,\n",
    "}"
   ]
  },
  {
   "cell_type": "code",
   "execution_count": 45,
   "metadata": {},
   "outputs": [],
   "source": [
    "def pcap2csv(filename: str, save_path: str = None, pcapng: bool = False) -> None:\n",
    "    if not pcapng:\n",
    "        fpcap = dpkt.pcap.Reader(open(filename, \"rb\"))\n",
    "        suffix = \".pcap\"\n",
    "    else:\n",
    "        fpcap = dpkt.pcapng.Reader(open(filename, \"rb\"))\n",
    "        suffix = \".pcapng\"\n",
    "    all_fields = []\n",
    "    for ts, buf in fpcap:\n",
    "        eth = dpkt.ethernet.Ethernet(buf)\n",
    "        if eth.type != dpkt.ethernet.ETH_TYPE_IP:\n",
    "            continue\n",
    "        ip = eth.data\n",
    "        src_port = \"\"\n",
    "        dst_port = \"\"\n",
    "        protocol = ip.p\n",
    "        proto_code = type_identity_mp[\"TYPE_UNKNOWN\"]\n",
    "        if ip.p == dpkt.ip.IP_PROTO_TCP:\n",
    "            tcp = ip.data\n",
    "            src_port = tcp.sport\n",
    "            dst_port = tcp.dport\n",
    "            # check tcp flags\n",
    "            if tcp.flags & dpkt.tcp.TH_SYN:\n",
    "                proto_code = type_identity_mp[\"TYPE_TCP_SYN\"]\n",
    "            elif tcp.flags & dpkt.tcp.TH_FIN:\n",
    "                proto_code = type_identity_mp[\"TYPE_TCP_FIN\"]\n",
    "            elif tcp.flags & dpkt.tcp.TH_RST:\n",
    "                proto_code = type_identity_mp[\"TYPE_TCP_RST\"]\n",
    "            else:\n",
    "                proto_code = type_identity_mp[\"TYPE_TCP\"]\n",
    "        elif ip.p == dpkt.ip.IP_PROTO_UDP:\n",
    "            udp = ip.data\n",
    "            if not isinstance(udp, dpkt.udp.UDP):\n",
    "                print(\"udp is not instance of dpkt.udp.UDP\")\n",
    "                print(f\"protocol: {ip.p}\")\n",
    "                continue\n",
    "            src_port = udp.sport\n",
    "            dst_port = udp.dport\n",
    "            proto_code = type_identity_mp[\"TYPE_UDP\"]\n",
    "        else:\n",
    "            proto_code = type_identity_mp[\"TYPE_UNKNOWN\"]\n",
    "\n",
    "        src_addr = struct.unpack(\"!I\", ip.src)[0]\n",
    "        dst_addr = struct.unpack(\"!I\", ip.dst)[0]\n",
    "        src_ip = socket.inet_ntoa(ip.src)\n",
    "        dst_ip = socket.inet_ntoa(ip.dst)\n",
    "        pkt_length = len(buf)\n",
    "        all_fields.append([src_addr, dst_addr, src_ip, dst_ip, src_port, dst_port, protocol, proto_code, pkt_length, ts])\n",
    "    if save_path is None:\n",
    "        try:\n",
    "            os.makedirs(os.path.dirname(filename), exist_ok=True)\n",
    "        except:\n",
    "            pass\n",
    "    sp = save_path if save_path is not None else filename.replace(suffix, \".csv\")\n",
    "    pd.DataFrame(all_fields).to_csv(sp, sep=\",\"\n",
    "                , header=[\"src_addr\", \"dst_addr\", \"src_ip\", \"dst_ip\", \"src_port\", \"dst_port\", \n",
    "                        \"protocol\", \"proto_code\", \"pkt_length\", \"timestamp\"], index=False)"
   ]
  },
  {
   "cell_type": "code",
   "execution_count": 41,
   "metadata": {},
   "outputs": [],
   "source": [
    "from scapy.all import IP, TCP, UDP, PcapReader, PcapNgReader\n",
    "\n",
    "def pcap2csv_by_scapy(filename: str, save_path: str = None, pcapng: bool = False):\n",
    "    if not pcapng:\n",
    "        fpcap = PcapReader(filename)\n",
    "        suffix = \".pcap\"\n",
    "    else:\n",
    "        fpcap = PcapNgReader(filename)\n",
    "        suffix = \".pcapng\"\n",
    "    all_fields = []\n",
    "    for pkt in fpcap:\n",
    "        if pkt.haslayer(IP):\n",
    "            ip = pkt[IP]\n",
    "            src_ip = ip.src\n",
    "            dst_ip = ip.dst\n",
    "            src_port = \"\"\n",
    "            dst_port = \"\"\n",
    "            protocol = ip.proto\n",
    "            proto_code = type_identity_mp[\"TYPE_UNKNOWN\"]\n",
    "            if ip.proto == 6:\n",
    "                tcp = pkt[TCP]\n",
    "                src_port = tcp.sport\n",
    "                dst_port = tcp.dport\n",
    "                # check tcp flags\n",
    "                if tcp.flags & 0x02:\n",
    "                    proto_code = type_identity_mp[\"TYPE_TCP_SYN\"]\n",
    "                elif tcp.flags & 0x01:\n",
    "                    proto_code = type_identity_mp[\"TYPE_TCP_FIN\"]\n",
    "                elif tcp.flags & 0x04:\n",
    "                    proto_code = type_identity_mp[\"TYPE_TCP_RST\"]\n",
    "                else:\n",
    "                    proto_code = type_identity_mp[\"TYPE_TCP\"]\n",
    "            elif ip.proto == 17:\n",
    "                if not pkt.haslayer(UDP):\n",
    "                    print(f\"invalid udp packet: {pkt.show()}\")\n",
    "                    continue\n",
    "                udp = pkt[UDP]\n",
    "                src_port = udp.sport\n",
    "                dst_port = udp.dport\n",
    "                proto_code = type_identity_mp[\"TYPE_UDP\"]\n",
    "                # print(f\"udp sport: {udp.sport} -> dport: {udp.dport}\")\n",
    "            else:\n",
    "                proto_code = type_identity_mp[\"TYPE_UNKNOWN\"]\n",
    "            pkt_length = pkt.len\n",
    "        ts = pkt.time\n",
    "        all_fields.append([src_ip, dst_ip, src_port, dst_port, protocol, proto_code, pkt_length, ts])\n",
    "    if save_path is None:\n",
    "        try:\n",
    "            os.makedirs(os.path.dirname(filename), exist_ok=True)\n",
    "        except:\n",
    "            pass\n",
    "    sp = save_path if save_path is not None else filename.replace(suffix, \".csv\")\n",
    "    pd.DataFrame(all_fields).to_csv(sp, sep=\",\"\n",
    "                , header=[\"src_ip\", \"dst_ip\", \"src_port\", \"dst_port\", \n",
    "                        \"protocol\",  \"proto_code\", \"pkt_length\", \"timestamp\"], index=False)"
   ]
  },
  {
   "cell_type": "code",
   "execution_count": null,
   "metadata": {},
   "outputs": [],
   "source": [
    "# from utils import pcap2csv\n",
    "import os\n",
    "import pandas as pd\n",
    "\n",
    "pcap_files = os.listdir(\"dataset\")\n",
    "for pcap_file in pcap_files:\n",
    "    filename = os.path.join(\"dataset\", pcap_file)\n",
    "    print(f\"{filename} is being processed...\")\n",
    "    pcap2csv(filename)"
   ]
  },
  {
   "cell_type": "code",
   "execution_count": 1,
   "metadata": {},
   "outputs": [
    {
     "name": "stdout",
     "output_type": "stream",
     "text": [
      "udp is not instance of dpkt.udp.UDP\n",
      "protocol: 17\n",
      "udp is not instance of dpkt.udp.UDP\n",
      "protocol: 17\n",
      "udp is not instance of dpkt.udp.UDP\n",
      "protocol: 17\n",
      "udp is not instance of dpkt.udp.UDP\n",
      "protocol: 17\n",
      "udp is not instance of dpkt.udp.UDP\n",
      "protocol: 17\n",
      "udp is not instance of dpkt.udp.UDP\n",
      "protocol: 17\n",
      "udp is not instance of dpkt.udp.UDP\n",
      "protocol: 17\n",
      "udp is not instance of dpkt.udp.UDP\n",
      "protocol: 17\n",
      "udp is not instance of dpkt.udp.UDP\n",
      "protocol: 17\n",
      "udp is not instance of dpkt.udp.UDP\n",
      "protocol: 17\n",
      "udp is not instance of dpkt.udp.UDP\n",
      "protocol: 17\n",
      "udp is not instance of dpkt.udp.UDP\n",
      "protocol: 17\n",
      "udp is not instance of dpkt.udp.UDP\n",
      "protocol: 17\n",
      "udp is not instance of dpkt.udp.UDP\n",
      "protocol: 17\n",
      "udp is not instance of dpkt.udp.UDP\n",
      "protocol: 17\n",
      "udp is not instance of dpkt.udp.UDP\n",
      "protocol: 17\n",
      "udp is not instance of dpkt.udp.UDP\n",
      "protocol: 17\n",
      "udp is not instance of dpkt.udp.UDP\n",
      "protocol: 17\n",
      "udp is not instance of dpkt.udp.UDP\n",
      "protocol: 17\n",
      "udp is not instance of dpkt.udp.UDP\n",
      "protocol: 17\n",
      "udp is not instance of dpkt.udp.UDP\n",
      "protocol: 17\n",
      "udp is not instance of dpkt.udp.UDP\n",
      "protocol: 17\n"
     ]
    }
   ],
   "source": [
    "import os\n",
    "import pandas as pd\n",
    "from utils import pcap2csv\n",
    "\n",
    "filename = os.path.join(\"train_set\", \"benign_test.pcapng\")\n",
    "# filename = os.path.join(\"train_set\", \"benign.pcapng\")\n",
    "# filename = os.path.join(\"dataset\", \"cut20200610.pcapng\")\n",
    "pcap2csv(filename, pcapng=True)\n",
    "# pcap2csv_by_scapy(filename, pcapng=True)"
   ]
  },
  {
   "cell_type": "code",
   "execution_count": 6,
   "metadata": {},
   "outputs": [
    {
     "name": "stdout",
     "output_type": "stream",
     "text": [
      "protocol\n",
      "1       25\n",
      "6     2306\n",
      "17       6\n",
      "dtype: int64\n"
     ]
    }
   ],
   "source": [
    "df = pd.read_csv(\"dataset/osscan.csv\")\n",
    "group_protocol = df.groupby(\"protocol\")\n",
    "print(group_protocol.size())"
   ]
  },
  {
   "attachments": {},
   "cell_type": "markdown",
   "metadata": {},
   "source": [
    "parse pcap by tshark"
   ]
  },
  {
   "cell_type": "code",
   "execution_count": 4,
   "metadata": {},
   "outputs": [
    {
     "name": "stdout",
     "output_type": "stream",
     "text": [
      "tshark -r dataset/osscan.pcap  -T fields -e frame.time_epoch -e frame.len -e eth.src -e eth.dst -e ip.src -e ip.dst -e ip.proto -e tcp.srcport -e tcp.dstport -e udp.srcport -e udp.dstport -e ipv6.src -e ipv6.dst -E header=y -E separator=, > dataset/osscan.csv\n"
     ]
    },
    {
     "name": "stderr",
     "output_type": "stream",
     "text": [
      "Running as user \"root\" and group \"root\". This could be dangerous.\n"
     ]
    },
    {
     "data": {
      "text/plain": [
       "0"
      ]
     },
     "execution_count": 4,
     "metadata": {},
     "output_type": "execute_result"
    }
   ],
   "source": [
    "import subprocess\n",
    "import os\n",
    "\n",
    "input_file = os.path.join(\"dataset\", \"osscan.pcap\")\n",
    "output_file = input_file.replace(\".pcap\", \".csv\")\n",
    "fields = \"-e frame.time_epoch -e frame.len -e eth.src -e eth.dst -e ip.src -e ip.dst -e ip.proto -e tcp.srcport -e tcp.dstport -e udp.srcport -e udp.dstport -e ipv6.src -e ipv6.dst\"\n",
    "cmd = f\"tshark -r {input_file}  -T fields {fields} -E header=y -E separator=, > {output_file}\"\n",
    "print(cmd)\n",
    "subprocess.call(cmd, shell=True)"
   ]
  },
  {
   "attachments": {},
   "cell_type": "markdown",
   "metadata": {},
   "source": [
    "preprocess data"
   ]
  },
  {
   "cell_type": "code",
   "execution_count": null,
   "metadata": {},
   "outputs": [],
   "source": [
    "import os\n",
    "import pandas as pd\n",
    "from utils import pcap2csv\n",
    "\n",
    "filenames = os.listdir(\"dataset_lite\")\n",
    "for filename in filenames:\n",
    "    file_path = os.path.join(\"dataset_lite\", filename)\n",
    "    print(f\"{file_path} is being processed...\")\n",
    "    pcap2csv(file_path)"
   ]
  },
  {
   "cell_type": "code",
   "execution_count": 1,
   "metadata": {},
   "outputs": [
    {
     "name": "stdout",
     "output_type": "stream",
     "text": [
      "tshark -r dataset/cut20200610.pcap  -T fields -e frame.time_epoch -e frame.len -e eth.src -e eth.dst -e ip.src -e ip.dst -e ip.proto -e tcp.srcport -e tcp.dstport -e udp.srcport -e udp.dstport -e ipv6.src -e ipv6.dst -E header=y -E separator=, > dataset/cut20200610.csv\n"
     ]
    },
    {
     "name": "stderr",
     "output_type": "stream",
     "text": [
      "Running as user \"root\" and group \"root\". This could be dangerous.\n"
     ]
    }
   ],
   "source": [
    "import os\n",
    "from utils import pcap2csv_by_tshark\n",
    "\n",
    "filename = os.path.join(\"dataset\", \"cut20200610.pcap\")\n",
    "# pcap2csv(filename)\n",
    "pcap2csv_by_tshark(filename)"
   ]
  },
  {
   "cell_type": "code",
   "execution_count": 3,
   "metadata": {},
   "outputs": [
    {
     "name": "stdout",
     "output_type": "stream",
     "text": [
      "osscan.csv\n",
      "src_ip\n",
      "10.0.0.1    1207\n",
      "10.0.0.4    1130\n",
      "dtype: int64\n",
      "ssldosA10only.csv\n",
      "src_ip\n",
      "10.0.0.1    50288\n",
      "dtype: int64\n",
      "BruteForce-Web.csv\n",
      "src_ip\n",
      "172.31.69.28      7388\n",
      "18.218.115.60    10864\n",
      "dtype: int64\n",
      "SQL_Injection.csv\n",
      "src_ip\n",
      "172.31.69.28      75\n",
      "18.218.115.60    103\n",
      "dtype: int64\n",
      "BruteForce-XSS.csv\n",
      "src_ip\n",
      "172.31.69.28     3972\n",
      "18.218.115.60    7727\n",
      "dtype: int64\n"
     ]
    }
   ],
   "source": [
    "import os\n",
    "import pandas as pd\n",
    "\n",
    "csv_files = list(filter(lambda x: x.endswith(\".csv\"), os.listdir(\"dataset_lite\")))\n",
    "for csv_file in csv_files:\n",
    "    df = pd.read_csv(os.path.join(\"dataset_lite\", csv_file))\n",
    "    group_protocol = df.groupby([\"src_ip\"])\n",
    "    print(f\"{csv_file}\")\n",
    "    print(group_protocol.size())"
   ]
  },
  {
   "cell_type": "code",
   "execution_count": 4,
   "metadata": {},
   "outputs": [
    {
     "name": "stdout",
     "output_type": "stream",
     "text": [
      "osscan.csv\n",
      "src_addr   dst_addr    src_port  dst_port  protocol\n",
      "167772161  167772164   33900.0   22.0      6            5\n",
      "                       38485.0   22.0      6           10\n",
      "                       38486.0   22.0      6           10\n",
      "                       38487.0   22.0      6           10\n",
      "                       38488.0   22.0      6           10\n",
      "                                                       ..\n",
      "167772164  167772161   64680.0   41237.0   6            1\n",
      "                       65000.0   41237.0   6            1\n",
      "                       65129.0   41237.0   6            1\n",
      "                       65389.0   41237.0   6            1\n",
      "           3758096635  5353.0    5353.0    17           1\n",
      "Length: 2044, dtype: int64\n",
      "ssldosA10only.csv\n",
      "src_addr   dst_addr   src_port  dst_port  protocol\n",
      "167772161  167772162  34508     443       6               4\n",
      "                      36386     443       6               4\n",
      "                      40410     443       6               4\n",
      "                      43044     443       6               4\n",
      "                      43398     443       6               4\n",
      "                      44724     443       6           50188\n",
      "                      44738     443       6               6\n",
      "                      44750     443       6               6\n",
      "                      44766     443       6               6\n",
      "                      44782     443       6               6\n",
      "                      44784     443       6               6\n",
      "                      44800     443       6               6\n",
      "                      44808     443       6               4\n",
      "                      45726     443       6               4\n",
      "                      46916     443       6               4\n",
      "                      47572     443       6               4\n",
      "                      48088     443       6               4\n",
      "                      48892     443       6               4\n",
      "                      48984     443       6               4\n",
      "                      49764     443       6               4\n",
      "                      50002     443       6               4\n",
      "                      50976     443       6               4\n",
      "                      53086     443       6               4\n",
      "dtype: int64\n",
      "BruteForce-Web.csv\n",
      "src_addr    dst_addr    src_port  dst_port  protocol\n",
      "316306236   2887730460  49455     80        6             6\n",
      "                        49456     80        6           155\n",
      "                        49880     80        6             6\n",
      "                        49881     80        6           155\n",
      "                        50296     80        6             6\n",
      "                                                       ... \n",
      "2887730460  316306236   80        64594     6           105\n",
      "                                  65007     6             5\n",
      "                                  65008     6           105\n",
      "                                  65423     6             5\n",
      "                                  65424     6           105\n",
      "Length: 274, dtype: int64\n",
      "SQL_Injection.csv\n",
      "src_addr    dst_addr    src_port  dst_port  protocol\n",
      "316306236   2887730460  59880     80        6           6\n",
      "                        59882     80        6           6\n",
      "                        59884     80        6           6\n",
      "                        59887     80        6           6\n",
      "                        59891     80        6           6\n",
      "                        59895     80        6           6\n",
      "                        59897     80        6           6\n",
      "                        59898     80        6           4\n",
      "                        59901     80        6           6\n",
      "                        59904     80        6           6\n",
      "                        59907     80        6           8\n",
      "                        59912     80        6           6\n",
      "                        59917     80        6           6\n",
      "                        59922     80        6           6\n",
      "                        59923     80        6           7\n",
      "                        59936     80        6           6\n",
      "                        59957     80        6           6\n",
      "2887730460  316306236   80        59880     6           4\n",
      "                                  59882     6           5\n",
      "                                  59884     6           5\n",
      "                                  59887     6           5\n",
      "                                  59891     6           5\n",
      "                                  59895     6           4\n",
      "                                  59897     6           4\n",
      "                                  59898     6           2\n",
      "                                  59901     6           4\n",
      "                                  59904     6           5\n",
      "                                  59907     6           6\n",
      "                                  59912     6           4\n",
      "                                  59917     6           4\n",
      "                                  59922     6           5\n",
      "                                  59923     6           5\n",
      "                                  59936     6           4\n",
      "                                  59957     6           4\n",
      "dtype: int64\n",
      "BruteForce-XSS.csv\n",
      "src_addr    dst_addr    src_port  dst_port  protocol\n",
      "316306236   2887730460  49342     80        6           206\n",
      "                        49650     80        6           206\n",
      "                        49969     80        6           206\n",
      "                        50277     80        6           205\n",
      "                        50589     80        6           205\n",
      "                                                       ... \n",
      "2887730460  316306236   80        64504     6           110\n",
      "                                  64513     6             2\n",
      "                                  64796     6           105\n",
      "                                  65105     6           105\n",
      "                                  65415     6           105\n",
      "Length: 86, dtype: int64\n"
     ]
    }
   ],
   "source": [
    "csv_files = list(filter(lambda x: x.endswith(\".csv\"), os.listdir(\"dataset_lite\")))\n",
    "for csv_file in csv_files:\n",
    "    df = pd.read_csv(os.path.join(\"dataset_lite\", csv_file))\n",
    "    group_protocol = df.groupby([\"src_addr\", \"dst_addr\", \"src_port\", \"dst_port\", \"protocol\"])\n",
    "    print(f\"{csv_file}\")\n",
    "    print(group_protocol.size())"
   ]
  }
 ],
 "metadata": {
  "kernelspec": {
   "display_name": "PRO",
   "language": "python",
   "name": "python3"
  },
  "language_info": {
   "codemirror_mode": {
    "name": "ipython",
    "version": 3
   },
   "file_extension": ".py",
   "mimetype": "text/x-python",
   "name": "python",
   "nbconvert_exporter": "python",
   "pygments_lexer": "ipython3",
   "version": "3.10.9"
  },
  "orig_nbformat": 4,
  "vscode": {
   "interpreter": {
    "hash": "4c4067ac78a363bc0422166851ee04b79641d0bfa5e795e52c96a7ffb7a6500a"
   }
  }
 },
 "nbformat": 4,
 "nbformat_minor": 2
}
